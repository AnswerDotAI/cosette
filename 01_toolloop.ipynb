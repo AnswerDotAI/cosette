{
 "cells": [
  {
   "cell_type": "code",
   "execution_count": null,
   "id": "efe78920",
   "metadata": {},
   "outputs": [],
   "source": [
    "#|default_exp toolloop"
   ]
  },
  {
   "cell_type": "markdown",
   "id": "3d773712-12fe-440e-891f-36f59666dfde",
   "metadata": {},
   "source": [
    "# Tool loop"
   ]
  },
  {
   "cell_type": "code",
   "execution_count": null,
   "id": "033c76fd",
   "metadata": {},
   "outputs": [],
   "source": [
    "#| export\n",
    "from cosette.core import *\n",
    "from fastcore.utils import *\n",
    "from fastcore.meta import delegates\n",
    "from fastcore.xtras import save_iter"
   ]
  },
  {
   "cell_type": "code",
   "execution_count": null,
   "id": "b7951c8f",
   "metadata": {},
   "outputs": [],
   "source": [
    "from IPython.display import display, Markdown, clear_output\n",
    "from pprint import pprint"
   ]
  },
  {
   "cell_type": "code",
   "execution_count": null,
   "id": "596a22f4",
   "metadata": {},
   "outputs": [
    {
     "data": {
      "text/plain": [
       "'o1-preview o1-mini gpt-4o gpt-4o-mini gpt-4-turbo gpt-4 gpt-4-32k gpt-3.5-turbo gpt-3.5-turbo-instruct o1 o3-mini chatgpt-4o-latest o1-pro o3 o4-mini gpt-4.1 gpt-4.1-mini gpt-4.1-nano'"
      ]
     },
     "execution_count": null,
     "metadata": {},
     "output_type": "execute_result"
    }
   ],
   "source": [
    "' '.join(models)"
   ]
  },
  {
   "cell_type": "code",
   "execution_count": null,
   "id": "f998b27f",
   "metadata": {},
   "outputs": [],
   "source": [
    "model = 'gpt-4.1'"
   ]
  },
  {
   "cell_type": "markdown",
   "id": "a49b64b5",
   "metadata": {},
   "source": [
    "## Sample Data"
   ]
  },
  {
   "cell_type": "code",
   "execution_count": null,
   "id": "34342c4b",
   "metadata": {},
   "outputs": [],
   "source": [
    "def _get_orders_customers():\n",
    "    orders = {\n",
    "        \"O1\": dict(id=\"O1\", product=\"Widget A\", quantity=2, price=19.99, status=\"Shipped\"),\n",
    "        \"O2\": dict(id=\"O2\", product=\"Gadget B\", quantity=1, price=49.99, status=\"Processing\"),\n",
    "        \"O3\": dict(id=\"O3\", product=\"Gadget B\", quantity=2, price=49.99, status=\"Shipped\")}\n",
    "\n",
    "    customers = {\n",
    "        \"C1\": dict(name=\"John Doe\", email=\"john@example.com\", phone=\"123-456-7890\",\n",
    "                   orders=[orders['O1'], orders['O2']]),\n",
    "        \"C2\": dict(name=\"Jane Smith\", email=\"jane@example.com\", phone=\"987-654-3210\",\n",
    "                   orders=[orders['O3']])\n",
    "    }\n",
    "    return orders, customers"
   ]
  },
  {
   "cell_type": "code",
   "execution_count": null,
   "id": "207f9715",
   "metadata": {},
   "outputs": [],
   "source": [
    "orders, customers = _get_orders_customers()"
   ]
  },
  {
   "cell_type": "code",
   "execution_count": null,
   "id": "2778dde0",
   "metadata": {},
   "outputs": [],
   "source": [
    "def get_customer_info(\n",
    "    customer_id:str # ID of the customer\n",
    "): # Customer's name, email, phone number, and list of orders\n",
    "    \"Retrieves a customer's information and their orders based on the customer ID\"\n",
    "    print(f'- Retrieving customer {customer_id}')\n",
    "    return customers.get(customer_id, \"Customer not found\")\n",
    "\n",
    "def get_order_details(\n",
    "    order_id:str # ID of the order\n",
    "): # Order's ID, product name, quantity, price, and order status\n",
    "    \"Retrieves the details of a specific order based on the order ID\"\n",
    "    print(f'- Retrieving order {order_id}')\n",
    "    return orders.get(order_id, \"Order not found\")\n",
    "\n",
    "def cancel_order(\n",
    "    order_id:str # ID of the order to cancel\n",
    ")->bool: # True if the cancellation is successful\n",
    "    \"Cancels an order based on the provided order ID\"\n",
    "    print(f'- Cancelling order {order_id}')\n",
    "    if order_id not in orders: return False\n",
    "    orders[order_id]['status'] = 'Cancelled'\n",
    "    return True"
   ]
  },
  {
   "cell_type": "code",
   "execution_count": null,
   "id": "8a623e95",
   "metadata": {},
   "outputs": [
    {
     "data": {
      "text/plain": [
       "'gpt-4.1'"
      ]
     },
     "execution_count": null,
     "metadata": {},
     "output_type": "execute_result"
    }
   ],
   "source": [
    "model"
   ]
  },
  {
   "cell_type": "code",
   "execution_count": null,
   "id": "a4231dff",
   "metadata": {},
   "outputs": [],
   "source": [
    "tools = [get_customer_info, get_order_details, cancel_order]\n",
    "chat = Chat(model, tools=tools)"
   ]
  },
  {
   "cell_type": "code",
   "execution_count": null,
   "id": "1a27c80b",
   "metadata": {},
   "outputs": [
    {
     "data": {
      "text/markdown": [
       "Hello! How can I assist you today?\n",
       "\n",
       "<details>\n",
       "\n",
       "- id: resp_6858d51dabd48191a071f3cf8357a1e101962923ea927335\n",
       "- created_at: 1750652189.0\n",
       "- error: None\n",
       "- incomplete_details: None\n",
       "- instructions: None\n",
       "- metadata: {}\n",
       "- model: gpt-4.1-2025-04-14\n",
       "- object: response\n",
       "- output: [ResponseOutputMessage(id='msg_6858d51e034c81919daf1363ea38a31f01962923ea927335', content=[ResponseOutputText(annotations=[], text='Hello! How can I assist you today?', type='output_text', logprobs=None)], role='assistant', status='completed', type='message')]\n",
       "- parallel_tool_calls: True\n",
       "- temperature: 1.0\n",
       "- tool_choice: auto\n",
       "- tools: [FunctionTool(name='get_customer_info', parameters={'type': 'object', 'properties': {'customer_id': {'type': 'string', 'description': 'ID of the customer'}}, 'required': ['customer_id']}, strict=True, type='function', description=\"Retrieves a customer's information and their orders based on the customer ID\"), FunctionTool(name='get_order_details', parameters={'type': 'object', 'properties': {'order_id': {'type': 'string', 'description': 'ID of the order'}}, 'required': ['order_id']}, strict=True, type='function', description='Retrieves the details of a specific order based on the order ID'), FunctionTool(name='cancel_order', parameters={'type': 'object', 'properties': {'order_id': {'type': 'string', 'description': 'ID of the order to cancel'}}, 'required': ['order_id']}, strict=True, type='function', description='Cancels an order based on the provided order ID\\n\\nReturns:\\n- type: boolean')]\n",
       "- top_p: 1.0\n",
       "- background: False\n",
       "- max_output_tokens: 4096\n",
       "- previous_response_id: None\n",
       "- prompt: None\n",
       "- reasoning: Reasoning(effort=None, generate_summary=None, summary=None)\n",
       "- service_tier: default\n",
       "- status: completed\n",
       "- text: ResponseTextConfig(format=ResponseFormatText(type='text'))\n",
       "- truncation: disabled\n",
       "- usage: ResponseUsage(input_tokens=131, input_tokens_details=InputTokensDetails(cached_tokens=0), output_tokens=11, output_tokens_details=OutputTokensDetails(reasoning_tokens=0), total_tokens=142)\n",
       "- user: None\n",
       "- store: True\n",
       "\n",
       "</details>"
      ],
      "text/plain": [
       "Response(id='resp_6858d51dabd48191a071f3cf8357a1e101962923ea927335', created_at=1750652189.0, error=None, incomplete_details=None, instructions=None, metadata={}, model='gpt-4.1-2025-04-14', object='response', output=[ResponseOutputMessage(id='msg_6858d51e034c81919daf1363ea38a31f01962923ea927335', content=[ResponseOutputText(annotations=[], text='Hello! How can I assist you today?', type='output_text', logprobs=None)], role='assistant', status='completed', type='message')], parallel_tool_calls=True, temperature=1.0, tool_choice='auto', tools=[FunctionTool(name='get_customer_info', parameters={'type': 'object', 'properties': {'customer_id': {'type': 'string', 'description': 'ID of the customer'}}, 'required': ['customer_id']}, strict=True, type='function', description=\"Retrieves a customer's information and their orders based on the customer ID\"), FunctionTool(name='get_order_details', parameters={'type': 'object', 'properties': {'order_id': {'type': 'string', 'description': 'ID of the order'}}, 'required': ['order_id']}, strict=True, type='function', description='Retrieves the details of a specific order based on the order ID'), FunctionTool(name='cancel_order', parameters={'type': 'object', 'properties': {'order_id': {'type': 'string', 'description': 'ID of the order to cancel'}}, 'required': ['order_id']}, strict=True, type='function', description='Cancels an order based on the provided order ID\\n\\nReturns:\\n- type: boolean')], top_p=1.0, background=False, max_output_tokens=4096, previous_response_id=None, prompt=None, reasoning=Reasoning(effort=None, generate_summary=None, summary=None), service_tier='default', status='completed', text=ResponseTextConfig(format=ResponseFormatText(type='text')), truncation='disabled', usage=In: 131; Out: 11; Total: 142, user=None, store=True)"
      ]
     },
     "execution_count": null,
     "metadata": {},
     "output_type": "execute_result"
    }
   ],
   "source": [
    "r = chat('Hi.')\n",
    "r"
   ]
  },
  {
   "cell_type": "code",
   "execution_count": null,
   "id": "93067a97",
   "metadata": {},
   "outputs": [
    {
     "name": "stdout",
     "output_type": "stream",
     "text": [
      "- Retrieving customer C2\n"
     ]
    },
    {
     "data": {
      "text/plain": [
       "[ResponseFunctionToolCall(arguments='{\"customer_id\":\"C2\"}', call_id='call_3ds7FtEeugLeq4S94QhU3Doo', name='get_customer_info', type='function_call', id='fc_6858d51f39708191942eb5a90908bc0401962923ea927335', status='completed')]"
      ]
     },
     "execution_count": null,
     "metadata": {},
     "output_type": "execute_result"
    }
   ],
   "source": [
    "r = chat('Can you tell me the email address for customer C2?')\n",
    "r.output"
   ]
  },
  {
   "cell_type": "code",
   "execution_count": null,
   "id": "1a6bc412",
   "metadata": {},
   "outputs": [
    {
     "data": {
      "text/plain": [
       "[ResponseOutputMessage(id='msg_6858d520101081918ffbe85e9c5e64ff01962923ea927335', content=[ResponseOutputText(annotations=[], text='The email address for customer C2 (Jane Smith) is jane@example.com. If you need more information or help with anything else, just let me know!', type='output_text', logprobs=None)], role='assistant', status='completed', type='message')]"
      ]
     },
     "execution_count": null,
     "metadata": {},
     "output_type": "execute_result"
    }
   ],
   "source": [
    "r = chat()\n",
    "r.output"
   ]
  },
  {
   "cell_type": "code",
   "execution_count": null,
   "id": "6aa531d0",
   "metadata": {},
   "outputs": [
    {
     "name": "stdout",
     "output_type": "stream",
     "text": [
      "- Retrieving customer C1\n"
     ]
    },
    {
     "data": {
      "text/plain": [
       "[ResponseFunctionToolCall(arguments='{\"customer_id\":\"C1\"}', call_id='call_PiY4SODDLSsnuy3kQsuESsZd', name='get_customer_info', type='function_call', id='fc_6858d5219e8c81a29c90b0bd1508a11b04599ca30d650df4', status='completed')]"
      ]
     },
     "execution_count": null,
     "metadata": {},
     "output_type": "execute_result"
    }
   ],
   "source": [
    "chat = Chat(model, tools=tools)\n",
    "r = chat('Please cancel all orders for customer C1 for me.')\n",
    "r.output"
   ]
  },
  {
   "cell_type": "code",
   "execution_count": null,
   "id": "5dcdebef",
   "metadata": {},
   "outputs": [
    {
     "name": "stdout",
     "output_type": "stream",
     "text": [
      "- Cancelling order O1\n",
      "- Cancelling order O2\n"
     ]
    },
    {
     "data": {
      "text/plain": [
       "[ResponseFunctionToolCall(arguments='{\"order_id\":\"O1\"}', call_id='call_rV6krAiMjGR5OVkphVyBqonM', name='cancel_order', type='function_call', id='fc_6858d522a17481a2a6b44ad7ba70696904599ca30d650df4', status='completed'),\n",
       " ResponseFunctionToolCall(arguments='{\"order_id\":\"O2\"}', call_id='call_tmPuED6b3bZrPnNTtj0MqmQ2', name='cancel_order', type='function_call', id='fc_6858d522c07c81a2a5dae90d4a444a4a04599ca30d650df4', status='completed')]"
      ]
     },
     "execution_count": null,
     "metadata": {},
     "output_type": "execute_result"
    }
   ],
   "source": [
    "r = chat()\n",
    "r.output"
   ]
  },
  {
   "cell_type": "markdown",
   "id": "4388cffe",
   "metadata": {},
   "source": [
    "## `toolloop` implementation"
   ]
  },
  {
   "cell_type": "code",
   "execution_count": null,
   "id": "e0136903",
   "metadata": {},
   "outputs": [],
   "source": [
    "#| exports\n",
    "_final_prompt = \"You have no more tool uses. Please summarize your findings. If you did not complete your goal please tell the user what further work needs to be done so they can choose how best to proceed.\""
   ]
  },
  {
   "cell_type": "code",
   "execution_count": null,
   "id": "84eac4c1",
   "metadata": {},
   "outputs": [],
   "source": [
    "#| exports\n",
    "@patch\n",
    "@delegates(Chat.__call__)\n",
    "def toolloop(self:Chat,\n",
    "             pr, # Prompt to pass to Claude\n",
    "             max_steps=10, # Maximum number of tool requests to loop through\n",
    "             cont_func:callable=noop, # Function that stops loop if returns False\n",
    "             final_prompt=_final_prompt, # Prompt to add if last message is a tool call\n",
    "             **kwargs):\n",
    "    \"Add prompt `pr` to dialog and get a response from Claude, automatically following up with `tool_use` messages\"\n",
    "    @save_iter\n",
    "    def _f(o):\n",
    "        init_n = len(self.h)\n",
    "        r = self(pr, **kwargs)\n",
    "        yield r\n",
    "        if len(self.last)>1: yield from self.last[1:]\n",
    "        for i in range(max_steps-1):\n",
    "            x = self.h[-1]\n",
    "            if not (isinstance(x, dict) and x['type']=='function_call_output'): break\n",
    "            r = self(final_prompt if i==max_steps-2 else None, **kwargs)\n",
    "            yield r\n",
    "            if len(self.last)>1: yield from self.last[1:]\n",
    "            if not cont_func(*self.h[-3:]): break\n",
    "        o.value = self.h[init_n+1:]\n",
    "    return _f()"
   ]
  },
  {
   "cell_type": "markdown",
   "id": "491fd736",
   "metadata": {},
   "source": [
    "### Test Customer Dataset"
   ]
  },
  {
   "cell_type": "code",
   "execution_count": null,
   "id": "04e3e3e0",
   "metadata": {},
   "outputs": [],
   "source": [
    "def show(x):\n",
    "    if getattr(x, 'output_text', None): r = x\n",
    "    else: r = getattr(x,'output',x)\n",
    "    display(r)"
   ]
  },
  {
   "cell_type": "code",
   "execution_count": null,
   "id": "78cc0eff",
   "metadata": {},
   "outputs": [
    {
     "name": "stdout",
     "output_type": "stream",
     "text": [
      "- Retrieving customer C1\n"
     ]
    },
    {
     "data": {
      "text/markdown": [
       "The email address for customer C1 (John Doe) is john@example.com.\n",
       "\n",
       "<details>\n",
       "\n",
       "- id: resp_6858d82deb6081a19fad1393c8e05dbe02f348a5ed2fba48\n",
       "- created_at: 1750652973.0\n",
       "- error: None\n",
       "- incomplete_details: None\n",
       "- instructions: None\n",
       "- metadata: {}\n",
       "- model: gpt-4.1-2025-04-14\n",
       "- object: response\n",
       "- output: [ResponseOutputMessage(id='msg_6858d82e32f081a197f2714466e024fb02f348a5ed2fba48', content=[ResponseOutputText(annotations=[], text='The email address for customer C1 (John Doe) is john@example.com.', type='output_text', logprobs=None)], role='assistant', status='completed', type='message')]\n",
       "- parallel_tool_calls: True\n",
       "- temperature: 1.0\n",
       "- tool_choice: auto\n",
       "- tools: [FunctionTool(name='get_customer_info', parameters={'type': 'object', 'properties': {'customer_id': {'type': 'string', 'description': 'ID of the customer'}}, 'required': ['customer_id']}, strict=True, type='function', description=\"Retrieves a customer's information and their orders based on the customer ID\"), FunctionTool(name='get_order_details', parameters={'type': 'object', 'properties': {'order_id': {'type': 'string', 'description': 'ID of the order'}}, 'required': ['order_id']}, strict=True, type='function', description='Retrieves the details of a specific order based on the order ID'), FunctionTool(name='cancel_order', parameters={'type': 'object', 'properties': {'order_id': {'type': 'string', 'description': 'ID of the order to cancel'}}, 'required': ['order_id']}, strict=True, type='function', description='Cancels an order based on the provided order ID\\n\\nReturns:\\n- type: boolean')]\n",
       "- top_p: 1.0\n",
       "- background: False\n",
       "- max_output_tokens: 4096\n",
       "- previous_response_id: None\n",
       "- prompt: None\n",
       "- reasoning: Reasoning(effort=None, generate_summary=None, summary=None)\n",
       "- service_tier: default\n",
       "- status: completed\n",
       "- text: ResponseTextConfig(format=ResponseFormatText(type='text'))\n",
       "- truncation: disabled\n",
       "- usage: ResponseUsage(input_tokens=303, input_tokens_details=InputTokensDetails(cached_tokens=0), output_tokens=18, output_tokens_details=OutputTokensDetails(reasoning_tokens=0), total_tokens=321)\n",
       "- user: None\n",
       "- store: True\n",
       "\n",
       "</details>"
      ],
      "text/plain": [
       "Response(id='resp_6858d82deb6081a19fad1393c8e05dbe02f348a5ed2fba48', created_at=1750652973.0, error=None, incomplete_details=None, instructions=None, metadata={}, model='gpt-4.1-2025-04-14', object='response', output=[ResponseOutputMessage(id='msg_6858d82e32f081a197f2714466e024fb02f348a5ed2fba48', content=[ResponseOutputText(annotations=[], text='The email address for customer C1 (John Doe) is john@example.com.', type='output_text', logprobs=None)], role='assistant', status='completed', type='message')], parallel_tool_calls=True, temperature=1.0, tool_choice='auto', tools=[FunctionTool(name='get_customer_info', parameters={'type': 'object', 'properties': {'customer_id': {'type': 'string', 'description': 'ID of the customer'}}, 'required': ['customer_id']}, strict=True, type='function', description=\"Retrieves a customer's information and their orders based on the customer ID\"), FunctionTool(name='get_order_details', parameters={'type': 'object', 'properties': {'order_id': {'type': 'string', 'description': 'ID of the order'}}, 'required': ['order_id']}, strict=True, type='function', description='Retrieves the details of a specific order based on the order ID'), FunctionTool(name='cancel_order', parameters={'type': 'object', 'properties': {'order_id': {'type': 'string', 'description': 'ID of the order to cancel'}}, 'required': ['order_id']}, strict=True, type='function', description='Cancels an order based on the provided order ID\\n\\nReturns:\\n- type: boolean')], top_p=1.0, background=False, max_output_tokens=4096, previous_response_id=None, prompt=None, reasoning=Reasoning(effort=None, generate_summary=None, summary=None), service_tier='default', status='completed', text=ResponseTextConfig(format=ResponseFormatText(type='text')), truncation='disabled', usage=In: 303; Out: 18; Total: 321, user=None, store=True)"
      ]
     },
     "metadata": {},
     "output_type": "display_data"
    }
   ],
   "source": [
    "chat = Chat(model, tools=tools)\n",
    "pr = 'Can you tell me the email address for customer C1?'\n",
    "r = chat.toolloop(pr)\n",
    "res = list(r)\n",
    "for o in r: show(o)"
   ]
  },
  {
   "cell_type": "code",
   "execution_count": null,
   "id": "fdceb37e",
   "metadata": {},
   "outputs": [],
   "source": [
    "#| exports\n",
    "def loop_outputs(res):\n",
    "    return [dict(p) for o in res for p in ([o] if isinstance(o,dict) else getattr(o,'output',[]))]"
   ]
  },
  {
   "cell_type": "code",
   "execution_count": null,
   "id": "9097035a",
   "metadata": {},
   "outputs": [
    {
     "data": {
      "text/plain": [
       "[{'arguments': '{\"customer_id\":\"C1\"}',\n",
       "  'call_id': 'call_LGkDfgCIYoi150YgpsR1Mgch',\n",
       "  'name': 'get_customer_info',\n",
       "  'type': 'function_call',\n",
       "  'id': 'fc_6858d82c5a2881a180da48f9ee11cec502f348a5ed2fba48',\n",
       "  'status': 'completed'},\n",
       " {'type': 'function_call_output',\n",
       "  'call_id': 'call_LGkDfgCIYoi150YgpsR1Mgch',\n",
       "  'output': \"{'name': 'John Doe', 'email': 'john@example.com', 'phone': '123-456-7890', 'orders': [{'id': 'O1', 'product': 'Widget A', 'quantity': 2, 'price': 19.99, 'status': 'Cancelled'}, {'id': 'O2', 'product': 'Gadget B', 'quantity': 1, 'price': 49.99, 'status': 'Cancelled'}]}\"},\n",
       " {'id': 'msg_6858d82d55f081a190f06d2678cc53a702f348a5ed2fba48',\n",
       "  'content': [ResponseOutputText(annotations=[], text='The email address for customer C1 (John Doe) is john@example.com.', type='output_text', logprobs=None)],\n",
       "  'role': 'assistant',\n",
       "  'status': 'completed',\n",
       "  'type': 'message'}]"
      ]
     },
     "execution_count": null,
     "metadata": {},
     "output_type": "execute_result"
    }
   ],
   "source": [
    "cl = loop_outputs(res)\n",
    "cl"
   ]
  },
  {
   "cell_type": "code",
   "execution_count": null,
   "id": "13d2b043",
   "metadata": {},
   "outputs": [],
   "source": [
    "def disp_tc(x):\n",
    "    if x['type']=='function_call': return f\"- `{x['name']}({x['arguments']})`\\n\"\n",
    "    elif x['type']=='function_call_output': return f\"  - `{x['output']}`\\n\\n\"\n",
    "    else: return ''.join(o.text for o in x['content'])"
   ]
  },
  {
   "cell_type": "code",
   "execution_count": null,
   "id": "cff1f001",
   "metadata": {},
   "outputs": [
    {
     "data": {
      "text/markdown": [
       "- `get_customer_info({\"customer_id\":\"C1\"})`\n",
       "  - `{'name': 'John Doe', 'email': 'john@example.com', 'phone': '123-456-7890', 'orders': [{'id': 'O1', 'product': 'Widget A', 'quantity': 2, 'price': 19.99, 'status': 'Cancelled'}, {'id': 'O2', 'product': 'Gadget B', 'quantity': 1, 'price': 49.99, 'status': 'Cancelled'}]}`\n",
       "\n",
       "The email address for customer C1 (John Doe) is john@example.com."
      ],
      "text/plain": [
       "<IPython.core.display.Markdown object>"
      ]
     },
     "execution_count": null,
     "metadata": {},
     "output_type": "execute_result"
    }
   ],
   "source": [
    "Markdown(''.join(map(disp_tc, cl)))"
   ]
  },
  {
   "cell_type": "code",
   "execution_count": null,
   "id": "5c586d6a",
   "metadata": {},
   "outputs": [
    {
     "name": "stdout",
     "output_type": "stream",
     "text": [
      "[ResponseOutputMessage(id='msg_6858d82e32f081a197f2714466e024fb02f348a5ed2fba48', content=[ResponseOutputText(annotations=[], text='The email address for customer C1 (John Doe) is john@example.com.', type='output_text', logprobs=None)], role='assistant', status='completed', type='message')]\n"
     ]
    }
   ],
   "source": [
    "pprint(r.value)"
   ]
  },
  {
   "cell_type": "code",
   "execution_count": null,
   "id": "050f6591",
   "metadata": {},
   "outputs": [],
   "source": [
    "orders, customers = _get_orders_customers()"
   ]
  },
  {
   "cell_type": "code",
   "execution_count": null,
   "id": "8de04256",
   "metadata": {},
   "outputs": [
    {
     "name": "stdout",
     "output_type": "stream",
     "text": [
      "- Retrieving order O2\n"
     ]
    },
    {
     "data": {
      "text/plain": [
       "[ResponseFunctionToolCall(arguments='{\"order_id\":\"O2\"}', call_id='call_SuCjlwbfWOdNNA4itfOQHfi9', name='get_order_details', type='function_call', id='fc_6858d839164c819faf3de0ee3738b1ff0f74f151fa878a00', status='completed')]"
      ]
     },
     "metadata": {},
     "output_type": "display_data"
    },
    {
     "data": {
      "text/plain": [
       "{'type': 'function_call_output',\n",
       " 'call_id': 'call_SuCjlwbfWOdNNA4itfOQHfi9',\n",
       " 'output': \"{'id': 'O2', 'product': 'Gadget B', 'quantity': 1, 'price': 49.99, 'status': 'Processing'}\"}"
      ]
     },
     "metadata": {},
     "output_type": "display_data"
    },
    {
     "data": {
      "text/plain": [
       "[ResponseOutputMessage(id='msg_6858d839dac8819fb4e823b41008f35e0f74f151fa878a00', content=[ResponseOutputText(annotations=[], text='Order O2 is currently in \"Processing\" status. If you need more details or want to take any action on this order, please let me know!', type='output_text', logprobs=None)], role='assistant', status='completed', type='message')]"
      ]
     },
     "metadata": {},
     "output_type": "display_data"
    }
   ],
   "source": [
    "chat = Chat(model, tools=tools)\n",
    "r = chat.toolloop('What is the status of order O2?')\n",
    "for o in r: display(getattr(o,'output',o))"
   ]
  },
  {
   "cell_type": "code",
   "execution_count": null,
   "id": "f8c0fec9",
   "metadata": {},
   "outputs": [
    {
     "name": "stdout",
     "output_type": "stream",
     "text": [
      "- Retrieving customer C1\n",
      "- Cancelling order O1\n",
      "- Cancelling order O2\n"
     ]
    },
    {
     "data": {
      "text/plain": [
       "[ResponseFunctionToolCall(arguments='{\"customer_id\":\"C1\"}', call_id='call_1dYvWLOrZLClL6Z0mPp3zV4d', name='get_customer_info', type='function_call', id='fc_6858d843b52c819f899a075e393e2f240f74f151fa878a00', status='completed')]"
      ]
     },
     "metadata": {},
     "output_type": "display_data"
    },
    {
     "data": {
      "text/plain": [
       "{'type': 'function_call_output',\n",
       " 'call_id': 'call_1dYvWLOrZLClL6Z0mPp3zV4d',\n",
       " 'output': \"{'name': 'John Doe', 'email': 'john@example.com', 'phone': '123-456-7890', 'orders': [{'id': 'O1', 'product': 'Widget A', 'quantity': 2, 'price': 19.99, 'status': 'Shipped'}, {'id': 'O2', 'product': 'Gadget B', 'quantity': 1, 'price': 49.99, 'status': 'Processing'}]}\"}"
      ]
     },
     "metadata": {},
     "output_type": "display_data"
    },
    {
     "data": {
      "text/plain": [
       "[ResponseFunctionToolCall(arguments='{\"order_id\":\"O1\"}', call_id='call_ixbGdJ1YEjYj4FbqQ8ShdCRn', name='cancel_order', type='function_call', id='fc_6858d844cc8c819f99199c37f4917ae10f74f151fa878a00', status='completed'),\n",
       " ResponseFunctionToolCall(arguments='{\"order_id\":\"O2\"}', call_id='call_yXKD72U8RwlymgZ2CE2fYYLI', name='cancel_order', type='function_call', id='fc_6858d844dd7c819f9784a1de8a9b3d110f74f151fa878a00', status='completed')]"
      ]
     },
     "metadata": {},
     "output_type": "display_data"
    },
    {
     "data": {
      "text/plain": [
       "ResponseFunctionToolCall(arguments='{\"order_id\":\"O2\"}', call_id='call_yXKD72U8RwlymgZ2CE2fYYLI', name='cancel_order', type='function_call', id='fc_6858d844dd7c819f9784a1de8a9b3d110f74f151fa878a00', status='completed')"
      ]
     },
     "metadata": {},
     "output_type": "display_data"
    },
    {
     "data": {
      "text/plain": [
       "{'type': 'function_call_output',\n",
       " 'call_id': 'call_ixbGdJ1YEjYj4FbqQ8ShdCRn',\n",
       " 'output': 'True'}"
      ]
     },
     "metadata": {},
     "output_type": "display_data"
    },
    {
     "data": {
      "text/plain": [
       "{'type': 'function_call_output',\n",
       " 'call_id': 'call_yXKD72U8RwlymgZ2CE2fYYLI',\n",
       " 'output': 'True'}"
      ]
     },
     "metadata": {},
     "output_type": "display_data"
    },
    {
     "data": {
      "text/plain": [
       "[ResponseOutputMessage(id='msg_6858d8459a34819f8e9aba068ebc695b0f74f151fa878a00', content=[ResponseOutputText(annotations=[], text='All orders for customer C1 have been cancelled successfully. If you need a confirmation or further assistance, please let me know!', type='output_text', logprobs=None)], role='assistant', status='completed', type='message')]"
      ]
     },
     "metadata": {},
     "output_type": "display_data"
    }
   ],
   "source": [
    "r = chat.toolloop('Please cancel all orders for customer C1 for me.')\n",
    "res = list(r)\n",
    "for o in res: display(getattr(o,'output',o))"
   ]
  },
  {
   "cell_type": "code",
   "execution_count": null,
   "id": "5b8a9d4c",
   "metadata": {},
   "outputs": [
    {
     "data": {
      "text/markdown": [
       "- `get_customer_info({\"customer_id\":\"C1\"})`\n",
       "\n",
       "  - `{'name': 'John Doe', 'email': 'john@example.com', 'phone': '123-456-7890', 'orders': [{'id': 'O1', 'product': 'Widget A', 'quantity': 2, 'price': 19.99, 'status': 'Shipped'}, {'id': 'O2', 'product': 'Gadget B', 'quantity': 1, 'price': 49.99, 'status': 'Processing'}]}`\n",
       "\n",
       "\n",
       "- `cancel_order({\"order_id\":\"O1\"})`\n",
       "\n",
       "- `cancel_order({\"order_id\":\"O2\"})`\n",
       "\n",
       "  - `True`\n",
       "\n",
       "\n",
       "  - `True`\n",
       "\n",
       "\n",
       "All orders for customer C1 have been cancelled successfully. If you need a confirmation or further assistance, please let me know!"
      ],
      "text/plain": [
       "<IPython.core.display.Markdown object>"
      ]
     },
     "execution_count": null,
     "metadata": {},
     "output_type": "execute_result"
    }
   ],
   "source": [
    "cl = loop_outputs(res)\n",
    "Markdown('\\n'.join(map(disp_tc, cl)))"
   ]
  },
  {
   "cell_type": "code",
   "execution_count": null,
   "id": "2421d39d",
   "metadata": {},
   "outputs": [
    {
     "data": {
      "text/markdown": [
       "Order O2 has been cancelled. If you have any further questions or need additional assistance, please let me know!\n",
       "\n",
       "<details>\n",
       "\n",
       "- id: resp_6858d8536bc8819fa0654fda1f4a99ec0f74f151fa878a00\n",
       "- created_at: 1750653011.0\n",
       "- error: None\n",
       "- incomplete_details: None\n",
       "- instructions: None\n",
       "- metadata: {}\n",
       "- model: gpt-4.1-2025-04-14\n",
       "- object: response\n",
       "- output: [ResponseOutputMessage(id='msg_6858d853c930819f9e656a5a9653642b0f74f151fa878a00', content=[ResponseOutputText(annotations=[], text='Order O2 has been cancelled. If you have any further questions or need additional assistance, please let me know!', type='output_text', logprobs=None)], role='assistant', status='completed', type='message')]\n",
       "- parallel_tool_calls: True\n",
       "- temperature: 1.0\n",
       "- tool_choice: auto\n",
       "- tools: [FunctionTool(name='get_customer_info', parameters={'type': 'object', 'properties': {'customer_id': {'type': 'string', 'description': 'ID of the customer'}}, 'required': ['customer_id']}, strict=True, type='function', description=\"Retrieves a customer's information and their orders based on the customer ID\"), FunctionTool(name='get_order_details', parameters={'type': 'object', 'properties': {'order_id': {'type': 'string', 'description': 'ID of the order'}}, 'required': ['order_id']}, strict=True, type='function', description='Retrieves the details of a specific order based on the order ID'), FunctionTool(name='cancel_order', parameters={'type': 'object', 'properties': {'order_id': {'type': 'string', 'description': 'ID of the order to cancel'}}, 'required': ['order_id']}, strict=True, type='function', description='Cancels an order based on the provided order ID\\n\\nReturns:\\n- type: boolean')]\n",
       "- top_p: 1.0\n",
       "- background: False\n",
       "- max_output_tokens: 4096\n",
       "- previous_response_id: None\n",
       "- prompt: None\n",
       "- reasoning: Reasoning(effort=None, generate_summary=None, summary=None)\n",
       "- service_tier: default\n",
       "- status: completed\n",
       "- text: ResponseTextConfig(format=ResponseFormatText(type='text'))\n",
       "- truncation: disabled\n",
       "- usage: ResponseUsage(input_tokens=465, input_tokens_details=InputTokensDetails(cached_tokens=0), output_tokens=25, output_tokens_details=OutputTokensDetails(reasoning_tokens=0), total_tokens=490)\n",
       "- user: None\n",
       "- store: True\n",
       "\n",
       "</details>"
      ],
      "text/plain": [
       "Response(id='resp_6858d8536bc8819fa0654fda1f4a99ec0f74f151fa878a00', created_at=1750653011.0, error=None, incomplete_details=None, instructions=None, metadata={}, model='gpt-4.1-2025-04-14', object='response', output=[ResponseOutputMessage(id='msg_6858d853c930819f9e656a5a9653642b0f74f151fa878a00', content=[ResponseOutputText(annotations=[], text='Order O2 has been cancelled. If you have any further questions or need additional assistance, please let me know!', type='output_text', logprobs=None)], role='assistant', status='completed', type='message')], parallel_tool_calls=True, temperature=1.0, tool_choice='auto', tools=[FunctionTool(name='get_customer_info', parameters={'type': 'object', 'properties': {'customer_id': {'type': 'string', 'description': 'ID of the customer'}}, 'required': ['customer_id']}, strict=True, type='function', description=\"Retrieves a customer's information and their orders based on the customer ID\"), FunctionTool(name='get_order_details', parameters={'type': 'object', 'properties': {'order_id': {'type': 'string', 'description': 'ID of the order'}}, 'required': ['order_id']}, strict=True, type='function', description='Retrieves the details of a specific order based on the order ID'), FunctionTool(name='cancel_order', parameters={'type': 'object', 'properties': {'order_id': {'type': 'string', 'description': 'ID of the order to cancel'}}, 'required': ['order_id']}, strict=True, type='function', description='Cancels an order based on the provided order ID\\n\\nReturns:\\n- type: boolean')], top_p=1.0, background=False, max_output_tokens=4096, previous_response_id=None, prompt=None, reasoning=Reasoning(effort=None, generate_summary=None, summary=None), service_tier='default', status='completed', text=ResponseTextConfig(format=ResponseFormatText(type='text')), truncation='disabled', usage=In: 465; Out: 25; Total: 490, user=None, store=True)"
      ]
     },
     "metadata": {},
     "output_type": "display_data"
    }
   ],
   "source": [
    "for o in chat.toolloop('What is the status of order O2?'): display(o)"
   ]
  },
  {
   "cell_type": "markdown",
   "id": "72f73ae2",
   "metadata": {},
   "source": [
    "### Test Math Example"
   ]
  },
  {
   "cell_type": "code",
   "execution_count": null,
   "id": "0fd52dbc",
   "metadata": {},
   "outputs": [],
   "source": [
    "def add(x: int, y: int) -> int:\n",
    "    \"adds x and y.\"\n",
    "    return x + y\n",
    "\n",
    "def mul(x: int, y: int) -> int:\n",
    "    \"multiplies x and y.\"\n",
    "    return x * y"
   ]
  },
  {
   "cell_type": "code",
   "execution_count": null,
   "id": "c1cc19bf",
   "metadata": {},
   "outputs": [
    {
     "data": {
      "text/plain": [
       "[ResponseFunctionToolCall(arguments='{\"x\":1258585825128,\"y\":34959234595}', call_id='call_5cuCy9TkdCbdWq0JDzKixtVw', name='add', type='function_call', id='fc_6858d857f9a8819dbee7b721dfa15e220deec0bc13b52a48', status='completed')]"
      ]
     },
     "metadata": {},
     "output_type": "display_data"
    },
    {
     "data": {
      "text/plain": [
       "{'type': 'function_call_output',\n",
       " 'call_id': 'call_5cuCy9TkdCbdWq0JDzKixtVw',\n",
       " 'output': '1293545059723'}"
      ]
     },
     "metadata": {},
     "output_type": "display_data"
    },
    {
     "data": {
      "text/plain": [
       "[ResponseFunctionToolCall(arguments='{\"x\":1293545059723,\"y\":93}', call_id='call_aL3m3fGOEarJc30W3SqMXBsp', name='mul', type='function_call', id='fc_6858d858c41c819da77b609c39a222770deec0bc13b52a48', status='completed')]"
      ]
     },
     "metadata": {},
     "output_type": "display_data"
    },
    {
     "data": {
      "text/plain": [
       "{'type': 'function_call_output',\n",
       " 'call_id': 'call_aL3m3fGOEarJc30W3SqMXBsp',\n",
       " 'output': '120299690554239'}"
      ]
     },
     "metadata": {},
     "output_type": "display_data"
    },
    {
     "data": {
      "text/plain": [
       "[ResponseFunctionToolCall(arguments='{\"x\":120299690554239,\"y\":-12439149}', call_id='call_ZEIjJerD9ML37a0aC7dWrVIy', name='add', type='function_call', id='fc_6858d8599e10819d92e8cfb2616109f80deec0bc13b52a48', status='completed')]"
      ]
     },
     "metadata": {},
     "output_type": "display_data"
    },
    {
     "data": {
      "text/plain": [
       "{'type': 'function_call_output',\n",
       " 'call_id': 'call_ZEIjJerD9ML37a0aC7dWrVIy',\n",
       " 'output': '120299678115090'}"
      ]
     },
     "metadata": {},
     "output_type": "display_data"
    },
    {
     "data": {
      "text/markdown": [
       "1. First, adding 1,258,585,825,128 to 34,959,234,595 gives 1,293,545,059,723.\n",
       "2. Multiplying that result by 93 gives 120,299,690,554,239.\n",
       "3. Finally, adding (-12,439,149) gives the final result: 120,299,678,115,090.\n",
       "\n",
       "<details>\n",
       "\n",
       "- id: resp_6858d85a09b8819d8a3d6fddefa57ea90deec0bc13b52a48\n",
       "- created_at: 1750653018.0\n",
       "- error: None\n",
       "- incomplete_details: None\n",
       "- instructions: None\n",
       "- metadata: {}\n",
       "- model: gpt-4.1-2025-04-14\n",
       "- object: response\n",
       "- output: [ResponseOutputMessage(id='msg_6858d85a64e8819d8ca28162dcea93e20deec0bc13b52a48', content=[ResponseOutputText(annotations=[], text='1. First, adding 1,258,585,825,128 to 34,959,234,595 gives 1,293,545,059,723.\\n2. Multiplying that result by 93 gives 120,299,690,554,239.\\n3. Finally, adding (-12,439,149) gives the final result: 120,299,678,115,090.', type='output_text', logprobs=None)], role='assistant', status='completed', type='message')]\n",
       "- parallel_tool_calls: True\n",
       "- temperature: 1.0\n",
       "- tool_choice: auto\n",
       "- tools: [FunctionTool(name='add', parameters={'type': 'object', 'properties': {'x': {'type': 'integer', 'description': ''}, 'y': {'type': 'integer', 'description': ''}}, 'required': ['x', 'y']}, strict=True, type='function', description='adds x and y.\\n\\nReturns:\\n- type: integer'), FunctionTool(name='mul', parameters={'type': 'object', 'properties': {'x': {'type': 'integer', 'description': ''}, 'y': {'type': 'integer', 'description': ''}}, 'required': ['x', 'y']}, strict=True, type='function', description='multiplies x and y.\\n\\nReturns:\\n- type: integer')]\n",
       "- top_p: 1.0\n",
       "- background: False\n",
       "- max_output_tokens: 4096\n",
       "- previous_response_id: None\n",
       "- prompt: None\n",
       "- reasoning: Reasoning(effort=None, generate_summary=None, summary=None)\n",
       "- service_tier: default\n",
       "- status: completed\n",
       "- text: ResponseTextConfig(format=ResponseFormatText(type='text'))\n",
       "- truncation: disabled\n",
       "- usage: ResponseUsage(input_tokens=213, input_tokens_details=InputTokensDetails(cached_tokens=0), output_tokens=87, output_tokens_details=OutputTokensDetails(reasoning_tokens=0), total_tokens=300)\n",
       "- user: None\n",
       "- store: True\n",
       "\n",
       "</details>"
      ],
      "text/plain": [
       "Response(id='resp_6858d85a09b8819d8a3d6fddefa57ea90deec0bc13b52a48', created_at=1750653018.0, error=None, incomplete_details=None, instructions=None, metadata={}, model='gpt-4.1-2025-04-14', object='response', output=[ResponseOutputMessage(id='msg_6858d85a64e8819d8ca28162dcea93e20deec0bc13b52a48', content=[ResponseOutputText(annotations=[], text='1. First, adding 1,258,585,825,128 to 34,959,234,595 gives 1,293,545,059,723.\\n2. Multiplying that result by 93 gives 120,299,690,554,239.\\n3. Finally, adding (-12,439,149) gives the final result: 120,299,678,115,090.', type='output_text', logprobs=None)], role='assistant', status='completed', type='message')], parallel_tool_calls=True, temperature=1.0, tool_choice='auto', tools=[FunctionTool(name='add', parameters={'type': 'object', 'properties': {'x': {'type': 'integer', 'description': ''}, 'y': {'type': 'integer', 'description': ''}}, 'required': ['x', 'y']}, strict=True, type='function', description='adds x and y.\\n\\nReturns:\\n- type: integer'), FunctionTool(name='mul', parameters={'type': 'object', 'properties': {'x': {'type': 'integer', 'description': ''}, 'y': {'type': 'integer', 'description': ''}}, 'required': ['x', 'y']}, strict=True, type='function', description='multiplies x and y.\\n\\nReturns:\\n- type: integer')], top_p=1.0, background=False, max_output_tokens=4096, previous_response_id=None, prompt=None, reasoning=Reasoning(effort=None, generate_summary=None, summary=None), service_tier='default', status='completed', text=ResponseTextConfig(format=ResponseFormatText(type='text')), truncation='disabled', usage=In: 213; Out: 87; Total: 300, user=None, store=True)"
      ]
     },
     "metadata": {},
     "output_type": "display_data"
    }
   ],
   "source": [
    "chat = Chat(model, tools=[add, mul])\n",
    "pr = 'Can you add 1258585825128 to 34959234595, multiply by 93, and then add (-12439149)?'\n",
    "r = chat.toolloop(pr)\n",
    "for o in r: show(o)"
   ]
  },
  {
   "cell_type": "code",
   "execution_count": null,
   "id": "5fdc44e8",
   "metadata": {},
   "outputs": [
    {
     "data": {
      "text/plain": [
       "120299678115090"
      ]
     },
     "execution_count": null,
     "metadata": {},
     "output_type": "execute_result"
    }
   ],
   "source": [
    "(1258585825128 + 34959234595) * 93 - 12439149"
   ]
  },
  {
   "cell_type": "code",
   "execution_count": null,
   "id": "62be2307",
   "metadata": {},
   "outputs": [
    {
     "data": {
      "text/plain": [
       "[ResponseFunctionToolCall(arguments='{\"x\":1258585825128,\"y\":34959234595}', call_id='call_vAQduQuiQNaDRJE74PVV9bFm', name='add', type='function_call', id='fc_6858da0562e081a29af19180f4cd6529029fe7fc17fd78d0', status='completed')]"
      ]
     },
     "metadata": {},
     "output_type": "display_data"
    },
    {
     "name": "stdout",
     "output_type": "stream",
     "text": [
      "-  {'type': 'function_call_output', 'call_id': 'call_vAQduQuiQNaDRJE74PVV9bFm', 'output': '1293545059723'}\n"
     ]
    },
    {
     "data": {
      "text/plain": [
       "[ResponseFunctionToolCall(arguments='{\"x\":1293545059723,\"y\":93}', call_id='call_HdFWjuMQ7AxX4avd20EqnGfF', name='mul', type='function_call', id='fc_6858da067f0481a282e552c8ef0b7c21029fe7fc17fd78d0', status='completed')]"
      ]
     },
     "metadata": {},
     "output_type": "display_data"
    },
    {
     "name": "stdout",
     "output_type": "stream",
     "text": [
      "-  {'type': 'function_call_output', 'call_id': 'call_HdFWjuMQ7AxX4avd20EqnGfF', 'output': '120299690554239'}\n"
     ]
    },
    {
     "data": {
      "text/plain": [
       "[ResponseFunctionToolCall(arguments='{\"x\":120299690554239,\"y\":-12439149}', call_id='call_xqoEfHtk62hK2XgEUvR7oz7T', name='add', type='function_call', id='fc_6858da0747cc81a28607925fdaa3b66a029fe7fc17fd78d0', status='completed')]"
      ]
     },
     "metadata": {},
     "output_type": "display_data"
    },
    {
     "name": "stdout",
     "output_type": "stream",
     "text": [
      "-  {'type': 'function_call_output', 'call_id': 'call_xqoEfHtk62hK2XgEUvR7oz7T', 'output': '120299678115090'}\n",
      "First, I added 1,258,585,825,128 to 34,959,234,595 to get 1,293,545,059,723.\n",
      "Next, I multiplied that result by 93, getting 120,299,690,554,239.\n",
      "Finally, I added -12,439,149, which gives the final answer:\n",
      "\n",
      "120,299,678,115,090"
     ]
    },
    {
     "data": {
      "text/markdown": [
       "First, I added 1,258,585,825,128 to 34,959,234,595 to get 1,293,545,059,723.\n",
       "Next, I multiplied that result by 93, getting 120,299,690,554,239.\n",
       "Finally, I added -12,439,149, which gives the final answer:\n",
       "\n",
       "120,299,678,115,090\n",
       "\n",
       "<details>\n",
       "\n",
       "- id: resp_6858da07b69081a2930ce75948396dac029fe7fc17fd78d0\n",
       "- created_at: 1750653447.0\n",
       "- error: None\n",
       "- incomplete_details: None\n",
       "- instructions: None\n",
       "- metadata: {}\n",
       "- model: gpt-4.1-2025-04-14\n",
       "- object: response\n",
       "- output: [ResponseOutputMessage(id='msg_6858da07fce881a297dc7606f752bbdd029fe7fc17fd78d0', content=[ResponseOutputText(annotations=[], text='First, I added 1,258,585,825,128 to 34,959,234,595 to get 1,293,545,059,723.\\nNext, I multiplied that result by 93, getting 120,299,690,554,239.\\nFinally, I added -12,439,149, which gives the final answer:\\n\\n120,299,678,115,090', type='output_text', logprobs=None)], role='assistant', status='completed', type='message')]\n",
       "- parallel_tool_calls: True\n",
       "- temperature: 1.0\n",
       "- tool_choice: auto\n",
       "- tools: [FunctionTool(name='add', parameters={'type': 'object', 'properties': {'x': {'type': 'integer', 'description': ''}, 'y': {'type': 'integer', 'description': ''}}, 'required': ['x', 'y']}, strict=True, type='function', description='adds x and y.\\n\\nReturns:\\n- type: integer'), FunctionTool(name='mul', parameters={'type': 'object', 'properties': {'x': {'type': 'integer', 'description': ''}, 'y': {'type': 'integer', 'description': ''}}, 'required': ['x', 'y']}, strict=True, type='function', description='multiplies x and y.\\n\\nReturns:\\n- type: integer')]\n",
       "- top_p: 1.0\n",
       "- background: False\n",
       "- max_output_tokens: 4096\n",
       "- previous_response_id: None\n",
       "- prompt: None\n",
       "- reasoning: Reasoning(effort=None, generate_summary=None, summary=None)\n",
       "- service_tier: default\n",
       "- status: completed\n",
       "- text: ResponseTextConfig(format=ResponseFormatText(type='text'))\n",
       "- truncation: disabled\n",
       "- usage: ResponseUsage(input_tokens=213, input_tokens_details=InputTokensDetails(cached_tokens=0), output_tokens=86, output_tokens_details=OutputTokensDetails(reasoning_tokens=0), total_tokens=299)\n",
       "- user: None\n",
       "- store: True\n",
       "\n",
       "</details>"
      ],
      "text/plain": [
       "Response(id='resp_6858da07b69081a2930ce75948396dac029fe7fc17fd78d0', created_at=1750653447.0, error=None, incomplete_details=None, instructions=None, metadata={}, model='gpt-4.1-2025-04-14', object='response', output=[ResponseOutputMessage(id='msg_6858da07fce881a297dc7606f752bbdd029fe7fc17fd78d0', content=[ResponseOutputText(annotations=[], text='First, I added 1,258,585,825,128 to 34,959,234,595 to get 1,293,545,059,723.\\nNext, I multiplied that result by 93, getting 120,299,690,554,239.\\nFinally, I added -12,439,149, which gives the final answer:\\n\\n120,299,678,115,090', type='output_text', logprobs=None)], role='assistant', status='completed', type='message')], parallel_tool_calls=True, temperature=1.0, tool_choice='auto', tools=[FunctionTool(name='add', parameters={'type': 'object', 'properties': {'x': {'type': 'integer', 'description': ''}, 'y': {'type': 'integer', 'description': ''}}, 'required': ['x', 'y']}, strict=True, type='function', description='adds x and y.\\n\\nReturns:\\n- type: integer'), FunctionTool(name='mul', parameters={'type': 'object', 'properties': {'x': {'type': 'integer', 'description': ''}, 'y': {'type': 'integer', 'description': ''}}, 'required': ['x', 'y']}, strict=True, type='function', description='multiplies x and y.\\n\\nReturns:\\n- type: integer')], top_p=1.0, background=False, max_output_tokens=4096, previous_response_id=None, prompt=None, reasoning=Reasoning(effort=None, generate_summary=None, summary=None), service_tier='default', status='completed', text=ResponseTextConfig(format=ResponseFormatText(type='text')), truncation='disabled', usage=In: 213; Out: 86; Total: 299, user=None, store=True)"
      ]
     },
     "metadata": {},
     "output_type": "display_data"
    }
   ],
   "source": [
    "chat = Chat(model, tools=[add, mul])\n",
    "r = chat.toolloop(pr, stream=True)\n",
    "for o in r:\n",
    "    if isinstance(o, dict): print('- ', o)\n",
    "    else:\n",
    "        for p in o: print(p, end='')\n",
    "        show(o.value)"
   ]
  },
  {
   "cell_type": "markdown",
   "id": "e95da200",
   "metadata": {},
   "source": [
    "### Error Conditions: Out of Iterations, Exception During Tool Invocation"
   ]
  },
  {
   "cell_type": "code",
   "execution_count": null,
   "id": "82c63e59",
   "metadata": {},
   "outputs": [],
   "source": [
    "def mydiv(a:float, b:float):\n",
    "    \"Divide two numbers\"\n",
    "    return a / b"
   ]
  },
  {
   "cell_type": "code",
   "execution_count": null,
   "id": "26bc1bd9",
   "metadata": {},
   "outputs": [
    {
     "data": {
      "text/plain": [
       "[ResponseFunctionToolCall(arguments='{\"a\":43,\"b\":23454}', call_id='call_nECnFfd0fya1CD2gX1K7amL6', name='mydiv', type='function_call', id='fc_6858da2a8cf8819ea08fccfdbc0a904501e130a6ba22408a', status='completed')]"
      ]
     },
     "metadata": {},
     "output_type": "display_data"
    },
    {
     "data": {
      "text/plain": [
       "{'type': 'function_call_output',\n",
       " 'call_id': 'call_nECnFfd0fya1CD2gX1K7amL6',\n",
       " 'output': '0.001833375969983798'}"
      ]
     },
     "metadata": {},
     "output_type": "display_data"
    },
    {
     "data": {
      "text/markdown": [
       "Here is the progress so far:\n",
       "\n",
       "- The result of 43 divided by 23,454 is approximately 0.00183338.\n",
       "\n",
       "Next steps (NOT YET COMPLETED):\n",
       "\n",
       "- To continue, you would divide 652 by the previous result (0.00183338).\n",
       "- Take that result and divide 6,843 by it.\n",
       "- Finally, divide 321 by the last result.\n",
       "\n",
       "If you wish, you can provide another tool use session, or I can help you calculate the remaining steps manually or explain how to do them with a calculator. Let me know how you’d like to proceed!\n",
       "\n",
       "<details>\n",
       "\n",
       "- id: resp_6858da2b1024819eb16934c3ea9a1a1801e130a6ba22408a\n",
       "- created_at: 1750653483.0\n",
       "- error: None\n",
       "- incomplete_details: None\n",
       "- instructions: None\n",
       "- metadata: {}\n",
       "- model: gpt-4.1-2025-04-14\n",
       "- object: response\n",
       "- output: [ResponseOutputMessage(id='msg_6858da2b6340819e9b7e018c6f63430a01e130a6ba22408a', content=[ResponseOutputText(annotations=[], text='Here is the progress so far:\\n\\n- The result of 43 divided by 23,454 is approximately 0.00183338.\\n\\nNext steps (NOT YET COMPLETED):\\n\\n- To continue, you would divide 652 by the previous result (0.00183338).\\n- Take that result and divide 6,843 by it.\\n- Finally, divide 321 by the last result.\\n\\nIf you wish, you can provide another tool use session, or I can help you calculate the remaining steps manually or explain how to do them with a calculator. Let me know how you’d like to proceed!', type='output_text', logprobs=None)], role='assistant', status='completed', type='message')]\n",
       "- parallel_tool_calls: True\n",
       "- temperature: 1.0\n",
       "- tool_choice: auto\n",
       "- tools: [FunctionTool(name='mydiv', parameters={'type': 'object', 'properties': {'a': {'type': 'number', 'description': ''}, 'b': {'type': 'number', 'description': ''}}, 'required': ['a', 'b']}, strict=True, type='function', description='Divide two numbers')]\n",
       "- top_p: 1.0\n",
       "- background: False\n",
       "- max_output_tokens: 4096\n",
       "- previous_response_id: None\n",
       "- prompt: None\n",
       "- reasoning: Reasoning(effort=None, generate_summary=None, summary=None)\n",
       "- service_tier: default\n",
       "- status: completed\n",
       "- text: ResponseTextConfig(format=ResponseFormatText(type='text'))\n",
       "- truncation: disabled\n",
       "- usage: ResponseUsage(input_tokens=150, input_tokens_details=InputTokensDetails(cached_tokens=0), output_tokens=125, output_tokens_details=OutputTokensDetails(reasoning_tokens=0), total_tokens=275)\n",
       "- user: None\n",
       "- store: True\n",
       "\n",
       "</details>"
      ],
      "text/plain": [
       "Response(id='resp_6858da2b1024819eb16934c3ea9a1a1801e130a6ba22408a', created_at=1750653483.0, error=None, incomplete_details=None, instructions=None, metadata={}, model='gpt-4.1-2025-04-14', object='response', output=[ResponseOutputMessage(id='msg_6858da2b6340819e9b7e018c6f63430a01e130a6ba22408a', content=[ResponseOutputText(annotations=[], text='Here is the progress so far:\\n\\n- The result of 43 divided by 23,454 is approximately 0.00183338.\\n\\nNext steps (NOT YET COMPLETED):\\n\\n- To continue, you would divide 652 by the previous result (0.00183338).\\n- Take that result and divide 6,843 by it.\\n- Finally, divide 321 by the last result.\\n\\nIf you wish, you can provide another tool use session, or I can help you calculate the remaining steps manually or explain how to do them with a calculator. Let me know how you’d like to proceed!', type='output_text', logprobs=None)], role='assistant', status='completed', type='message')], parallel_tool_calls=True, temperature=1.0, tool_choice='auto', tools=[FunctionTool(name='mydiv', parameters={'type': 'object', 'properties': {'a': {'type': 'number', 'description': ''}, 'b': {'type': 'number', 'description': ''}}, 'required': ['a', 'b']}, strict=True, type='function', description='Divide two numbers')], top_p=1.0, background=False, max_output_tokens=4096, previous_response_id=None, prompt=None, reasoning=Reasoning(effort=None, generate_summary=None, summary=None), service_tier='default', status='completed', text=ResponseTextConfig(format=ResponseFormatText(type='text')), truncation='disabled', usage=In: 150; Out: 125; Total: 275, user=None, store=True)"
      ]
     },
     "metadata": {},
     "output_type": "display_data"
    }
   ],
   "source": [
    "chat = Chat(model, tools=[mydiv])\n",
    "r = chat.toolloop('Please calculate this sequence using your tools: 43/23454; 652/previous result; 6843/previous result; 321/previous result', max_steps=2)\n",
    "for o in r: show(o)"
   ]
  },
  {
   "cell_type": "markdown",
   "id": "bf6178b8",
   "metadata": {},
   "source": [
    "This tests `raise_on_err=False` change to `toolslm.call_func` invocation. We should see this return an error as a string instead of crash:"
   ]
  },
  {
   "cell_type": "code",
   "execution_count": null,
   "id": "730cbb2c",
   "metadata": {},
   "outputs": [
    {
     "data": {
      "text/plain": [
       "[ResponseFunctionToolCall(arguments='{\"a\":1,\"b\":0}', call_id='call_hQG5F4wRH6iMkeql8b93QAJK', name='mydiv', type='function_call', id='fc_6858da2e381081a3afeb279770217ff4007702c7bd215b0b', status='completed')]"
      ]
     },
     "metadata": {},
     "output_type": "display_data"
    },
    {
     "data": {
      "text/plain": [
       "{'type': 'function_call_output',\n",
       " 'call_id': 'call_hQG5F4wRH6iMkeql8b93QAJK',\n",
       " 'output': 'Traceback (most recent call last):\\n  File \"/Users/jhoward/aai-ws/toolslm/toolslm/funccall.py\", line 203, in call_func\\n    try: return func(**fc_inputs)\\n                ^^^^^^^^^^^^^^^^^\\n  File \"/var/folders/51/b2_szf2945n072c0vj2cyty40000gn/T/ipykernel_90905/246724137.py\", line 3, in mydiv\\n    return a / b\\n           ~~^~~\\nZeroDivisionError: division by zero\\n'}"
      ]
     },
     "metadata": {},
     "output_type": "display_data"
    },
    {
     "data": {
      "text/markdown": [
       "When trying to divide 1 by 0, a ZeroDivisionError occurs with the message: division by zero. This error is raised because division by zero is undefined in mathematics and programming.\n",
       "\n",
       "<details>\n",
       "\n",
       "- id: resp_6858da2ea8cc81a3ba912ee9b4c026be007702c7bd215b0b\n",
       "- created_at: 1750653486.0\n",
       "- error: None\n",
       "- incomplete_details: None\n",
       "- instructions: None\n",
       "- metadata: {}\n",
       "- model: gpt-4.1-2025-04-14\n",
       "- object: response\n",
       "- output: [ResponseOutputMessage(id='msg_6858da2ef23c81a3b54d3b81a28a94a5007702c7bd215b0b', content=[ResponseOutputText(annotations=[], text='When trying to divide 1 by 0, a ZeroDivisionError occurs with the message: division by zero. This error is raised because division by zero is undefined in mathematics and programming.', type='output_text', logprobs=None)], role='assistant', status='completed', type='message')]\n",
       "- parallel_tool_calls: True\n",
       "- temperature: 1.0\n",
       "- tool_choice: auto\n",
       "- tools: [FunctionTool(name='mydiv', parameters={'type': 'object', 'properties': {'a': {'type': 'number', 'description': ''}, 'b': {'type': 'number', 'description': ''}}, 'required': ['a', 'b']}, strict=True, type='function', description='Divide two numbers')]\n",
       "- top_p: 1.0\n",
       "- background: False\n",
       "- max_output_tokens: 4096\n",
       "- previous_response_id: None\n",
       "- prompt: None\n",
       "- reasoning: Reasoning(effort=None, generate_summary=None, summary=None)\n",
       "- service_tier: default\n",
       "- status: completed\n",
       "- text: ResponseTextConfig(format=ResponseFormatText(type='text'))\n",
       "- truncation: disabled\n",
       "- usage: ResponseUsage(input_tokens=198, input_tokens_details=InputTokensDetails(cached_tokens=0), output_tokens=40, output_tokens_details=OutputTokensDetails(reasoning_tokens=0), total_tokens=238)\n",
       "- user: None\n",
       "- store: True\n",
       "\n",
       "</details>"
      ],
      "text/plain": [
       "Response(id='resp_6858da2ea8cc81a3ba912ee9b4c026be007702c7bd215b0b', created_at=1750653486.0, error=None, incomplete_details=None, instructions=None, metadata={}, model='gpt-4.1-2025-04-14', object='response', output=[ResponseOutputMessage(id='msg_6858da2ef23c81a3b54d3b81a28a94a5007702c7bd215b0b', content=[ResponseOutputText(annotations=[], text='When trying to divide 1 by 0, a ZeroDivisionError occurs with the message: division by zero. This error is raised because division by zero is undefined in mathematics and programming.', type='output_text', logprobs=None)], role='assistant', status='completed', type='message')], parallel_tool_calls=True, temperature=1.0, tool_choice='auto', tools=[FunctionTool(name='mydiv', parameters={'type': 'object', 'properties': {'a': {'type': 'number', 'description': ''}, 'b': {'type': 'number', 'description': ''}}, 'required': ['a', 'b']}, strict=True, type='function', description='Divide two numbers')], top_p=1.0, background=False, max_output_tokens=4096, previous_response_id=None, prompt=None, reasoning=Reasoning(effort=None, generate_summary=None, summary=None), service_tier='default', status='completed', text=ResponseTextConfig(format=ResponseFormatText(type='text')), truncation='disabled', usage=In: 198; Out: 40; Total: 238, user=None, store=True)"
      ]
     },
     "metadata": {},
     "output_type": "display_data"
    }
   ],
   "source": [
    "chat = Chat(model, tools=[mydiv])\n",
    "r = chat.toolloop('Try dividing 1 by 0 and see what the error result is')\n",
    "for o in r: show(o)"
   ]
  },
  {
   "cell_type": "markdown",
   "id": "8fefe903",
   "metadata": {},
   "source": [
    "## Export -"
   ]
  },
  {
   "cell_type": "code",
   "execution_count": null,
   "id": "1e9ee5c1",
   "metadata": {},
   "outputs": [],
   "source": [
    "#|hide\n",
    "#|eval: false\n",
    "from nbdev.doclinks import nbdev_export\n",
    "nbdev_export()"
   ]
  },
  {
   "cell_type": "code",
   "execution_count": null,
   "id": "c627b799",
   "metadata": {},
   "outputs": [],
   "source": []
  }
 ],
 "metadata": {
  "kernelspec": {
   "display_name": "python3",
   "language": "python",
   "name": "python3"
  }
 },
 "nbformat": 4,
 "nbformat_minor": 5
}
