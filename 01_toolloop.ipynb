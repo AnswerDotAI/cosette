{
 "cells": [
  {
   "cell_type": "code",
   "execution_count": null,
   "id": "efe78920",
   "metadata": {},
   "outputs": [],
   "source": [
    "#|default_exp toolloop"
   ]
  },
  {
   "cell_type": "markdown",
   "id": "3d773712-12fe-440e-891f-36f59666dfde",
   "metadata": {},
   "source": [
    "# Tool loop"
   ]
  },
  {
   "cell_type": "code",
   "execution_count": null,
   "id": "033c76fd",
   "metadata": {},
   "outputs": [],
   "source": [
    "#| export\n",
    "from cosette.core import *\n",
    "from fastcore.utils import *\n",
    "from fastcore.meta import delegates\n",
    "\n",
    "from openai.resources.chat import Completions"
   ]
  },
  {
   "cell_type": "code",
   "execution_count": null,
   "id": "b7951c8f",
   "metadata": {},
   "outputs": [],
   "source": [
    "from IPython.display import display, Markdown, clear_output\n",
    "from pprint import pprint"
   ]
  },
  {
   "cell_type": "code",
   "execution_count": null,
   "id": "596a22f4",
   "metadata": {},
   "outputs": [
    {
     "data": {
      "text/plain": [
       "('o1-preview',\n",
       " 'o1-mini',\n",
       " 'gpt-4o',\n",
       " 'gpt-4o-mini',\n",
       " 'gpt-4-turbo',\n",
       " 'gpt-4',\n",
       " 'gpt-4-32k',\n",
       " 'gpt-3.5-turbo',\n",
       " 'gpt-3.5-turbo-instruct',\n",
       " 'o1',\n",
       " 'o3-mini',\n",
       " 'chatgpt-4o-latest',\n",
       " 'o1-pro',\n",
       " 'o3',\n",
       " 'o4-mini')"
      ]
     },
     "execution_count": null,
     "metadata": {},
     "output_type": "execute_result"
    }
   ],
   "source": [
    "models"
   ]
  },
  {
   "cell_type": "code",
   "execution_count": null,
   "id": "f998b27f",
   "metadata": {},
   "outputs": [
    {
     "data": {
      "text/plain": [
       "'o4-mini'"
      ]
     },
     "execution_count": null,
     "metadata": {},
     "output_type": "execute_result"
    }
   ],
   "source": [
    "model = models[14]\n",
    "model"
   ]
  },
  {
   "cell_type": "markdown",
   "id": "a49b64b5",
   "metadata": {},
   "source": [
    "## Sample Data"
   ]
  },
  {
   "cell_type": "code",
   "execution_count": null,
   "id": "34342c4b",
   "metadata": {},
   "outputs": [],
   "source": [
    "def _get_orders_customers():\n",
    "    orders = {\n",
    "        \"O1\": dict(id=\"O1\", product=\"Widget A\", quantity=2, price=19.99, status=\"Shipped\"),\n",
    "        \"O2\": dict(id=\"O2\", product=\"Gadget B\", quantity=1, price=49.99, status=\"Processing\"),\n",
    "        \"O3\": dict(id=\"O3\", product=\"Gadget B\", quantity=2, price=49.99, status=\"Shipped\")}\n",
    "\n",
    "    customers = {\n",
    "        \"C1\": dict(name=\"John Doe\", email=\"john@example.com\", phone=\"123-456-7890\",\n",
    "                   orders=[orders['O1'], orders['O2']]),\n",
    "        \"C2\": dict(name=\"Jane Smith\", email=\"jane@example.com\", phone=\"987-654-3210\",\n",
    "                   orders=[orders['O3']])\n",
    "    }\n",
    "    return orders, customers"
   ]
  },
  {
   "cell_type": "code",
   "execution_count": null,
   "id": "207f9715",
   "metadata": {},
   "outputs": [],
   "source": [
    "orders, customers = _get_orders_customers()"
   ]
  },
  {
   "cell_type": "code",
   "execution_count": null,
   "id": "2778dde0",
   "metadata": {},
   "outputs": [],
   "source": [
    "def get_customer_info(\n",
    "    customer_id:str # ID of the customer\n",
    "): # Customer's name, email, phone number, and list of orders\n",
    "    \"Retrieves a customer's information and their orders based on the customer ID\"\n",
    "    print(f'- Retrieving customer {customer_id}')\n",
    "    return customers.get(customer_id, \"Customer not found\")\n",
    "\n",
    "def get_order_details(\n",
    "    order_id:str # ID of the order\n",
    "): # Order's ID, product name, quantity, price, and order status\n",
    "    \"Retrieves the details of a specific order based on the order ID\"\n",
    "    print(f'- Retrieving order {order_id}')\n",
    "    return orders.get(order_id, \"Order not found\")\n",
    "\n",
    "def cancel_order(\n",
    "    order_id:str # ID of the order to cancel\n",
    ")->bool: # True if the cancellation is successful\n",
    "    \"Cancels an order based on the provided order ID\"\n",
    "    print(f'- Cancelling order {order_id}')\n",
    "    if order_id not in orders: return False\n",
    "    orders[order_id]['status'] = 'Cancelled'\n",
    "    return True"
   ]
  },
  {
   "cell_type": "code",
   "execution_count": null,
   "id": "a4231dff",
   "metadata": {},
   "outputs": [],
   "source": [
    "tools = [get_customer_info, get_order_details, cancel_order]\n",
    "chat = Chat(model, tools=tools)"
   ]
  },
  {
   "cell_type": "code",
   "execution_count": null,
   "id": "1a27c80b",
   "metadata": {},
   "outputs": [
    {
     "name": "stdout",
     "output_type": "stream",
     "text": [
      "- Retrieving customer C2\n"
     ]
    }
   ],
   "source": [
    "r = chat('Can you tell me the email address for customer C2?')"
   ]
  },
  {
   "cell_type": "code",
   "execution_count": null,
   "id": "2d4bd040",
   "metadata": {},
   "outputs": [
    {
     "name": "stdout",
     "output_type": "stream",
     "text": [
      "tool_calls\n"
     ]
    },
    {
     "data": {
      "text/plain": [
       "Choice(finish_reason='tool_calls', index=0, logprobs=None, message=ChatCompletionMessage(content=None, refusal=None, role='assistant', annotations=[], audio=None, function_call=None, tool_calls=[ChatCompletionMessageToolCall(id='call_rIx4jlrIc9YOYt04BuJQUuB3', function=Function(arguments='{\"customer_id\":\"C2\"}', name='get_customer_info'), type='function')]))"
      ]
     },
     "execution_count": null,
     "metadata": {},
     "output_type": "execute_result"
    }
   ],
   "source": [
    "choice = r.choices[0]\n",
    "print(choice.finish_reason)\n",
    "choice"
   ]
  },
  {
   "cell_type": "code",
   "execution_count": null,
   "id": "09196e94",
   "metadata": {},
   "outputs": [
    {
     "data": {
      "text/markdown": [
       "The email address for customer C2 (Jane Smith) is: jane@example.com.\n",
       "\n",
       "<details>\n",
       "\n",
       "- id: chatcmpl-BjA0oSZlb6qWEN6nhC9itpiEsd0F5\n",
       "- choices: [Choice(finish_reason='stop', index=0, logprobs=None, message=ChatCompletionMessage(content='The email address for customer C2 (Jane Smith) is: jane@example.com.', refusal=None, role='assistant', annotations=[], audio=None, function_call=None, tool_calls=None))]\n",
       "- created: 1750102946\n",
       "- model: o4-mini-2025-04-16\n",
       "- object: chat.completion\n",
       "- service_tier: default\n",
       "- system_fingerprint: None\n",
       "- usage: CompletionUsage(completion_tokens=35, prompt_tokens=246, total_tokens=281, completion_tokens_details=CompletionTokensDetails(accepted_prediction_tokens=0, audio_tokens=0, reasoning_tokens=0, rejected_prediction_tokens=0), prompt_tokens_details=PromptTokensDetails(audio_tokens=0, cached_tokens=0))\n",
       "\n",
       "</details>"
      ],
      "text/plain": [
       "ChatCompletion(id='chatcmpl-BjA0oSZlb6qWEN6nhC9itpiEsd0F5', choices=[Choice(finish_reason='stop', index=0, logprobs=None, message=ChatCompletionMessage(content='The email address for customer C2 (Jane Smith) is: jane@example.com.', refusal=None, role='assistant', annotations=[], audio=None, function_call=None, tool_calls=None))], created=1750102946, model='o4-mini-2025-04-16', object='chat.completion', service_tier='default', system_fingerprint=None, usage=In: 246; Out: 35; Total: 281)"
      ]
     },
     "execution_count": null,
     "metadata": {},
     "output_type": "execute_result"
    }
   ],
   "source": [
    "r = chat()\n",
    "r"
   ]
  },
  {
   "cell_type": "code",
   "execution_count": null,
   "id": "6aa531d0",
   "metadata": {},
   "outputs": [
    {
     "name": "stdout",
     "output_type": "stream",
     "text": [
      "- Retrieving customer C1\n",
      "tool_calls\n"
     ]
    },
    {
     "data": {
      "text/plain": [
       "ChatCompletionMessage(content=None, refusal=None, role='assistant', annotations=[], audio=None, function_call=None, tool_calls=[ChatCompletionMessageToolCall(id='call_5b64GsUTmKMCqb2mtqtsUXp6', function=Function(arguments='{\"customer_id\":\"C1\"}', name='get_customer_info'), type='function')])"
      ]
     },
     "execution_count": null,
     "metadata": {},
     "output_type": "execute_result"
    }
   ],
   "source": [
    "chat = Chat(model, tools=tools)\n",
    "r = chat('Please cancel all orders for customer C1 for me.')\n",
    "print(r.choices[0].finish_reason)\n",
    "find_block(r)"
   ]
  },
  {
   "cell_type": "markdown",
   "id": "4388cffe",
   "metadata": {},
   "source": [
    "## `toolloop` implementation"
   ]
  },
  {
   "cell_type": "code",
   "execution_count": null,
   "id": "e0136903",
   "metadata": {},
   "outputs": [],
   "source": [
    "#| exports\n",
    "_final_prompt = \"You have no more tool uses. Please summarize your findings. If you did not complete your goal please tell the user what further work needs to be done so they can choose how best to proceed.\""
   ]
  },
  {
   "cell_type": "code",
   "execution_count": null,
   "id": "84eac4c1",
   "metadata": {},
   "outputs": [],
   "source": [
    "#| exports\n",
    "@patch\n",
    "@delegates(Chat.__call__)\n",
    "def toolloop(self:Chat,\n",
    "             pr, # Prompt to pass to Claude\n",
    "             max_steps=10, # Maximum number of tool requests to loop through\n",
    "             cont_func:callable=noop, # Function that stops loop if returns False\n",
    "             final_prompt=_final_prompt, # Prompt to add if last message is a tool call\n",
    "             **kwargs):\n",
    "    \"Add prompt `pr` to dialog and get a response from Claude, automatically following up with `tool_use` messages\"\n",
    "    class _Loop:\n",
    "        def __iter__(a):\n",
    "            init_n = len(self.h)\n",
    "            r = self(pr, **kwargs)\n",
    "            yield r\n",
    "            if len(self.last)>1: yield self.last[1]\n",
    "            for i in range(max_steps-1):\n",
    "                if r.choices[0].finish_reason != 'tool_calls': break\n",
    "                r = self(final_prompt if i==max_steps-2 else None, **kwargs)\n",
    "                yield r\n",
    "                if len(self.last)>1: yield self.last[1]\n",
    "                if not cont_func(*self.h[-3:]): break\n",
    "            a.value = self.h[init_n+1:]\n",
    "    return _Loop()"
   ]
  },
  {
   "cell_type": "markdown",
   "id": "491fd736",
   "metadata": {},
   "source": [
    "## Test Customer Dataset"
   ]
  },
  {
   "cell_type": "code",
   "execution_count": null,
   "id": "78cc0eff",
   "metadata": {},
   "outputs": [
    {
     "name": "stdout",
     "output_type": "stream",
     "text": [
      "- Retrieving customer C1\n"
     ]
    },
    {
     "data": {
      "text/markdown": [
       "- id: chatcmpl-BjA16YUSVRETf3MKfZhvOSToAGL3u\n",
       "- choices: [Choice(finish_reason='tool_calls', index=0, logprobs=None, message=ChatCompletionMessage(content=None, refusal=None, role='assistant', annotations=[], audio=None, function_call=None, tool_calls=[ChatCompletionMessageToolCall(id='call_H0kNomg5F0wVqiR8EDSu2aWn', function=Function(arguments='{\"customer_id\":\"C1\"}', name='get_customer_info'), type='function')]))]\n",
       "- created: 1750102964\n",
       "- model: o4-mini-2025-04-16\n",
       "- object: chat.completion\n",
       "- service_tier: default\n",
       "- system_fingerprint: None\n",
       "- usage: CompletionUsage(completion_tokens=26, prompt_tokens=147, total_tokens=173, completion_tokens_details=CompletionTokensDetails(accepted_prediction_tokens=0, audio_tokens=0, reasoning_tokens=0, rejected_prediction_tokens=0), prompt_tokens_details=PromptTokensDetails(audio_tokens=0, cached_tokens=0))"
      ],
      "text/plain": [
       "ChatCompletion(id='chatcmpl-BjA16YUSVRETf3MKfZhvOSToAGL3u', choices=[Choice(finish_reason='tool_calls', index=0, logprobs=None, message=ChatCompletionMessage(content=None, refusal=None, role='assistant', annotations=[], audio=None, function_call=None, tool_calls=[ChatCompletionMessageToolCall(id='call_H0kNomg5F0wVqiR8EDSu2aWn', function=Function(arguments='{\"customer_id\":\"C1\"}', name='get_customer_info'), type='function')]))], created=1750102964, model='o4-mini-2025-04-16', object='chat.completion', service_tier='default', system_fingerprint=None, usage=In: 147; Out: 26; Total: 173)"
      ]
     },
     "metadata": {},
     "output_type": "display_data"
    },
    {
     "data": {
      "text/markdown": [
       "```json\n",
       "{ 'content': \"{'name': 'John Doe', 'email': 'john@example.com', 'phone': \"\n",
       "             \"'123-456-7890', 'orders': [{'id': 'O1', 'product': 'Widget A', \"\n",
       "             \"'quantity': 2, 'price': 19.99, 'status': 'Cancelled'}, {'id': \"\n",
       "             \"'O2', 'product': 'Gadget B', 'quantity': 1, 'price': 49.99, \"\n",
       "             \"'status': 'Cancelled'}]}\",\n",
       "  'name': 'get_customer_info',\n",
       "  'role': 'tool',\n",
       "  'tool_call_id': 'call_H0kNomg5F0wVqiR8EDSu2aWn'}\n",
       "```"
      ],
      "text/plain": [
       "{'role': 'tool',\n",
       " 'content': \"{'name': 'John Doe', 'email': 'john@example.com', 'phone': '123-456-7890', 'orders': [{'id': 'O1', 'product': 'Widget A', 'quantity': 2, 'price': 19.99, 'status': 'Cancelled'}, {'id': 'O2', 'product': 'Gadget B', 'quantity': 1, 'price': 49.99, 'status': 'Cancelled'}]}\",\n",
       " 'tool_call_id': 'call_H0kNomg5F0wVqiR8EDSu2aWn',\n",
       " 'name': 'get_customer_info'}"
      ]
     },
     "metadata": {},
     "output_type": "display_data"
    },
    {
     "data": {
      "text/markdown": [
       "The email address for customer C1 is john@example.com.\n",
       "\n",
       "<details>\n",
       "\n",
       "- id: chatcmpl-BjA18DXRyQQq88cKBavOGEn4SCkJC\n",
       "- choices: [Choice(finish_reason='stop', index=0, logprobs=None, message=ChatCompletionMessage(content='The email address for customer C1 is john@example.com.', refusal=None, role='assistant', annotations=[], audio=None, function_call=None, tool_calls=None))]\n",
       "- created: 1750102966\n",
       "- model: o4-mini-2025-04-16\n",
       "- object: chat.completion\n",
       "- service_tier: default\n",
       "- system_fingerprint: None\n",
       "- usage: CompletionUsage(completion_tokens=30, prompt_tokens=278, total_tokens=308, completion_tokens_details=CompletionTokensDetails(accepted_prediction_tokens=0, audio_tokens=0, reasoning_tokens=0, rejected_prediction_tokens=0), prompt_tokens_details=PromptTokensDetails(audio_tokens=0, cached_tokens=0))\n",
       "\n",
       "</details>"
      ],
      "text/plain": [
       "ChatCompletion(id='chatcmpl-BjA18DXRyQQq88cKBavOGEn4SCkJC', choices=[Choice(finish_reason='stop', index=0, logprobs=None, message=ChatCompletionMessage(content='The email address for customer C1 is john@example.com.', refusal=None, role='assistant', annotations=[], audio=None, function_call=None, tool_calls=None))], created=1750102966, model='o4-mini-2025-04-16', object='chat.completion', service_tier='default', system_fingerprint=None, usage=In: 278; Out: 30; Total: 308)"
      ]
     },
     "metadata": {},
     "output_type": "display_data"
    }
   ],
   "source": [
    "chat = Chat(model, tools=tools)\n",
    "pr = 'Can you tell me the email address for customer C1?'\n",
    "r = chat.toolloop(pr)\n",
    "for o in r: display(o)"
   ]
  },
  {
   "cell_type": "code",
   "execution_count": null,
   "id": "5c586d6a",
   "metadata": {},
   "outputs": [
    {
     "name": "stdout",
     "output_type": "stream",
     "text": [
      "[ChatCompletionMessage(content=None, refusal=None, role='assistant', annotations=[], audio=None, function_call=None, tool_calls=[ChatCompletionMessageToolCall(id='call_H0kNomg5F0wVqiR8EDSu2aWn', function=Function(arguments='{\"customer_id\":\"C1\"}', name='get_customer_info'), type='function')]),\n",
      " {'content': \"{'name': 'John Doe', 'email': 'john@example.com', 'phone': \"\n",
      "             \"'123-456-7890', 'orders': [{'id': 'O1', 'product': 'Widget A', \"\n",
      "             \"'quantity': 2, 'price': 19.99, 'status': 'Cancelled'}, {'id': \"\n",
      "             \"'O2', 'product': 'Gadget B', 'quantity': 1, 'price': 49.99, \"\n",
      "             \"'status': 'Cancelled'}]}\",\n",
      "  'name': 'get_customer_info',\n",
      "  'role': 'tool',\n",
      "  'tool_call_id': 'call_H0kNomg5F0wVqiR8EDSu2aWn'},\n",
      " ChatCompletionMessage(content='The email address for customer C1 is john@example.com.', refusal=None, role='assistant', annotations=[], audio=None, function_call=None, tool_calls=None)]\n"
     ]
    }
   ],
   "source": [
    "pprint(r.value)"
   ]
  },
  {
   "cell_type": "code",
   "execution_count": null,
   "id": "050f6591",
   "metadata": {},
   "outputs": [],
   "source": [
    "orders, customers = _get_orders_customers()"
   ]
  },
  {
   "cell_type": "code",
   "execution_count": null,
   "id": "8de04256",
   "metadata": {},
   "outputs": [
    {
     "name": "stdout",
     "output_type": "stream",
     "text": [
      "- Retrieving order O2\n"
     ]
    },
    {
     "data": {
      "text/markdown": [
       "- id: chatcmpl-BjA1AQNdi4SF9WAxeT66NDCTXhQwE\n",
       "- choices: [Choice(finish_reason='tool_calls', index=0, logprobs=None, message=ChatCompletionMessage(content=None, refusal=None, role='assistant', annotations=[], audio=None, function_call=None, tool_calls=[ChatCompletionMessageToolCall(id='call_7I3ugfxBZbhApKLgkhpH3pQf', function=Function(arguments='{\"order_id\":\"O2\"}', name='get_order_details'), type='function')]))]\n",
       "- created: 1750102968\n",
       "- model: o4-mini-2025-04-16\n",
       "- object: chat.completion\n",
       "- service_tier: default\n",
       "- system_fingerprint: None\n",
       "- usage: CompletionUsage(completion_tokens=26, prompt_tokens=144, total_tokens=170, completion_tokens_details=CompletionTokensDetails(accepted_prediction_tokens=0, audio_tokens=0, reasoning_tokens=0, rejected_prediction_tokens=0), prompt_tokens_details=PromptTokensDetails(audio_tokens=0, cached_tokens=0))"
      ],
      "text/plain": [
       "ChatCompletion(id='chatcmpl-BjA1AQNdi4SF9WAxeT66NDCTXhQwE', choices=[Choice(finish_reason='tool_calls', index=0, logprobs=None, message=ChatCompletionMessage(content=None, refusal=None, role='assistant', annotations=[], audio=None, function_call=None, tool_calls=[ChatCompletionMessageToolCall(id='call_7I3ugfxBZbhApKLgkhpH3pQf', function=Function(arguments='{\"order_id\":\"O2\"}', name='get_order_details'), type='function')]))], created=1750102968, model='o4-mini-2025-04-16', object='chat.completion', service_tier='default', system_fingerprint=None, usage=In: 144; Out: 26; Total: 170)"
      ]
     },
     "metadata": {},
     "output_type": "display_data"
    },
    {
     "data": {
      "text/markdown": [
       "```json\n",
       "{ 'content': \"{'id': 'O2', 'product': 'Gadget B', 'quantity': 1, 'price': \"\n",
       "             \"49.99, 'status': 'Processing'}\",\n",
       "  'name': 'get_order_details',\n",
       "  'role': 'tool',\n",
       "  'tool_call_id': 'call_7I3ugfxBZbhApKLgkhpH3pQf'}\n",
       "```"
      ],
      "text/plain": [
       "{'role': 'tool',\n",
       " 'content': \"{'id': 'O2', 'product': 'Gadget B', 'quantity': 1, 'price': 49.99, 'status': 'Processing'}\",\n",
       " 'tool_call_id': 'call_7I3ugfxBZbhApKLgkhpH3pQf',\n",
       " 'name': 'get_order_details'}"
      ]
     },
     "metadata": {},
     "output_type": "display_data"
    },
    {
     "data": {
      "text/markdown": [
       "The status of order O2 is “Processing.”\n",
       "\n",
       "<details>\n",
       "\n",
       "- id: chatcmpl-BjA1C5TznRspip7U7eAl7Re7xUIey\n",
       "- choices: [Choice(finish_reason='stop', index=0, logprobs=None, message=ChatCompletionMessage(content='The status of order O2 is “Processing.”', refusal=None, role='assistant', annotations=[], audio=None, function_call=None, tool_calls=None))]\n",
       "- created: 1750102970\n",
       "- model: o4-mini-2025-04-16\n",
       "- object: chat.completion\n",
       "- service_tier: default\n",
       "- system_fingerprint: None\n",
       "- usage: CompletionUsage(completion_tokens=22, prompt_tokens=211, total_tokens=233, completion_tokens_details=CompletionTokensDetails(accepted_prediction_tokens=0, audio_tokens=0, reasoning_tokens=0, rejected_prediction_tokens=0), prompt_tokens_details=PromptTokensDetails(audio_tokens=0, cached_tokens=0))\n",
       "\n",
       "</details>"
      ],
      "text/plain": [
       "ChatCompletion(id='chatcmpl-BjA1C5TznRspip7U7eAl7Re7xUIey', choices=[Choice(finish_reason='stop', index=0, logprobs=None, message=ChatCompletionMessage(content='The status of order O2 is “Processing.”', refusal=None, role='assistant', annotations=[], audio=None, function_call=None, tool_calls=None))], created=1750102970, model='o4-mini-2025-04-16', object='chat.completion', service_tier='default', system_fingerprint=None, usage=In: 211; Out: 22; Total: 233)"
      ]
     },
     "metadata": {},
     "output_type": "display_data"
    }
   ],
   "source": [
    "chat = Chat(model, tools=tools)\n",
    "r = chat.toolloop('What is the status of order O2?')\n",
    "for o in r: display(o)"
   ]
  },
  {
   "cell_type": "code",
   "execution_count": null,
   "id": "f8c0fec9",
   "metadata": {},
   "outputs": [
    {
     "name": "stdout",
     "output_type": "stream",
     "text": [
      "- Retrieving customer C1\n"
     ]
    },
    {
     "data": {
      "text/markdown": [
       "- id: chatcmpl-BjA1DkRjKa0BOV0xQKmgeaHISzcbT\n",
       "- choices: [Choice(finish_reason='tool_calls', index=0, logprobs=None, message=ChatCompletionMessage(content=None, refusal=None, role='assistant', annotations=[], audio=None, function_call=None, tool_calls=[ChatCompletionMessageToolCall(id='call_rGJnn2TY03odl0yot4Lcbk6R', function=Function(arguments='{\"customer_id\":\"C1\"}', name='get_customer_info'), type='function')]))]\n",
       "- created: 1750102971\n",
       "- model: o4-mini-2025-04-16\n",
       "- object: chat.completion\n",
       "- service_tier: default\n",
       "- system_fingerprint: None\n",
       "- usage: CompletionUsage(completion_tokens=218, prompt_tokens=242, total_tokens=460, completion_tokens_details=CompletionTokensDetails(accepted_prediction_tokens=0, audio_tokens=0, reasoning_tokens=192, rejected_prediction_tokens=0), prompt_tokens_details=PromptTokensDetails(audio_tokens=0, cached_tokens=0))"
      ],
      "text/plain": [
       "ChatCompletion(id='chatcmpl-BjA1DkRjKa0BOV0xQKmgeaHISzcbT', choices=[Choice(finish_reason='tool_calls', index=0, logprobs=None, message=ChatCompletionMessage(content=None, refusal=None, role='assistant', annotations=[], audio=None, function_call=None, tool_calls=[ChatCompletionMessageToolCall(id='call_rGJnn2TY03odl0yot4Lcbk6R', function=Function(arguments='{\"customer_id\":\"C1\"}', name='get_customer_info'), type='function')]))], created=1750102971, model='o4-mini-2025-04-16', object='chat.completion', service_tier='default', system_fingerprint=None, usage=In: 242; Out: 218; Total: 460)"
      ]
     },
     "metadata": {},
     "output_type": "display_data"
    },
    {
     "data": {
      "text/markdown": [
       "```json\n",
       "{ 'content': \"{'name': 'John Doe', 'email': 'john@example.com', 'phone': \"\n",
       "             \"'123-456-7890', 'orders': [{'id': 'O1', 'product': 'Widget A', \"\n",
       "             \"'quantity': 2, 'price': 19.99, 'status': 'Shipped'}, {'id': \"\n",
       "             \"'O2', 'product': 'Gadget B', 'quantity': 1, 'price': 49.99, \"\n",
       "             \"'status': 'Processing'}]}\",\n",
       "  'name': 'get_customer_info',\n",
       "  'role': 'tool',\n",
       "  'tool_call_id': 'call_rGJnn2TY03odl0yot4Lcbk6R'}\n",
       "```"
      ],
      "text/plain": [
       "{'role': 'tool',\n",
       " 'content': \"{'name': 'John Doe', 'email': 'john@example.com', 'phone': '123-456-7890', 'orders': [{'id': 'O1', 'product': 'Widget A', 'quantity': 2, 'price': 19.99, 'status': 'Shipped'}, {'id': 'O2', 'product': 'Gadget B', 'quantity': 1, 'price': 49.99, 'status': 'Processing'}]}\",\n",
       " 'tool_call_id': 'call_rGJnn2TY03odl0yot4Lcbk6R',\n",
       " 'name': 'get_customer_info'}"
      ]
     },
     "metadata": {},
     "output_type": "display_data"
    },
    {
     "name": "stdout",
     "output_type": "stream",
     "text": [
      "- Cancelling order O1\n"
     ]
    },
    {
     "data": {
      "text/markdown": [
       "- id: chatcmpl-BjA1HTq3pyutXIeCIP47aDSyPWqs9\n",
       "- choices: [Choice(finish_reason='tool_calls', index=0, logprobs=None, message=ChatCompletionMessage(content=None, refusal=None, role='assistant', annotations=[], audio=None, function_call=None, tool_calls=[ChatCompletionMessageToolCall(id='call_JWB8rjsYpoWBdmyz6MPPPVZU', function=Function(arguments='{\"order_id\":\"O1\"}', name='cancel_order'), type='function')]))]\n",
       "- created: 1750102975\n",
       "- model: o4-mini-2025-04-16\n",
       "- object: chat.completion\n",
       "- service_tier: default\n",
       "- system_fingerprint: None\n",
       "- usage: CompletionUsage(completion_tokens=217, prompt_tokens=374, total_tokens=591, completion_tokens_details=CompletionTokensDetails(accepted_prediction_tokens=0, audio_tokens=0, reasoning_tokens=192, rejected_prediction_tokens=0), prompt_tokens_details=PromptTokensDetails(audio_tokens=0, cached_tokens=0))"
      ],
      "text/plain": [
       "ChatCompletion(id='chatcmpl-BjA1HTq3pyutXIeCIP47aDSyPWqs9', choices=[Choice(finish_reason='tool_calls', index=0, logprobs=None, message=ChatCompletionMessage(content=None, refusal=None, role='assistant', annotations=[], audio=None, function_call=None, tool_calls=[ChatCompletionMessageToolCall(id='call_JWB8rjsYpoWBdmyz6MPPPVZU', function=Function(arguments='{\"order_id\":\"O1\"}', name='cancel_order'), type='function')]))], created=1750102975, model='o4-mini-2025-04-16', object='chat.completion', service_tier='default', system_fingerprint=None, usage=In: 374; Out: 217; Total: 591)"
      ]
     },
     "metadata": {},
     "output_type": "display_data"
    },
    {
     "data": {
      "text/markdown": [
       "```json\n",
       "{ 'content': 'True',\n",
       "  'name': 'cancel_order',\n",
       "  'role': 'tool',\n",
       "  'tool_call_id': 'call_JWB8rjsYpoWBdmyz6MPPPVZU'}\n",
       "```"
      ],
      "text/plain": [
       "{'role': 'tool',\n",
       " 'content': 'True',\n",
       " 'tool_call_id': 'call_JWB8rjsYpoWBdmyz6MPPPVZU',\n",
       " 'name': 'cancel_order'}"
      ]
     },
     "metadata": {},
     "output_type": "display_data"
    },
    {
     "name": "stdout",
     "output_type": "stream",
     "text": [
      "- Cancelling order O2\n"
     ]
    },
    {
     "data": {
      "text/markdown": [
       "- id: chatcmpl-BjA1Khf8gjWTUV82pzgxDs4zJ0pFp\n",
       "- choices: [Choice(finish_reason='tool_calls', index=0, logprobs=None, message=ChatCompletionMessage(content=None, refusal=None, role='assistant', annotations=[], audio=None, function_call=None, tool_calls=[ChatCompletionMessageToolCall(id='call_Eq2CHHP881RPwaoOvuIjlfwL', function=Function(arguments='{\"order_id\":\"O2\"}', name='cancel_order'), type='function')]))]\n",
       "- created: 1750102978\n",
       "- model: o4-mini-2025-04-16\n",
       "- object: chat.completion\n",
       "- service_tier: default\n",
       "- system_fingerprint: None\n",
       "- usage: CompletionUsage(completion_tokens=217, prompt_tokens=405, total_tokens=622, completion_tokens_details=CompletionTokensDetails(accepted_prediction_tokens=0, audio_tokens=0, reasoning_tokens=192, rejected_prediction_tokens=0), prompt_tokens_details=PromptTokensDetails(audio_tokens=0, cached_tokens=0))"
      ],
      "text/plain": [
       "ChatCompletion(id='chatcmpl-BjA1Khf8gjWTUV82pzgxDs4zJ0pFp', choices=[Choice(finish_reason='tool_calls', index=0, logprobs=None, message=ChatCompletionMessage(content=None, refusal=None, role='assistant', annotations=[], audio=None, function_call=None, tool_calls=[ChatCompletionMessageToolCall(id='call_Eq2CHHP881RPwaoOvuIjlfwL', function=Function(arguments='{\"order_id\":\"O2\"}', name='cancel_order'), type='function')]))], created=1750102978, model='o4-mini-2025-04-16', object='chat.completion', service_tier='default', system_fingerprint=None, usage=In: 405; Out: 217; Total: 622)"
      ]
     },
     "metadata": {},
     "output_type": "display_data"
    },
    {
     "data": {
      "text/markdown": [
       "```json\n",
       "{ 'content': 'True',\n",
       "  'name': 'cancel_order',\n",
       "  'role': 'tool',\n",
       "  'tool_call_id': 'call_Eq2CHHP881RPwaoOvuIjlfwL'}\n",
       "```"
      ],
      "text/plain": [
       "{'role': 'tool',\n",
       " 'content': 'True',\n",
       " 'tool_call_id': 'call_Eq2CHHP881RPwaoOvuIjlfwL',\n",
       " 'name': 'cancel_order'}"
      ]
     },
     "metadata": {},
     "output_type": "display_data"
    },
    {
     "data": {
      "text/markdown": [
       "Both orders for customer C1 have been successfully canceled:\n",
       "\n",
       "- Order O1: Canceled  \n",
       "- Order O2: Canceled\n",
       "\n",
       "Let me know if there’s anything else I can help you with!\n",
       "\n",
       "<details>\n",
       "\n",
       "- id: chatcmpl-BjA1PFmlPuLUomaKvYxaJOlgCtABE\n",
       "- choices: [Choice(finish_reason='stop', index=0, logprobs=None, message=ChatCompletionMessage(content='Both orders for customer C1 have been successfully canceled:\\n\\n- Order O1: Canceled  \\n- Order O2: Canceled\\n\\nLet me know if there’s anything else I can help you with!', refusal=None, role='assistant', annotations=[], audio=None, function_call=None, tool_calls=None))]\n",
       "- created: 1750102983\n",
       "- model: o4-mini-2025-04-16\n",
       "- object: chat.completion\n",
       "- service_tier: default\n",
       "- system_fingerprint: None\n",
       "- usage: CompletionUsage(completion_tokens=53, prompt_tokens=436, total_tokens=489, completion_tokens_details=CompletionTokensDetails(accepted_prediction_tokens=0, audio_tokens=0, reasoning_tokens=0, rejected_prediction_tokens=0), prompt_tokens_details=PromptTokensDetails(audio_tokens=0, cached_tokens=0))\n",
       "\n",
       "</details>"
      ],
      "text/plain": [
       "ChatCompletion(id='chatcmpl-BjA1PFmlPuLUomaKvYxaJOlgCtABE', choices=[Choice(finish_reason='stop', index=0, logprobs=None, message=ChatCompletionMessage(content='Both orders for customer C1 have been successfully canceled:\\n\\n- Order O1: Canceled  \\n- Order O2: Canceled\\n\\nLet me know if there’s anything else I can help you with!', refusal=None, role='assistant', annotations=[], audio=None, function_call=None, tool_calls=None))], created=1750102983, model='o4-mini-2025-04-16', object='chat.completion', service_tier='default', system_fingerprint=None, usage=In: 436; Out: 53; Total: 489)"
      ]
     },
     "metadata": {},
     "output_type": "display_data"
    }
   ],
   "source": [
    "r = chat.toolloop('Please cancel all orders for customer C1 for me.')\n",
    "for o in r: display(o)"
   ]
  },
  {
   "cell_type": "code",
   "execution_count": null,
   "id": "2421d39d",
   "metadata": {},
   "outputs": [
    {
     "name": "stdout",
     "output_type": "stream",
     "text": [
      "- Retrieving order O2\n"
     ]
    },
    {
     "data": {
      "text/markdown": [
       "- id: chatcmpl-BjA1QvyErrb3Rg9yra6vC8KxlPg65\n",
       "- choices: [Choice(finish_reason='tool_calls', index=0, logprobs=None, message=ChatCompletionMessage(content=None, refusal=None, role='assistant', annotations=[], audio=None, function_call=None, tool_calls=[ChatCompletionMessageToolCall(id='call_75RFqe2Nm8sxT5SxsDhn5Fyz', function=Function(arguments='{\"order_id\":\"O2\"}', name='get_order_details'), type='function')]))]\n",
       "- created: 1750102984\n",
       "- model: o4-mini-2025-04-16\n",
       "- object: chat.completion\n",
       "- service_tier: default\n",
       "- system_fingerprint: None\n",
       "- usage: CompletionUsage(completion_tokens=218, prompt_tokens=496, total_tokens=714, completion_tokens_details=CompletionTokensDetails(accepted_prediction_tokens=0, audio_tokens=0, reasoning_tokens=192, rejected_prediction_tokens=0), prompt_tokens_details=PromptTokensDetails(audio_tokens=0, cached_tokens=0))"
      ],
      "text/plain": [
       "ChatCompletion(id='chatcmpl-BjA1QvyErrb3Rg9yra6vC8KxlPg65', choices=[Choice(finish_reason='tool_calls', index=0, logprobs=None, message=ChatCompletionMessage(content=None, refusal=None, role='assistant', annotations=[], audio=None, function_call=None, tool_calls=[ChatCompletionMessageToolCall(id='call_75RFqe2Nm8sxT5SxsDhn5Fyz', function=Function(arguments='{\"order_id\":\"O2\"}', name='get_order_details'), type='function')]))], created=1750102984, model='o4-mini-2025-04-16', object='chat.completion', service_tier='default', system_fingerprint=None, usage=In: 496; Out: 218; Total: 714)"
      ]
     },
     "metadata": {},
     "output_type": "display_data"
    },
    {
     "data": {
      "text/markdown": [
       "```json\n",
       "{ 'content': \"{'id': 'O2', 'product': 'Gadget B', 'quantity': 1, 'price': \"\n",
       "             \"49.99, 'status': 'Cancelled'}\",\n",
       "  'name': 'get_order_details',\n",
       "  'role': 'tool',\n",
       "  'tool_call_id': 'call_75RFqe2Nm8sxT5SxsDhn5Fyz'}\n",
       "```"
      ],
      "text/plain": [
       "{'role': 'tool',\n",
       " 'content': \"{'id': 'O2', 'product': 'Gadget B', 'quantity': 1, 'price': 49.99, 'status': 'Cancelled'}\",\n",
       " 'tool_call_id': 'call_75RFqe2Nm8sxT5SxsDhn5Fyz',\n",
       " 'name': 'get_order_details'}"
      ]
     },
     "metadata": {},
     "output_type": "display_data"
    },
    {
     "data": {
      "text/markdown": [
       "The status of order O2 is now “Cancelled.”\n",
       "\n",
       "<details>\n",
       "\n",
       "- id: chatcmpl-BjA1S4PoZEyLOKEU4KDl24hTYUTMx\n",
       "- choices: [Choice(finish_reason='stop', index=0, logprobs=None, message=ChatCompletionMessage(content='The status of order O2 is now “Cancelled.”', refusal=None, role='assistant', annotations=[], audio=None, function_call=None, tool_calls=None))]\n",
       "- created: 1750102986\n",
       "- model: o4-mini-2025-04-16\n",
       "- object: chat.completion\n",
       "- service_tier: default\n",
       "- system_fingerprint: None\n",
       "- usage: CompletionUsage(completion_tokens=23, prompt_tokens=563, total_tokens=586, completion_tokens_details=CompletionTokensDetails(accepted_prediction_tokens=0, audio_tokens=0, reasoning_tokens=0, rejected_prediction_tokens=0), prompt_tokens_details=PromptTokensDetails(audio_tokens=0, cached_tokens=0))\n",
       "\n",
       "</details>"
      ],
      "text/plain": [
       "ChatCompletion(id='chatcmpl-BjA1S4PoZEyLOKEU4KDl24hTYUTMx', choices=[Choice(finish_reason='stop', index=0, logprobs=None, message=ChatCompletionMessage(content='The status of order O2 is now “Cancelled.”', refusal=None, role='assistant', annotations=[], audio=None, function_call=None, tool_calls=None))], created=1750102986, model='o4-mini-2025-04-16', object='chat.completion', service_tier='default', system_fingerprint=None, usage=In: 563; Out: 23; Total: 586)"
      ]
     },
     "metadata": {},
     "output_type": "display_data"
    }
   ],
   "source": [
    "for o in chat.toolloop('What is the status of order O2?'): display(o)"
   ]
  },
  {
   "cell_type": "markdown",
   "id": "72f73ae2",
   "metadata": {},
   "source": [
    "## Test Math Example"
   ]
  },
  {
   "cell_type": "code",
   "execution_count": null,
   "id": "0fd52dbc",
   "metadata": {},
   "outputs": [],
   "source": [
    "def add(x: int, y: int) -> int:\n",
    "    \"adds x and y.\"\n",
    "    return x + y\n",
    "\n",
    "def mul(x: int, y: int) -> int:\n",
    "    \"multiplies x and y.\"\n",
    "    return x * y"
   ]
  },
  {
   "cell_type": "code",
   "execution_count": null,
   "id": "c1cc19bf",
   "metadata": {},
   "outputs": [
    {
     "data": {
      "text/markdown": [
       "- id: chatcmpl-BjA1U9JzEL7oTfQfq3CNyksPDzt83\n",
       "- choices: [Choice(finish_reason='tool_calls', index=0, logprobs=None, message=ChatCompletionMessage(content=None, refusal=None, role='assistant', annotations=[], audio=None, function_call=None, tool_calls=[ChatCompletionMessageToolCall(id='call_zlFxReIvYCeqMETgqcpMbqqu', function=Function(arguments='{\"x\":1258585825128,\"y\":34959234595}', name='add'), type='function')]))]\n",
       "- created: 1750102988\n",
       "- model: o4-mini-2025-04-16\n",
       "- object: chat.completion\n",
       "- service_tier: default\n",
       "- system_fingerprint: None\n",
       "- usage: CompletionUsage(completion_tokens=1121, prompt_tokens=112, total_tokens=1233, completion_tokens_details=CompletionTokensDetails(accepted_prediction_tokens=0, audio_tokens=0, reasoning_tokens=1088, rejected_prediction_tokens=0), prompt_tokens_details=PromptTokensDetails(audio_tokens=0, cached_tokens=0))"
      ],
      "text/plain": [
       "ChatCompletion(id='chatcmpl-BjA1U9JzEL7oTfQfq3CNyksPDzt83', choices=[Choice(finish_reason='tool_calls', index=0, logprobs=None, message=ChatCompletionMessage(content=None, refusal=None, role='assistant', annotations=[], audio=None, function_call=None, tool_calls=[ChatCompletionMessageToolCall(id='call_zlFxReIvYCeqMETgqcpMbqqu', function=Function(arguments='{\"x\":1258585825128,\"y\":34959234595}', name='add'), type='function')]))], created=1750102988, model='o4-mini-2025-04-16', object='chat.completion', service_tier='default', system_fingerprint=None, usage=In: 112; Out: 1121; Total: 1233)"
      ]
     },
     "metadata": {},
     "output_type": "display_data"
    },
    {
     "data": {
      "text/markdown": [
       "```json\n",
       "{ 'content': '1293545059723',\n",
       "  'name': 'add',\n",
       "  'role': 'tool',\n",
       "  'tool_call_id': 'call_zlFxReIvYCeqMETgqcpMbqqu'}\n",
       "```"
      ],
      "text/plain": [
       "{'role': 'tool',\n",
       " 'content': '1293545059723',\n",
       " 'tool_call_id': 'call_zlFxReIvYCeqMETgqcpMbqqu',\n",
       " 'name': 'add'}"
      ]
     },
     "metadata": {},
     "output_type": "display_data"
    },
    {
     "data": {
      "text/markdown": [
       "- id: chatcmpl-BjA1efe2c7CKKX8F0EcIa19GTSvCG\n",
       "- choices: [Choice(finish_reason='tool_calls', index=0, logprobs=None, message=ChatCompletionMessage(content=None, refusal=None, role='assistant', annotations=[], audio=None, function_call=None, tool_calls=[ChatCompletionMessageToolCall(id='call_WZfBhr0j9G3JWhue9lFQSK86', function=Function(arguments='{\"x\":1293545059723,\"y\":93}', name='mul'), type='function')]))]\n",
       "- created: 1750102998\n",
       "- model: o4-mini-2025-04-16\n",
       "- object: chat.completion\n",
       "- service_tier: default\n",
       "- system_fingerprint: None\n",
       "- usage: CompletionUsage(completion_tokens=24, prompt_tokens=154, total_tokens=178, completion_tokens_details=CompletionTokensDetails(accepted_prediction_tokens=0, audio_tokens=0, reasoning_tokens=0, rejected_prediction_tokens=0), prompt_tokens_details=PromptTokensDetails(audio_tokens=0, cached_tokens=0))"
      ],
      "text/plain": [
       "ChatCompletion(id='chatcmpl-BjA1efe2c7CKKX8F0EcIa19GTSvCG', choices=[Choice(finish_reason='tool_calls', index=0, logprobs=None, message=ChatCompletionMessage(content=None, refusal=None, role='assistant', annotations=[], audio=None, function_call=None, tool_calls=[ChatCompletionMessageToolCall(id='call_WZfBhr0j9G3JWhue9lFQSK86', function=Function(arguments='{\"x\":1293545059723,\"y\":93}', name='mul'), type='function')]))], created=1750102998, model='o4-mini-2025-04-16', object='chat.completion', service_tier='default', system_fingerprint=None, usage=In: 154; Out: 24; Total: 178)"
      ]
     },
     "metadata": {},
     "output_type": "display_data"
    },
    {
     "data": {
      "text/markdown": [
       "```json\n",
       "{ 'content': '120299690554239',\n",
       "  'name': 'mul',\n",
       "  'role': 'tool',\n",
       "  'tool_call_id': 'call_WZfBhr0j9G3JWhue9lFQSK86'}\n",
       "```"
      ],
      "text/plain": [
       "{'role': 'tool',\n",
       " 'content': '120299690554239',\n",
       " 'tool_call_id': 'call_WZfBhr0j9G3JWhue9lFQSK86',\n",
       " 'name': 'mul'}"
      ]
     },
     "metadata": {},
     "output_type": "display_data"
    },
    {
     "data": {
      "text/markdown": [
       "First, we computed:\n",
       "\n",
       "1. 1258585825128 + 34 959 234 595 = 1 293 545 059 723  \n",
       "2. 1 293 545 059 723 × 93 = 120 299 690 554 239  \n",
       "3. 120 299 690 554 239 + (–12 439 149) = 120 299 678 115 090  \n",
       "\n",
       "So the final result is 120299678115090.\n",
       "\n",
       "<details>\n",
       "\n",
       "- id: chatcmpl-BjA1f2IVdmLXuktSK6et0oJoibPWn\n",
       "- choices: [Choice(finish_reason='stop', index=0, logprobs=None, message=ChatCompletionMessage(content='First, we computed:\\n\\n1. 1258585825128 + 34 959 234 595 = 1 293 545 059 723  \\n2. 1 293 545 059 723 × 93 = 120 299 690 554 239  \\n3. 120 299 690 554 239 + (–12 439 149) = 120 299 678 115 090  \\n\\nSo the final result is 120299678115090.', refusal=None, role='assistant', annotations=[], audio=None, function_call=None, tool_calls=None))]\n",
       "- created: 1750102999\n",
       "- model: o4-mini-2025-04-16\n",
       "- object: chat.completion\n",
       "- service_tier: default\n",
       "- system_fingerprint: None\n",
       "- usage: CompletionUsage(completion_tokens=316, prompt_tokens=193, total_tokens=509, completion_tokens_details=CompletionTokensDetails(accepted_prediction_tokens=0, audio_tokens=0, reasoning_tokens=192, rejected_prediction_tokens=0), prompt_tokens_details=PromptTokensDetails(audio_tokens=0, cached_tokens=0))\n",
       "\n",
       "</details>"
      ],
      "text/plain": [
       "ChatCompletion(id='chatcmpl-BjA1f2IVdmLXuktSK6et0oJoibPWn', choices=[Choice(finish_reason='stop', index=0, logprobs=None, message=ChatCompletionMessage(content='First, we computed:\\n\\n1. 1258585825128 + 34 959 234 595 = 1 293 545 059 723  \\n2. 1 293 545 059 723 × 93 = 120 299 690 554 239  \\n3. 120 299 690 554 239 + (–12 439 149) = 120 299 678 115 090  \\n\\nSo the final result is 120299678115090.', refusal=None, role='assistant', annotations=[], audio=None, function_call=None, tool_calls=None))], created=1750102999, model='o4-mini-2025-04-16', object='chat.completion', service_tier='default', system_fingerprint=None, usage=In: 193; Out: 316; Total: 509)"
      ]
     },
     "metadata": {},
     "output_type": "display_data"
    }
   ],
   "source": [
    "chat = Chat(model, tools=[add, mul])\n",
    "pr = 'Can you add 1258585825128 to 34959234595, multiply by 93, and then add - 12439149?'\n",
    "r = chat.toolloop(pr)\n",
    "for o in r: display(o)"
   ]
  },
  {
   "cell_type": "code",
   "execution_count": null,
   "id": "5fdc44e8",
   "metadata": {},
   "outputs": [
    {
     "data": {
      "text/plain": [
       "120299678115090"
      ]
     },
     "execution_count": null,
     "metadata": {},
     "output_type": "execute_result"
    }
   ],
   "source": [
    "(1258585825128 + 34959234595) * 93 - 12439149"
   ]
  },
  {
   "cell_type": "markdown",
   "id": "e95da200",
   "metadata": {},
   "source": [
    "## Test Error Conditions: Out of Iterations, Exception During Tool Invocation"
   ]
  },
  {
   "cell_type": "code",
   "execution_count": null,
   "id": "82c63e59",
   "metadata": {},
   "outputs": [],
   "source": [
    "def mydiv(a:float, b:float):\n",
    "    \"Divide two numbers\"\n",
    "    return a / b"
   ]
  },
  {
   "cell_type": "code",
   "execution_count": null,
   "id": "26bc1bd9",
   "metadata": {},
   "outputs": [
    {
     "data": {
      "text/markdown": [
       "- id: chatcmpl-BjA1krNKBzPL83FEgM6jLlREsezt3\n",
       "- choices: [Choice(finish_reason='length', index=0, logprobs=None, message=ChatCompletionMessage(content='', refusal=None, role='assistant', annotations=[], audio=None, function_call=None, tool_calls=None))]\n",
       "- created: 1750103004\n",
       "- model: o4-mini-2025-04-16\n",
       "- object: chat.completion\n",
       "- service_tier: default\n",
       "- system_fingerprint: None\n",
       "- usage: CompletionUsage(completion_tokens=4096, prompt_tokens=77, total_tokens=4173, completion_tokens_details=CompletionTokensDetails(accepted_prediction_tokens=0, audio_tokens=0, reasoning_tokens=4096, rejected_prediction_tokens=0), prompt_tokens_details=PromptTokensDetails(audio_tokens=0, cached_tokens=0))"
      ],
      "text/plain": [
       "ChatCompletion(id='chatcmpl-BjA1krNKBzPL83FEgM6jLlREsezt3', choices=[Choice(finish_reason='length', index=0, logprobs=None, message=ChatCompletionMessage(content='', refusal=None, role='assistant', annotations=[], audio=None, function_call=None, tool_calls=None))], created=1750103004, model='o4-mini-2025-04-16', object='chat.completion', service_tier='default', system_fingerprint=None, usage=In: 77; Out: 4096; Total: 4173)"
      ]
     },
     "metadata": {},
     "output_type": "display_data"
    }
   ],
   "source": [
    "chat = Chat(model, tools=[mydiv])\n",
    "r = chat.toolloop('Please calculate this sequence using your tools: 43/23454; 652/previous result; 6843/previous result; 321/previous result', max_steps=2)\n",
    "for o in r: display(o)"
   ]
  },
  {
   "cell_type": "markdown",
   "id": "bf6178b8",
   "metadata": {},
   "source": [
    "This tests `raise_on_err=False` change to `toolslm.call_func` invocation. We should see this return an error as a string instead of crash:"
   ]
  },
  {
   "cell_type": "code",
   "execution_count": null,
   "id": "730cbb2c",
   "metadata": {},
   "outputs": [
    {
     "data": {
      "text/markdown": [
       "- id: chatcmpl-BjA2bgViq8n8CPimn1niDb8gVfYuX\n",
       "- choices: [Choice(finish_reason='tool_calls', index=0, logprobs=None, message=ChatCompletionMessage(content=None, refusal=None, role='assistant', annotations=[], audio=None, function_call=None, tool_calls=[ChatCompletionMessageToolCall(id='call_dNL7NWhb44HN7HrvanBNqxfm', function=Function(arguments='{\"a\":1,\"b\":0}', name='mydiv'), type='function')]))]\n",
       "- created: 1750103057\n",
       "- model: o4-mini-2025-04-16\n",
       "- object: chat.completion\n",
       "- service_tier: default\n",
       "- system_fingerprint: None\n",
       "- usage: CompletionUsage(completion_tokens=155, prompt_tokens=59, total_tokens=214, completion_tokens_details=CompletionTokensDetails(accepted_prediction_tokens=0, audio_tokens=0, reasoning_tokens=128, rejected_prediction_tokens=0), prompt_tokens_details=PromptTokensDetails(audio_tokens=0, cached_tokens=0))"
      ],
      "text/plain": [
       "ChatCompletion(id='chatcmpl-BjA2bgViq8n8CPimn1niDb8gVfYuX', choices=[Choice(finish_reason='tool_calls', index=0, logprobs=None, message=ChatCompletionMessage(content=None, refusal=None, role='assistant', annotations=[], audio=None, function_call=None, tool_calls=[ChatCompletionMessageToolCall(id='call_dNL7NWhb44HN7HrvanBNqxfm', function=Function(arguments='{\"a\":1,\"b\":0}', name='mydiv'), type='function')]))], created=1750103057, model='o4-mini-2025-04-16', object='chat.completion', service_tier='default', system_fingerprint=None, usage=In: 59; Out: 155; Total: 214)"
      ]
     },
     "metadata": {},
     "output_type": "display_data"
    },
    {
     "data": {
      "text/markdown": [
       "```json\n",
       "{ 'content': 'Traceback (most recent call last):\\n'\n",
       "             '  File '\n",
       "             '\"/home/austin/projects/aai-ws/toolslm/toolslm/funccall.py\", line '\n",
       "             '198, in call_func\\n'\n",
       "             '    try: return func(**fc_inputs)\\n'\n",
       "             '                ^^^^^^^^^^^^^^^^^\\n'\n",
       "             '  File \"/tmp/ipykernel_199809/246724137.py\", line 3, in mydiv\\n'\n",
       "             '    return a / b\\n'\n",
       "             '           ~~^~~\\n'\n",
       "             'ZeroDivisionError: division by zero\\n',\n",
       "  'name': 'mydiv',\n",
       "  'role': 'tool',\n",
       "  'tool_call_id': 'call_dNL7NWhb44HN7HrvanBNqxfm'}\n",
       "```"
      ],
      "text/plain": [
       "{'role': 'tool',\n",
       " 'content': 'Traceback (most recent call last):\\n  File \"/home/austin/projects/aai-ws/toolslm/toolslm/funccall.py\", line 198, in call_func\\n    try: return func(**fc_inputs)\\n                ^^^^^^^^^^^^^^^^^\\n  File \"/tmp/ipykernel_199809/246724137.py\", line 3, in mydiv\\n    return a / b\\n           ~~^~~\\nZeroDivisionError: division by zero\\n',\n",
       " 'tool_call_id': 'call_dNL7NWhb44HN7HrvanBNqxfm',\n",
       " 'name': 'mydiv'}"
      ]
     },
     "metadata": {},
     "output_type": "display_data"
    },
    {
     "data": {
      "text/markdown": [
       "When attempting to divide 1 by 0, a ZeroDivisionError is raised with the message: \"division by zero.\"\n",
       "\n",
       "<details>\n",
       "\n",
       "- id: chatcmpl-BjA2eXvC8ciyiOF3ez7jqCXshr1Rd\n",
       "- choices: [Choice(finish_reason='stop', index=0, logprobs=None, message=ChatCompletionMessage(content='When attempting to divide 1 by 0, a ZeroDivisionError is raised with the message: \"division by zero.\"', refusal=None, role='assistant', annotations=[], audio=None, function_call=None, tool_calls=None))]\n",
       "- created: 1750103060\n",
       "- model: o4-mini-2025-04-16\n",
       "- object: chat.completion\n",
       "- service_tier: default\n",
       "- system_fingerprint: None\n",
       "- usage: CompletionUsage(completion_tokens=37, prompt_tokens=187, total_tokens=224, completion_tokens_details=CompletionTokensDetails(accepted_prediction_tokens=0, audio_tokens=0, reasoning_tokens=0, rejected_prediction_tokens=0), prompt_tokens_details=PromptTokensDetails(audio_tokens=0, cached_tokens=0))\n",
       "\n",
       "</details>"
      ],
      "text/plain": [
       "ChatCompletion(id='chatcmpl-BjA2eXvC8ciyiOF3ez7jqCXshr1Rd', choices=[Choice(finish_reason='stop', index=0, logprobs=None, message=ChatCompletionMessage(content='When attempting to divide 1 by 0, a ZeroDivisionError is raised with the message: \"division by zero.\"', refusal=None, role='assistant', annotations=[], audio=None, function_call=None, tool_calls=None))], created=1750103060, model='o4-mini-2025-04-16', object='chat.completion', service_tier='default', system_fingerprint=None, usage=In: 187; Out: 37; Total: 224)"
      ]
     },
     "metadata": {},
     "output_type": "display_data"
    }
   ],
   "source": [
    "chat = Chat(model, tools=[mydiv])\n",
    "r = chat.toolloop('Try dividing 1 by 0 and see what the error result is')\n",
    "for o in r: display(o)"
   ]
  },
  {
   "cell_type": "markdown",
   "id": "8fefe903",
   "metadata": {},
   "source": [
    "## Export -"
   ]
  },
  {
   "cell_type": "code",
   "execution_count": null,
   "id": "1e9ee5c1",
   "metadata": {},
   "outputs": [],
   "source": [
    "#|hide\n",
    "#|eval: false\n",
    "from nbdev.doclinks import nbdev_export\n",
    "nbdev_export()"
   ]
  },
  {
   "cell_type": "code",
   "execution_count": null,
   "id": "c627b799",
   "metadata": {},
   "outputs": [],
   "source": []
  }
 ],
 "metadata": {
  "kernelspec": {
   "display_name": "python3",
   "language": "python",
   "name": "python3"
  }
 },
 "nbformat": 4,
 "nbformat_minor": 5
}
