{
 "cells": [
  {
   "cell_type": "code",
   "execution_count": null,
   "id": "efe78920",
   "metadata": {},
   "outputs": [],
   "source": [
    "#|default_exp toolloop"
   ]
  },
  {
   "cell_type": "markdown",
   "id": "3d773712-12fe-440e-891f-36f59666dfde",
   "metadata": {},
   "source": [
    "# Tool loop"
   ]
  },
  {
   "cell_type": "code",
   "execution_count": null,
   "id": "033c76fd",
   "metadata": {},
   "outputs": [],
   "source": [
    "#| export\n",
    "from cosette.core import *\n",
    "from fastcore.utils import *\n",
    "from fastcore.meta import delegates"
   ]
  },
  {
   "cell_type": "code",
   "execution_count": null,
   "id": "b7951c8f",
   "metadata": {},
   "outputs": [],
   "source": [
    "from IPython.display import display, Markdown, clear_output\n",
    "from pprint import pprint"
   ]
  },
  {
   "cell_type": "code",
   "execution_count": null,
   "id": "596a22f4",
   "metadata": {},
   "outputs": [
    {
     "data": {
      "text/plain": [
       "'o1-preview o1-mini gpt-4o gpt-4o-mini gpt-4-turbo gpt-4 gpt-4-32k gpt-3.5-turbo gpt-3.5-turbo-instruct o1 o3-mini chatgpt-4o-latest o1-pro o3 o4-mini gpt-4.1 gpt-4.1-mini gpt-4.1-nano'"
      ]
     },
     "execution_count": null,
     "metadata": {},
     "output_type": "execute_result"
    }
   ],
   "source": [
    "' '.join(models)"
   ]
  },
  {
   "cell_type": "code",
   "execution_count": null,
   "id": "f998b27f",
   "metadata": {},
   "outputs": [],
   "source": [
    "model = 'gpt-4.1'"
   ]
  },
  {
   "cell_type": "markdown",
   "id": "a49b64b5",
   "metadata": {},
   "source": [
    "## Sample Data"
   ]
  },
  {
   "cell_type": "code",
   "execution_count": null,
   "id": "34342c4b",
   "metadata": {},
   "outputs": [],
   "source": [
    "def _get_orders_customers():\n",
    "    orders = {\n",
    "        \"O1\": dict(id=\"O1\", product=\"Widget A\", quantity=2, price=19.99, status=\"Shipped\"),\n",
    "        \"O2\": dict(id=\"O2\", product=\"Gadget B\", quantity=1, price=49.99, status=\"Processing\"),\n",
    "        \"O3\": dict(id=\"O3\", product=\"Gadget B\", quantity=2, price=49.99, status=\"Shipped\")}\n",
    "\n",
    "    customers = {\n",
    "        \"C1\": dict(name=\"John Doe\", email=\"john@example.com\", phone=\"123-456-7890\",\n",
    "                   orders=[orders['O1'], orders['O2']]),\n",
    "        \"C2\": dict(name=\"Jane Smith\", email=\"jane@example.com\", phone=\"987-654-3210\",\n",
    "                   orders=[orders['O3']])\n",
    "    }\n",
    "    return orders, customers"
   ]
  },
  {
   "cell_type": "code",
   "execution_count": null,
   "id": "207f9715",
   "metadata": {},
   "outputs": [],
   "source": [
    "orders, customers = _get_orders_customers()"
   ]
  },
  {
   "cell_type": "code",
   "execution_count": null,
   "id": "2778dde0",
   "metadata": {},
   "outputs": [],
   "source": [
    "def get_customer_info(\n",
    "    customer_id:str # ID of the customer\n",
    "): # Customer's name, email, phone number, and list of orders\n",
    "    \"Retrieves a customer's information and their orders based on the customer ID\"\n",
    "    print(f'- Retrieving customer {customer_id}')\n",
    "    return customers.get(customer_id, \"Customer not found\")\n",
    "\n",
    "def get_order_details(\n",
    "    order_id:str # ID of the order\n",
    "): # Order's ID, product name, quantity, price, and order status\n",
    "    \"Retrieves the details of a specific order based on the order ID\"\n",
    "    print(f'- Retrieving order {order_id}')\n",
    "    return orders.get(order_id, \"Order not found\")\n",
    "\n",
    "def cancel_order(\n",
    "    order_id:str # ID of the order to cancel\n",
    ")->bool: # True if the cancellation is successful\n",
    "    \"Cancels an order based on the provided order ID\"\n",
    "    print(f'- Cancelling order {order_id}')\n",
    "    if order_id not in orders: return False\n",
    "    orders[order_id]['status'] = 'Cancelled'\n",
    "    return True"
   ]
  },
  {
   "cell_type": "code",
   "execution_count": null,
   "id": "8a623e95",
   "metadata": {},
   "outputs": [
    {
     "data": {
      "text/plain": [
       "'gpt-4.1'"
      ]
     },
     "execution_count": null,
     "metadata": {},
     "output_type": "execute_result"
    }
   ],
   "source": [
    "model"
   ]
  },
  {
   "cell_type": "code",
   "execution_count": null,
   "id": "a4231dff",
   "metadata": {},
   "outputs": [],
   "source": [
    "tools = [get_customer_info, get_order_details, cancel_order]\n",
    "chat = Chat(model, tools=tools)"
   ]
  },
  {
   "cell_type": "code",
   "execution_count": null,
   "id": "1a27c80b",
   "metadata": {},
   "outputs": [],
   "source": [
    "r = chat('Hi.')"
   ]
  },
  {
   "cell_type": "code",
   "execution_count": null,
   "id": "4b3eb446",
   "metadata": {},
   "outputs": [
    {
     "name": "stdout",
     "output_type": "stream",
     "text": [
      "- Retrieving customer C2\n"
     ]
    }
   ],
   "source": [
    "r = chat('Can you tell me the email address for customer C2?')"
   ]
  },
  {
   "cell_type": "code",
   "execution_count": null,
   "id": "09196e94",
   "metadata": {},
   "outputs": [
    {
     "data": {
      "text/markdown": [
       "The email address for customer C2 (Jane Smith) is jane@example.com. If you need more information, please let me know!\n",
       "\n",
       "<details>\n",
       "\n",
       "- id: resp_6858989d490481a086217a8b52baa1060b697475dbea8cbd\n",
       "- created_at: 1750636701.0\n",
       "- error: None\n",
       "- incomplete_details: None\n",
       "- instructions: None\n",
       "- metadata: {}\n",
       "- model: gpt-4.1-2025-04-14\n",
       "- object: response\n",
       "- output: [ResponseOutputMessage(id='msg_6858989d99bc81a0a1d8f7bcf1fdc1850b697475dbea8cbd', content=[ResponseOutputText(annotations=[], text='The email address for customer C2 (Jane Smith) is jane@example.com. If you need more information, please let me know!', type='output_text', logprobs=None)], role='assistant', status='completed', type='message')]\n",
       "- parallel_tool_calls: True\n",
       "- temperature: 1.0\n",
       "- tool_choice: auto\n",
       "- tools: [FunctionTool(name='get_customer_info', parameters={'type': 'object', 'properties': {'customer_id': {'type': 'string', 'description': 'ID of the customer'}}, 'required': ['customer_id']}, strict=True, type='function', description=\"Retrieves a customer's information and their orders based on the customer ID\"), FunctionTool(name='get_order_details', parameters={'type': 'object', 'properties': {'order_id': {'type': 'string', 'description': 'ID of the order'}}, 'required': ['order_id']}, strict=True, type='function', description='Retrieves the details of a specific order based on the order ID'), FunctionTool(name='cancel_order', parameters={'type': 'object', 'properties': {'order_id': {'type': 'string', 'description': 'ID of the order to cancel'}}, 'required': ['order_id']}, strict=True, type='function', description='Cancels an order based on the provided order ID\\n\\nReturns:\\n- type: boolean')]\n",
       "- top_p: 1.0\n",
       "- background: False\n",
       "- max_output_tokens: 4096\n",
       "- previous_response_id: None\n",
       "- prompt: None\n",
       "- reasoning: Reasoning(effort=None, generate_summary=None, summary=None)\n",
       "- service_tier: default\n",
       "- status: completed\n",
       "- text: ResponseTextConfig(format=ResponseFormatText(type='text'))\n",
       "- truncation: disabled\n",
       "- usage: ResponseUsage(input_tokens=254, input_tokens_details=InputTokensDetails(cached_tokens=0), output_tokens=29, output_tokens_details=OutputTokensDetails(reasoning_tokens=0), total_tokens=283)\n",
       "- user: None\n",
       "- store: True\n",
       "\n",
       "</details>"
      ],
      "text/plain": [
       "Response(id='resp_6858989d490481a086217a8b52baa1060b697475dbea8cbd', created_at=1750636701.0, error=None, incomplete_details=None, instructions=None, metadata={}, model='gpt-4.1-2025-04-14', object='response', output=[ResponseOutputMessage(id='msg_6858989d99bc81a0a1d8f7bcf1fdc1850b697475dbea8cbd', content=[ResponseOutputText(annotations=[], text='The email address for customer C2 (Jane Smith) is jane@example.com. If you need more information, please let me know!', type='output_text', logprobs=None)], role='assistant', status='completed', type='message')], parallel_tool_calls=True, temperature=1.0, tool_choice='auto', tools=[FunctionTool(name='get_customer_info', parameters={'type': 'object', 'properties': {'customer_id': {'type': 'string', 'description': 'ID of the customer'}}, 'required': ['customer_id']}, strict=True, type='function', description=\"Retrieves a customer's information and their orders based on the customer ID\"), FunctionTool(name='get_order_details', parameters={'type': 'object', 'properties': {'order_id': {'type': 'string', 'description': 'ID of the order'}}, 'required': ['order_id']}, strict=True, type='function', description='Retrieves the details of a specific order based on the order ID'), FunctionTool(name='cancel_order', parameters={'type': 'object', 'properties': {'order_id': {'type': 'string', 'description': 'ID of the order to cancel'}}, 'required': ['order_id']}, strict=True, type='function', description='Cancels an order based on the provided order ID\\n\\nReturns:\\n- type: boolean')], top_p=1.0, background=False, max_output_tokens=4096, previous_response_id=None, prompt=None, reasoning=Reasoning(effort=None, generate_summary=None, summary=None), service_tier='default', status='completed', text=ResponseTextConfig(format=ResponseFormatText(type='text')), truncation='disabled', usage=In: 254; Out: 29; Total: 283, user=None, store=True)"
      ]
     },
     "execution_count": null,
     "metadata": {},
     "output_type": "execute_result"
    }
   ],
   "source": [
    "r = chat()\n",
    "r"
   ]
  },
  {
   "cell_type": "code",
   "execution_count": null,
   "id": "6aa531d0",
   "metadata": {},
   "outputs": [
    {
     "name": "stdout",
     "output_type": "stream",
     "text": [
      "- Retrieving customer C1\n"
     ]
    },
    {
     "data": {
      "text/plain": [
       "[ResponseFunctionToolCall(arguments='{\"customer_id\":\"C1\"}', call_id='call_83jaxOTrfKgl6OEFaL282TqV', name='get_customer_info', type='function_call', id='fc_6858989f069081a1a063c5b09c8255ac080a6450e792daf9', status='completed')]"
      ]
     },
     "execution_count": null,
     "metadata": {},
     "output_type": "execute_result"
    }
   ],
   "source": [
    "chat = Chat(model, tools=tools)\n",
    "r = chat('Please cancel all orders for customer C1 for me.')\n",
    "r.output"
   ]
  },
  {
   "cell_type": "code",
   "execution_count": null,
   "id": "5dcdebef",
   "metadata": {},
   "outputs": [
    {
     "name": "stdout",
     "output_type": "stream",
     "text": [
      "- Cancelling order O1\n",
      "- Cancelling order O2\n"
     ]
    },
    {
     "data": {
      "text/plain": [
       "[ResponseFunctionToolCall(arguments='{\"order_id\":\"O1\"}', call_id='call_zZfZqeqAURfvTTCKa47SjEen', name='cancel_order', type='function_call', id='fc_685898a0269881a1add8788d39de1795080a6450e792daf9', status='completed'),\n",
       " ResponseFunctionToolCall(arguments='{\"order_id\":\"O2\"}', call_id='call_gSey3zGC0CDMXzz88BzacLMD', name='cancel_order', type='function_call', id='fc_685898a035e881a19f7ceb4cabcb0ee6080a6450e792daf9', status='completed')]"
      ]
     },
     "execution_count": null,
     "metadata": {},
     "output_type": "execute_result"
    }
   ],
   "source": [
    "r = chat()\n",
    "r.output"
   ]
  },
  {
   "cell_type": "markdown",
   "id": "4388cffe",
   "metadata": {},
   "source": [
    "## `toolloop` implementation"
   ]
  },
  {
   "cell_type": "code",
   "execution_count": null,
   "id": "e0136903",
   "metadata": {},
   "outputs": [],
   "source": [
    "#| exports\n",
    "_final_prompt = \"You have no more tool uses. Please summarize your findings. If you did not complete your goal please tell the user what further work needs to be done so they can choose how best to proceed.\""
   ]
  },
  {
   "cell_type": "code",
   "execution_count": null,
   "id": "84eac4c1",
   "metadata": {},
   "outputs": [],
   "source": [
    "#| exports\n",
    "@patch\n",
    "@delegates(Chat.__call__)\n",
    "def toolloop(self:Chat,\n",
    "             pr, # Prompt to pass to Claude\n",
    "             max_steps=10, # Maximum number of tool requests to loop through\n",
    "             cont_func:callable=noop, # Function that stops loop if returns False\n",
    "             final_prompt=_final_prompt, # Prompt to add if last message is a tool call\n",
    "             **kwargs):\n",
    "    \"Add prompt `pr` to dialog and get a response from Claude, automatically following up with `tool_use` messages\"\n",
    "    class _Loop:\n",
    "        def __iter__(a):\n",
    "            init_n = len(self.h)\n",
    "            r = self(pr, **kwargs)\n",
    "            yield r\n",
    "            if len(self.last)>1: yield self.last[1]\n",
    "            for i in range(max_steps-1):\n",
    "                if not [o for o in r.output if isinstance(o,ResponseFunctionToolCall)]: break\n",
    "                r = self(final_prompt if i==max_steps-2 else None, **kwargs)\n",
    "                yield r\n",
    "                if len(self.last)>1: yield self.last[1]\n",
    "                if not cont_func(*self.h[-3:]): break\n",
    "            a.value = self.h[init_n+1:]\n",
    "    return _Loop()"
   ]
  },
  {
   "cell_type": "markdown",
   "id": "491fd736",
   "metadata": {},
   "source": [
    "### Test Customer Dataset"
   ]
  },
  {
   "cell_type": "code",
   "execution_count": null,
   "id": "04e3e3e0",
   "metadata": {},
   "outputs": [],
   "source": [
    "def show(x):\n",
    "    if getattr(x, 'output_text', None): r = x\n",
    "    else: r = getattr(x,'output',x)\n",
    "    display(r)"
   ]
  },
  {
   "cell_type": "code",
   "execution_count": null,
   "id": "78cc0eff",
   "metadata": {},
   "outputs": [
    {
     "name": "stdout",
     "output_type": "stream",
     "text": [
      "- Retrieving customer C1\n"
     ]
    },
    {
     "data": {
      "text/plain": [
       "[ResponseFunctionToolCall(arguments='{\"customer_id\":\"C1\"}', call_id='call_u44oyBRiw3qH3buvWTsfK0JZ', name='get_customer_info', type='function_call', id='fc_6858999383c4819292def01545ebd6fe090087c36d1dae11', status='completed')]"
      ]
     },
     "metadata": {},
     "output_type": "display_data"
    },
    {
     "data": {
      "text/plain": [
       "{'type': 'function_call_output',\n",
       " 'call_id': 'call_u44oyBRiw3qH3buvWTsfK0JZ',\n",
       " 'output': \"{'name': 'John Doe', 'email': 'john@example.com', 'phone': '123-456-7890', 'orders': [{'id': 'O1', 'product': 'Widget A', 'quantity': 2, 'price': 19.99, 'status': 'Cancelled'}, {'id': 'O2', 'product': 'Gadget B', 'quantity': 1, 'price': 49.99, 'status': 'Cancelled'}]}\"}"
      ]
     },
     "metadata": {},
     "output_type": "display_data"
    },
    {
     "data": {
      "text/markdown": [
       "The email address for customer C1 (John Doe) is john@example.com.\n",
       "\n",
       "<details>\n",
       "\n",
       "- id: resp_68589993ef5c8192be4aa7a6e80dc80a090087c36d1dae11\n",
       "- created_at: 1750636947.0\n",
       "- error: None\n",
       "- incomplete_details: None\n",
       "- instructions: None\n",
       "- metadata: {}\n",
       "- model: gpt-4.1-2025-04-14\n",
       "- object: response\n",
       "- output: [ResponseOutputMessage(id='msg_68589994420c81928ce67365c40f5801090087c36d1dae11', content=[ResponseOutputText(annotations=[], text='The email address for customer C1 (John Doe) is john@example.com.', type='output_text', logprobs=None)], role='assistant', status='completed', type='message')]\n",
       "- parallel_tool_calls: True\n",
       "- temperature: 1.0\n",
       "- tool_choice: auto\n",
       "- tools: [FunctionTool(name='get_customer_info', parameters={'type': 'object', 'properties': {'customer_id': {'type': 'string', 'description': 'ID of the customer'}}, 'required': ['customer_id']}, strict=True, type='function', description=\"Retrieves a customer's information and their orders based on the customer ID\"), FunctionTool(name='get_order_details', parameters={'type': 'object', 'properties': {'order_id': {'type': 'string', 'description': 'ID of the order'}}, 'required': ['order_id']}, strict=True, type='function', description='Retrieves the details of a specific order based on the order ID'), FunctionTool(name='cancel_order', parameters={'type': 'object', 'properties': {'order_id': {'type': 'string', 'description': 'ID of the order to cancel'}}, 'required': ['order_id']}, strict=True, type='function', description='Cancels an order based on the provided order ID\\n\\nReturns:\\n- type: boolean')]\n",
       "- top_p: 1.0\n",
       "- background: False\n",
       "- max_output_tokens: 4096\n",
       "- previous_response_id: None\n",
       "- prompt: None\n",
       "- reasoning: Reasoning(effort=None, generate_summary=None, summary=None)\n",
       "- service_tier: default\n",
       "- status: completed\n",
       "- text: ResponseTextConfig(format=ResponseFormatText(type='text'))\n",
       "- truncation: disabled\n",
       "- usage: ResponseUsage(input_tokens=267, input_tokens_details=InputTokensDetails(cached_tokens=0), output_tokens=18, output_tokens_details=OutputTokensDetails(reasoning_tokens=0), total_tokens=285)\n",
       "- user: None\n",
       "- store: True\n",
       "\n",
       "</details>"
      ],
      "text/plain": [
       "Response(id='resp_68589993ef5c8192be4aa7a6e80dc80a090087c36d1dae11', created_at=1750636947.0, error=None, incomplete_details=None, instructions=None, metadata={}, model='gpt-4.1-2025-04-14', object='response', output=[ResponseOutputMessage(id='msg_68589994420c81928ce67365c40f5801090087c36d1dae11', content=[ResponseOutputText(annotations=[], text='The email address for customer C1 (John Doe) is john@example.com.', type='output_text', logprobs=None)], role='assistant', status='completed', type='message')], parallel_tool_calls=True, temperature=1.0, tool_choice='auto', tools=[FunctionTool(name='get_customer_info', parameters={'type': 'object', 'properties': {'customer_id': {'type': 'string', 'description': 'ID of the customer'}}, 'required': ['customer_id']}, strict=True, type='function', description=\"Retrieves a customer's information and their orders based on the customer ID\"), FunctionTool(name='get_order_details', parameters={'type': 'object', 'properties': {'order_id': {'type': 'string', 'description': 'ID of the order'}}, 'required': ['order_id']}, strict=True, type='function', description='Retrieves the details of a specific order based on the order ID'), FunctionTool(name='cancel_order', parameters={'type': 'object', 'properties': {'order_id': {'type': 'string', 'description': 'ID of the order to cancel'}}, 'required': ['order_id']}, strict=True, type='function', description='Cancels an order based on the provided order ID\\n\\nReturns:\\n- type: boolean')], top_p=1.0, background=False, max_output_tokens=4096, previous_response_id=None, prompt=None, reasoning=Reasoning(effort=None, generate_summary=None, summary=None), service_tier='default', status='completed', text=ResponseTextConfig(format=ResponseFormatText(type='text')), truncation='disabled', usage=In: 267; Out: 18; Total: 285, user=None, store=True)"
      ]
     },
     "metadata": {},
     "output_type": "display_data"
    }
   ],
   "source": [
    "chat = Chat(model, tools=tools)\n",
    "pr = 'Can you tell me the email address for customer C1?'\n",
    "r = chat.toolloop(pr)\n",
    "for o in r: show(o)"
   ]
  },
  {
   "cell_type": "code",
   "execution_count": null,
   "id": "5c586d6a",
   "metadata": {},
   "outputs": [
    {
     "name": "stdout",
     "output_type": "stream",
     "text": [
      "[ResponseFunctionToolCall(arguments='{\"customer_id\":\"C1\"}', call_id='call_u44oyBRiw3qH3buvWTsfK0JZ', name='get_customer_info', type='function_call', id='fc_6858999383c4819292def01545ebd6fe090087c36d1dae11', status='completed'),\n",
      " {'call_id': 'call_u44oyBRiw3qH3buvWTsfK0JZ',\n",
      "  'output': \"{'name': 'John Doe', 'email': 'john@example.com', 'phone': \"\n",
      "            \"'123-456-7890', 'orders': [{'id': 'O1', 'product': 'Widget A', \"\n",
      "            \"'quantity': 2, 'price': 19.99, 'status': 'Cancelled'}, {'id': \"\n",
      "            \"'O2', 'product': 'Gadget B', 'quantity': 1, 'price': 49.99, \"\n",
      "            \"'status': 'Cancelled'}]}\",\n",
      "  'type': 'function_call_output'},\n",
      " ResponseOutputMessage(id='msg_68589994420c81928ce67365c40f5801090087c36d1dae11', content=[ResponseOutputText(annotations=[], text='The email address for customer C1 (John Doe) is john@example.com.', type='output_text', logprobs=None)], role='assistant', status='completed', type='message')]\n"
     ]
    }
   ],
   "source": [
    "pprint(r.value)"
   ]
  },
  {
   "cell_type": "code",
   "execution_count": null,
   "id": "050f6591",
   "metadata": {},
   "outputs": [],
   "source": [
    "orders, customers = _get_orders_customers()"
   ]
  },
  {
   "cell_type": "code",
   "execution_count": null,
   "id": "8de04256",
   "metadata": {},
   "outputs": [
    {
     "name": "stdout",
     "output_type": "stream",
     "text": [
      "- Retrieving order O2\n"
     ]
    },
    {
     "data": {
      "text/plain": [
       "[ResponseFunctionToolCall(arguments='{\"order_id\":\"O2\"}', call_id='call_Zm8EwoJbEX3R3eEJ67ou1mzJ', name='get_order_details', type='function_call', id='fc_685898a2956c81a1a7cfd9defa8bd15d08e36a6e0428fb69', status='completed')]"
      ]
     },
     "metadata": {},
     "output_type": "display_data"
    },
    {
     "data": {
      "text/plain": [
       "{'type': 'function_call_output',\n",
       " 'call_id': 'call_Zm8EwoJbEX3R3eEJ67ou1mzJ',\n",
       " 'output': \"{'id': 'O2', 'product': 'Gadget B', 'quantity': 1, 'price': 49.99, 'status': 'Processing'}\"}"
      ]
     },
     "metadata": {},
     "output_type": "display_data"
    },
    {
     "data": {
      "text/plain": [
       "[ResponseOutputMessage(id='msg_685898a3743481a182e9fa3bd9774c1408e36a6e0428fb69', content=[ResponseOutputText(annotations=[], text='Order O2 is currently in \"Processing\" status. If you need more details or want to take action on this order, please let me know!', type='output_text', logprobs=None)], role='assistant', status='completed', type='message')]"
      ]
     },
     "metadata": {},
     "output_type": "display_data"
    }
   ],
   "source": [
    "chat = Chat(model, tools=tools)\n",
    "r = chat.toolloop('What is the status of order O2?')\n",
    "for o in r: display(getattr(o,'output',o))"
   ]
  },
  {
   "cell_type": "code",
   "execution_count": null,
   "id": "f8c0fec9",
   "metadata": {},
   "outputs": [
    {
     "name": "stdout",
     "output_type": "stream",
     "text": [
      "- Retrieving customer C1\n"
     ]
    },
    {
     "data": {
      "text/plain": [
       "[ResponseFunctionToolCall(arguments='{\"customer_id\":\"C1\"}', call_id='call_FzarfORgm4XYRrYVfQ7j0i2H', name='get_customer_info', type='function_call', id='fc_685898a49dcc81a1b0a3a76cff653b8608e36a6e0428fb69', status='completed')]"
      ]
     },
     "metadata": {},
     "output_type": "display_data"
    },
    {
     "data": {
      "text/plain": [
       "{'type': 'function_call_output',\n",
       " 'call_id': 'call_FzarfORgm4XYRrYVfQ7j0i2H',\n",
       " 'output': \"{'name': 'John Doe', 'email': 'john@example.com', 'phone': '123-456-7890', 'orders': [{'id': 'O1', 'product': 'Widget A', 'quantity': 2, 'price': 19.99, 'status': 'Shipped'}, {'id': 'O2', 'product': 'Gadget B', 'quantity': 1, 'price': 49.99, 'status': 'Processing'}]}\"}"
      ]
     },
     "metadata": {},
     "output_type": "display_data"
    },
    {
     "name": "stdout",
     "output_type": "stream",
     "text": [
      "- Cancelling order O1\n",
      "- Cancelling order O2\n"
     ]
    },
    {
     "data": {
      "text/plain": [
       "[ResponseFunctionToolCall(arguments='{\"order_id\":\"O1\"}', call_id='call_bvvLCaASD07y3S2fwkTQfRkY', name='cancel_order', type='function_call', id='fc_685898a580bc81a193893801a8e63daa08e36a6e0428fb69', status='completed'),\n",
       " ResponseFunctionToolCall(arguments='{\"order_id\":\"O2\"}', call_id='call_2kQxWiZcGaoCIHG6sLZvQp5d', name='cancel_order', type='function_call', id='fc_685898a5980c81a1bbd22c4a6b7fc1f408e36a6e0428fb69', status='completed')]"
      ]
     },
     "metadata": {},
     "output_type": "display_data"
    },
    {
     "data": {
      "text/plain": [
       "ResponseFunctionToolCall(arguments='{\"order_id\":\"O2\"}', call_id='call_2kQxWiZcGaoCIHG6sLZvQp5d', name='cancel_order', type='function_call', id='fc_685898a5980c81a1bbd22c4a6b7fc1f408e36a6e0428fb69', status='completed')"
      ]
     },
     "metadata": {},
     "output_type": "display_data"
    },
    {
     "data": {
      "text/plain": [
       "[ResponseOutputMessage(id='msg_685898a6509881a1bfc08ef8280370ee08e36a6e0428fb69', content=[ResponseOutputText(annotations=[], text='All orders for customer C1 (John Doe) have been successfully canceled, including:\\n\\n- Order O1 (Widget A)\\n- Order O2 (Gadget B)\\n\\nIf you need confirmation details or further assistance, please let me know!', type='output_text', logprobs=None)], role='assistant', status='completed', type='message')]"
      ]
     },
     "metadata": {},
     "output_type": "display_data"
    }
   ],
   "source": [
    "r = chat.toolloop('Please cancel all orders for customer C1 for me.')\n",
    "for o in r: display(getattr(o,'output',o))"
   ]
  },
  {
   "cell_type": "code",
   "execution_count": null,
   "id": "2421d39d",
   "metadata": {},
   "outputs": [
    {
     "data": {
      "text/markdown": [
       "Order O2 has been successfully canceled as per your recent request. If you need any documentation or confirmation regarding this cancellation, please let me know!\n",
       "\n",
       "<details>\n",
       "\n",
       "- id: resp_685898ae62bc81a19b061e16d705649308e36a6e0428fb69\n",
       "- created_at: 1750636718.0\n",
       "- error: None\n",
       "- incomplete_details: None\n",
       "- instructions: None\n",
       "- metadata: {}\n",
       "- model: gpt-4.1-2025-04-14\n",
       "- object: response\n",
       "- output: [ResponseOutputMessage(id='msg_685898aeb6b481a1bb341c681bdd677b08e36a6e0428fb69', content=[ResponseOutputText(annotations=[], text='Order O2 has been successfully canceled as per your recent request. If you need any documentation or confirmation regarding this cancellation, please let me know!', type='output_text', logprobs=None)], role='assistant', status='completed', type='message')]\n",
       "- parallel_tool_calls: True\n",
       "- temperature: 1.0\n",
       "- tool_choice: auto\n",
       "- tools: [FunctionTool(name='get_customer_info', parameters={'type': 'object', 'properties': {'customer_id': {'type': 'string', 'description': 'ID of the customer'}}, 'required': ['customer_id']}, strict=True, type='function', description=\"Retrieves a customer's information and their orders based on the customer ID\"), FunctionTool(name='get_order_details', parameters={'type': 'object', 'properties': {'order_id': {'type': 'string', 'description': 'ID of the order'}}, 'required': ['order_id']}, strict=True, type='function', description='Retrieves the details of a specific order based on the order ID'), FunctionTool(name='cancel_order', parameters={'type': 'object', 'properties': {'order_id': {'type': 'string', 'description': 'ID of the order to cancel'}}, 'required': ['order_id']}, strict=True, type='function', description='Cancels an order based on the provided order ID\\n\\nReturns:\\n- type: boolean')]\n",
       "- top_p: 1.0\n",
       "- background: False\n",
       "- max_output_tokens: 4096\n",
       "- previous_response_id: None\n",
       "- prompt: None\n",
       "- reasoning: Reasoning(effort=None, generate_summary=None, summary=None)\n",
       "- service_tier: default\n",
       "- status: completed\n",
       "- text: ResponseTextConfig(format=ResponseFormatText(type='text'))\n",
       "- truncation: disabled\n",
       "- usage: ResponseUsage(input_tokens=487, input_tokens_details=InputTokensDetails(cached_tokens=0), output_tokens=31, output_tokens_details=OutputTokensDetails(reasoning_tokens=0), total_tokens=518)\n",
       "- user: None\n",
       "- store: True\n",
       "\n",
       "</details>"
      ],
      "text/plain": [
       "Response(id='resp_685898ae62bc81a19b061e16d705649308e36a6e0428fb69', created_at=1750636718.0, error=None, incomplete_details=None, instructions=None, metadata={}, model='gpt-4.1-2025-04-14', object='response', output=[ResponseOutputMessage(id='msg_685898aeb6b481a1bb341c681bdd677b08e36a6e0428fb69', content=[ResponseOutputText(annotations=[], text='Order O2 has been successfully canceled as per your recent request. If you need any documentation or confirmation regarding this cancellation, please let me know!', type='output_text', logprobs=None)], role='assistant', status='completed', type='message')], parallel_tool_calls=True, temperature=1.0, tool_choice='auto', tools=[FunctionTool(name='get_customer_info', parameters={'type': 'object', 'properties': {'customer_id': {'type': 'string', 'description': 'ID of the customer'}}, 'required': ['customer_id']}, strict=True, type='function', description=\"Retrieves a customer's information and their orders based on the customer ID\"), FunctionTool(name='get_order_details', parameters={'type': 'object', 'properties': {'order_id': {'type': 'string', 'description': 'ID of the order'}}, 'required': ['order_id']}, strict=True, type='function', description='Retrieves the details of a specific order based on the order ID'), FunctionTool(name='cancel_order', parameters={'type': 'object', 'properties': {'order_id': {'type': 'string', 'description': 'ID of the order to cancel'}}, 'required': ['order_id']}, strict=True, type='function', description='Cancels an order based on the provided order ID\\n\\nReturns:\\n- type: boolean')], top_p=1.0, background=False, max_output_tokens=4096, previous_response_id=None, prompt=None, reasoning=Reasoning(effort=None, generate_summary=None, summary=None), service_tier='default', status='completed', text=ResponseTextConfig(format=ResponseFormatText(type='text')), truncation='disabled', usage=In: 487; Out: 31; Total: 518, user=None, store=True)"
      ]
     },
     "metadata": {},
     "output_type": "display_data"
    }
   ],
   "source": [
    "for o in chat.toolloop('What is the status of order O2?'): display(o)"
   ]
  },
  {
   "cell_type": "markdown",
   "id": "72f73ae2",
   "metadata": {},
   "source": [
    "### Test Math Example"
   ]
  },
  {
   "cell_type": "code",
   "execution_count": null,
   "id": "0fd52dbc",
   "metadata": {},
   "outputs": [],
   "source": [
    "def add(x: int, y: int) -> int:\n",
    "    \"adds x and y.\"\n",
    "    return x + y\n",
    "\n",
    "def mul(x: int, y: int) -> int:\n",
    "    \"multiplies x and y.\"\n",
    "    return x * y"
   ]
  },
  {
   "cell_type": "code",
   "execution_count": null,
   "id": "c1cc19bf",
   "metadata": {},
   "outputs": [
    {
     "data": {
      "text/plain": [
       "[ResponseFunctionToolCall(arguments='{\"x\":1258585825128,\"y\":34959234595}', call_id='call_2qd2Vo424mAUxYlfWNsYVigs', name='add', type='function_call', id='fc_68589a0f16e081a389233936a8ba58ff02dcfce8a2fa5b23', status='completed')]"
      ]
     },
     "metadata": {},
     "output_type": "display_data"
    },
    {
     "data": {
      "text/plain": [
       "{'type': 'function_call_output',\n",
       " 'call_id': 'call_2qd2Vo424mAUxYlfWNsYVigs',\n",
       " 'output': '1293545059723'}"
      ]
     },
     "metadata": {},
     "output_type": "display_data"
    },
    {
     "data": {
      "text/plain": [
       "[ResponseFunctionToolCall(arguments='{\"x\":1293545059723,\"y\":93}', call_id='call_d82xW7MP3ggcDzjyjcCEvxVl', name='mul', type='function_call', id='fc_68589a0fd69081a3b69c688620a3e92f02dcfce8a2fa5b23', status='completed')]"
      ]
     },
     "metadata": {},
     "output_type": "display_data"
    },
    {
     "data": {
      "text/plain": [
       "{'type': 'function_call_output',\n",
       " 'call_id': 'call_d82xW7MP3ggcDzjyjcCEvxVl',\n",
       " 'output': '120299690554239'}"
      ]
     },
     "metadata": {},
     "output_type": "display_data"
    },
    {
     "data": {
      "text/plain": [
       "[ResponseFunctionToolCall(arguments='{\"x\":120299690554239,\"y\":-12439149}', call_id='call_AJDfxlSP1wa9UxVRkCbTEtT3', name='add', type='function_call', id='fc_68589a10860881a38bae32d4d22b136502dcfce8a2fa5b23', status='completed')]"
      ]
     },
     "metadata": {},
     "output_type": "display_data"
    },
    {
     "data": {
      "text/plain": [
       "{'type': 'function_call_output',\n",
       " 'call_id': 'call_AJDfxlSP1wa9UxVRkCbTEtT3',\n",
       " 'output': '120299678115090'}"
      ]
     },
     "metadata": {},
     "output_type": "display_data"
    },
    {
     "data": {
      "text/markdown": [
       "Here are the steps and the final answer:\n",
       "\n",
       "1. Add 1,258,585,825,128 to 34,959,234,595:  \n",
       "   Result = 1,293,545,059,723\n",
       "\n",
       "2. Multiply that result by 93:  \n",
       "   Result = 120,299,690,554,239\n",
       "\n",
       "3. Add −12,439,149 to that result:  \n",
       "   Final Answer = 120,299,678,115,090\n",
       "\n",
       "<details>\n",
       "\n",
       "- id: resp_68589a1146a481a3ad024b1dd8316f4402dcfce8a2fa5b23\n",
       "- created_at: 1750637073.0\n",
       "- error: None\n",
       "- incomplete_details: None\n",
       "- instructions: None\n",
       "- metadata: {}\n",
       "- model: gpt-4.1-2025-04-14\n",
       "- object: response\n",
       "- output: [ResponseOutputMessage(id='msg_68589a118bd081a3a3f67278e4cf97b102dcfce8a2fa5b23', content=[ResponseOutputText(annotations=[], text='Here are the steps and the final answer:\\n\\n1. Add 1,258,585,825,128 to 34,959,234,595:  \\n   Result = 1,293,545,059,723\\n\\n2. Multiply that result by 93:  \\n   Result = 120,299,690,554,239\\n\\n3. Add −12,439,149 to that result:  \\n   Final Answer = 120,299,678,115,090', type='output_text', logprobs=None)], role='assistant', status='completed', type='message')]\n",
       "- parallel_tool_calls: True\n",
       "- temperature: 1.0\n",
       "- tool_choice: auto\n",
       "- tools: [FunctionTool(name='add', parameters={'type': 'object', 'properties': {'x': {'type': 'integer', 'description': ''}, 'y': {'type': 'integer', 'description': ''}}, 'required': ['x', 'y']}, strict=True, type='function', description='adds x and y.\\n\\nReturns:\\n- type: integer'), FunctionTool(name='mul', parameters={'type': 'object', 'properties': {'x': {'type': 'integer', 'description': ''}, 'y': {'type': 'integer', 'description': ''}}, 'required': ['x', 'y']}, strict=True, type='function', description='multiplies x and y.\\n\\nReturns:\\n- type: integer')]\n",
       "- top_p: 1.0\n",
       "- background: False\n",
       "- max_output_tokens: 4096\n",
       "- previous_response_id: None\n",
       "- prompt: None\n",
       "- reasoning: Reasoning(effort=None, generate_summary=None, summary=None)\n",
       "- service_tier: default\n",
       "- status: completed\n",
       "- text: ResponseTextConfig(format=ResponseFormatText(type='text'))\n",
       "- truncation: disabled\n",
       "- usage: ResponseUsage(input_tokens=213, input_tokens_details=InputTokensDetails(cached_tokens=0), output_tokens=101, output_tokens_details=OutputTokensDetails(reasoning_tokens=0), total_tokens=314)\n",
       "- user: None\n",
       "- store: True\n",
       "\n",
       "</details>"
      ],
      "text/plain": [
       "Response(id='resp_68589a1146a481a3ad024b1dd8316f4402dcfce8a2fa5b23', created_at=1750637073.0, error=None, incomplete_details=None, instructions=None, metadata={}, model='gpt-4.1-2025-04-14', object='response', output=[ResponseOutputMessage(id='msg_68589a118bd081a3a3f67278e4cf97b102dcfce8a2fa5b23', content=[ResponseOutputText(annotations=[], text='Here are the steps and the final answer:\\n\\n1. Add 1,258,585,825,128 to 34,959,234,595:  \\n   Result = 1,293,545,059,723\\n\\n2. Multiply that result by 93:  \\n   Result = 120,299,690,554,239\\n\\n3. Add −12,439,149 to that result:  \\n   Final Answer = 120,299,678,115,090', type='output_text', logprobs=None)], role='assistant', status='completed', type='message')], parallel_tool_calls=True, temperature=1.0, tool_choice='auto', tools=[FunctionTool(name='add', parameters={'type': 'object', 'properties': {'x': {'type': 'integer', 'description': ''}, 'y': {'type': 'integer', 'description': ''}}, 'required': ['x', 'y']}, strict=True, type='function', description='adds x and y.\\n\\nReturns:\\n- type: integer'), FunctionTool(name='mul', parameters={'type': 'object', 'properties': {'x': {'type': 'integer', 'description': ''}, 'y': {'type': 'integer', 'description': ''}}, 'required': ['x', 'y']}, strict=True, type='function', description='multiplies x and y.\\n\\nReturns:\\n- type: integer')], top_p=1.0, background=False, max_output_tokens=4096, previous_response_id=None, prompt=None, reasoning=Reasoning(effort=None, generate_summary=None, summary=None), service_tier='default', status='completed', text=ResponseTextConfig(format=ResponseFormatText(type='text')), truncation='disabled', usage=In: 213; Out: 101; Total: 314, user=None, store=True)"
      ]
     },
     "metadata": {},
     "output_type": "display_data"
    }
   ],
   "source": [
    "chat = Chat(model, tools=[add, mul])\n",
    "pr = 'Can you add 1258585825128 to 34959234595, multiply by 93, and then add (-12439149)?'\n",
    "r = chat.toolloop(pr)\n",
    "for o in r: show(o)"
   ]
  },
  {
   "cell_type": "code",
   "execution_count": null,
   "id": "5fdc44e8",
   "metadata": {},
   "outputs": [
    {
     "data": {
      "text/plain": [
       "120299678115090"
      ]
     },
     "execution_count": null,
     "metadata": {},
     "output_type": "execute_result"
    }
   ],
   "source": [
    "(1258585825128 + 34959234595) * 93 - 12439149"
   ]
  },
  {
   "cell_type": "markdown",
   "id": "e95da200",
   "metadata": {},
   "source": [
    "### Error Conditions: Out of Iterations, Exception During Tool Invocation"
   ]
  },
  {
   "cell_type": "code",
   "execution_count": null,
   "id": "82c63e59",
   "metadata": {},
   "outputs": [],
   "source": [
    "def mydiv(a:float, b:float):\n",
    "    \"Divide two numbers\"\n",
    "    return a / b"
   ]
  },
  {
   "cell_type": "code",
   "execution_count": null,
   "id": "26bc1bd9",
   "metadata": {},
   "outputs": [
    {
     "data": {
      "text/plain": [
       "[ResponseFunctionToolCall(arguments='{\"a\":43,\"b\":23454}', call_id='call_jP6cLlAbb1pfWk1eVGDqUZIP', name='mydiv', type='function_call', id='fc_68589a28641481a3aafc7bdd14ef99c50dc54a7e3f0e9fe2', status='completed')]"
      ]
     },
     "metadata": {},
     "output_type": "display_data"
    },
    {
     "data": {
      "text/plain": [
       "{'type': 'function_call_output',\n",
       " 'call_id': 'call_jP6cLlAbb1pfWk1eVGDqUZIP',\n",
       " 'output': '0.001833375969983798'}"
      ]
     },
     "metadata": {},
     "output_type": "display_data"
    },
    {
     "data": {
      "text/markdown": [
       "Here is the summary of my findings:\n",
       "\n",
       "- The result of the first calculation (43 ÷ 23,454) is approximately 0.001833376.\n",
       "\n",
       "To complete your sequence, the next steps would be:\n",
       "1. Divide 652 by the previous result (0.001833376).\n",
       "2. Divide 6,843 by the new result.\n",
       "3. Divide 321 by that following result.\n",
       "\n",
       "If you'd like, I can help you complete these steps manually or start over with tool calculations if you reset my tool usage. Let me know how you’d like to proceed!\n",
       "\n",
       "<details>\n",
       "\n",
       "- id: resp_68589a28d43481a39fdee2ede1cc5edd0dc54a7e3f0e9fe2\n",
       "- created_at: 1750637096.0\n",
       "- error: None\n",
       "- incomplete_details: None\n",
       "- instructions: None\n",
       "- metadata: {}\n",
       "- model: gpt-4.1-2025-04-14\n",
       "- object: response\n",
       "- output: [ResponseOutputMessage(id='msg_68589a291b1881a3b5eaf8f06501a0520dc54a7e3f0e9fe2', content=[ResponseOutputText(annotations=[], text=\"Here is the summary of my findings:\\n\\n- The result of the first calculation (43 ÷ 23,454) is approximately 0.001833376.\\n\\nTo complete your sequence, the next steps would be:\\n1. Divide 652 by the previous result (0.001833376).\\n2. Divide 6,843 by the new result.\\n3. Divide 321 by that following result.\\n\\nIf you'd like, I can help you complete these steps manually or start over with tool calculations if you reset my tool usage. Let me know how you’d like to proceed!\", type='output_text', logprobs=None)], role='assistant', status='completed', type='message')]\n",
       "- parallel_tool_calls: True\n",
       "- temperature: 1.0\n",
       "- tool_choice: auto\n",
       "- tools: [FunctionTool(name='mydiv', parameters={'type': 'object', 'properties': {'a': {'type': 'number', 'description': ''}, 'b': {'type': 'number', 'description': ''}}, 'required': ['a', 'b']}, strict=True, type='function', description='Divide two numbers')]\n",
       "- top_p: 1.0\n",
       "- background: False\n",
       "- max_output_tokens: 4096\n",
       "- previous_response_id: None\n",
       "- prompt: None\n",
       "- reasoning: Reasoning(effort=None, generate_summary=None, summary=None)\n",
       "- service_tier: default\n",
       "- status: completed\n",
       "- text: ResponseTextConfig(format=ResponseFormatText(type='text'))\n",
       "- truncation: disabled\n",
       "- usage: ResponseUsage(input_tokens=150, input_tokens_details=InputTokensDetails(cached_tokens=0), output_tokens=119, output_tokens_details=OutputTokensDetails(reasoning_tokens=0), total_tokens=269)\n",
       "- user: None\n",
       "- store: True\n",
       "\n",
       "</details>"
      ],
      "text/plain": [
       "Response(id='resp_68589a28d43481a39fdee2ede1cc5edd0dc54a7e3f0e9fe2', created_at=1750637096.0, error=None, incomplete_details=None, instructions=None, metadata={}, model='gpt-4.1-2025-04-14', object='response', output=[ResponseOutputMessage(id='msg_68589a291b1881a3b5eaf8f06501a0520dc54a7e3f0e9fe2', content=[ResponseOutputText(annotations=[], text=\"Here is the summary of my findings:\\n\\n- The result of the first calculation (43 ÷ 23,454) is approximately 0.001833376.\\n\\nTo complete your sequence, the next steps would be:\\n1. Divide 652 by the previous result (0.001833376).\\n2. Divide 6,843 by the new result.\\n3. Divide 321 by that following result.\\n\\nIf you'd like, I can help you complete these steps manually or start over with tool calculations if you reset my tool usage. Let me know how you’d like to proceed!\", type='output_text', logprobs=None)], role='assistant', status='completed', type='message')], parallel_tool_calls=True, temperature=1.0, tool_choice='auto', tools=[FunctionTool(name='mydiv', parameters={'type': 'object', 'properties': {'a': {'type': 'number', 'description': ''}, 'b': {'type': 'number', 'description': ''}}, 'required': ['a', 'b']}, strict=True, type='function', description='Divide two numbers')], top_p=1.0, background=False, max_output_tokens=4096, previous_response_id=None, prompt=None, reasoning=Reasoning(effort=None, generate_summary=None, summary=None), service_tier='default', status='completed', text=ResponseTextConfig(format=ResponseFormatText(type='text')), truncation='disabled', usage=In: 150; Out: 119; Total: 269, user=None, store=True)"
      ]
     },
     "metadata": {},
     "output_type": "display_data"
    }
   ],
   "source": [
    "chat = Chat(model, tools=[mydiv])\n",
    "r = chat.toolloop('Please calculate this sequence using your tools: 43/23454; 652/previous result; 6843/previous result; 321/previous result', max_steps=2)\n",
    "for o in r: show(o)"
   ]
  },
  {
   "cell_type": "markdown",
   "id": "bf6178b8",
   "metadata": {},
   "source": [
    "This tests `raise_on_err=False` change to `toolslm.call_func` invocation. We should see this return an error as a string instead of crash:"
   ]
  },
  {
   "cell_type": "code",
   "execution_count": null,
   "id": "730cbb2c",
   "metadata": {},
   "outputs": [
    {
     "data": {
      "text/plain": [
       "[ResponseFunctionToolCall(arguments='{\"a\":1,\"b\":0}', call_id='call_pemzBmgLdGrmddxLurthGBR1', name='mydiv', type='function_call', id='fc_68589a41fda8819e8433f8565a258f2508f1069344262017', status='completed')]"
      ]
     },
     "metadata": {},
     "output_type": "display_data"
    },
    {
     "data": {
      "text/plain": [
       "{'type': 'function_call_output',\n",
       " 'call_id': 'call_pemzBmgLdGrmddxLurthGBR1',\n",
       " 'output': 'Traceback (most recent call last):\\n  File \"/Users/jhoward/aai-ws/toolslm/toolslm/funccall.py\", line 203, in call_func\\n    try: return func(**fc_inputs)\\n                ^^^^^^^^^^^^^^^^^\\n  File \"/var/folders/51/b2_szf2945n072c0vj2cyty40000gn/T/ipykernel_84438/246724137.py\", line 3, in mydiv\\n    return a / b\\n           ~~^~~\\nZeroDivisionError: division by zero\\n'}"
      ]
     },
     "metadata": {},
     "output_type": "display_data"
    },
    {
     "data": {
      "text/markdown": [
       "When you try to divide 1 by 0, you get an error called ZeroDivisionError: division by zero. This error occurs in Python (and most programming languages) because dividing by zero is mathematically undefined.\n",
       "\n",
       "<details>\n",
       "\n",
       "- id: resp_68589a426ef0819ea09f8276a779dda108f1069344262017\n",
       "- created_at: 1750637122.0\n",
       "- error: None\n",
       "- incomplete_details: None\n",
       "- instructions: None\n",
       "- metadata: {}\n",
       "- model: gpt-4.1-2025-04-14\n",
       "- object: response\n",
       "- output: [ResponseOutputMessage(id='msg_68589a42c440819eb859bce903a2b42608f1069344262017', content=[ResponseOutputText(annotations=[], text='When you try to divide 1 by 0, you get an error called ZeroDivisionError: division by zero. This error occurs in Python (and most programming languages) because dividing by zero is mathematically undefined.', type='output_text', logprobs=None)], role='assistant', status='completed', type='message')]\n",
       "- parallel_tool_calls: True\n",
       "- temperature: 1.0\n",
       "- tool_choice: auto\n",
       "- tools: [FunctionTool(name='mydiv', parameters={'type': 'object', 'properties': {'a': {'type': 'number', 'description': ''}, 'b': {'type': 'number', 'description': ''}}, 'required': ['a', 'b']}, strict=True, type='function', description='Divide two numbers')]\n",
       "- top_p: 1.0\n",
       "- background: False\n",
       "- max_output_tokens: 4096\n",
       "- previous_response_id: None\n",
       "- prompt: None\n",
       "- reasoning: Reasoning(effort=None, generate_summary=None, summary=None)\n",
       "- service_tier: default\n",
       "- status: completed\n",
       "- text: ResponseTextConfig(format=ResponseFormatText(type='text'))\n",
       "- truncation: disabled\n",
       "- usage: ResponseUsage(input_tokens=198, input_tokens_details=InputTokensDetails(cached_tokens=0), output_tokens=46, output_tokens_details=OutputTokensDetails(reasoning_tokens=0), total_tokens=244)\n",
       "- user: None\n",
       "- store: True\n",
       "\n",
       "</details>"
      ],
      "text/plain": [
       "Response(id='resp_68589a426ef0819ea09f8276a779dda108f1069344262017', created_at=1750637122.0, error=None, incomplete_details=None, instructions=None, metadata={}, model='gpt-4.1-2025-04-14', object='response', output=[ResponseOutputMessage(id='msg_68589a42c440819eb859bce903a2b42608f1069344262017', content=[ResponseOutputText(annotations=[], text='When you try to divide 1 by 0, you get an error called ZeroDivisionError: division by zero. This error occurs in Python (and most programming languages) because dividing by zero is mathematically undefined.', type='output_text', logprobs=None)], role='assistant', status='completed', type='message')], parallel_tool_calls=True, temperature=1.0, tool_choice='auto', tools=[FunctionTool(name='mydiv', parameters={'type': 'object', 'properties': {'a': {'type': 'number', 'description': ''}, 'b': {'type': 'number', 'description': ''}}, 'required': ['a', 'b']}, strict=True, type='function', description='Divide two numbers')], top_p=1.0, background=False, max_output_tokens=4096, previous_response_id=None, prompt=None, reasoning=Reasoning(effort=None, generate_summary=None, summary=None), service_tier='default', status='completed', text=ResponseTextConfig(format=ResponseFormatText(type='text')), truncation='disabled', usage=In: 198; Out: 46; Total: 244, user=None, store=True)"
      ]
     },
     "metadata": {},
     "output_type": "display_data"
    }
   ],
   "source": [
    "chat = Chat(model, tools=[mydiv])\n",
    "r = chat.toolloop('Try dividing 1 by 0 and see what the error result is')\n",
    "for o in r: show(o)"
   ]
  },
  {
   "cell_type": "markdown",
   "id": "8fefe903",
   "metadata": {},
   "source": [
    "## Export -"
   ]
  },
  {
   "cell_type": "code",
   "execution_count": null,
   "id": "1e9ee5c1",
   "metadata": {},
   "outputs": [],
   "source": [
    "#|hide\n",
    "#|eval: false\n",
    "from nbdev.doclinks import nbdev_export\n",
    "nbdev_export()"
   ]
  },
  {
   "cell_type": "code",
   "execution_count": null,
   "id": "c627b799",
   "metadata": {},
   "outputs": [],
   "source": []
  }
 ],
 "metadata": {
  "kernelspec": {
   "display_name": "python3",
   "language": "python",
   "name": "python3"
  }
 },
 "nbformat": 4,
 "nbformat_minor": 5
}
