{
 "cells": [
  {
   "cell_type": "code",
   "execution_count": null,
   "id": "efe78920",
   "metadata": {},
   "outputs": [],
   "source": [
    "#|default_exp core"
   ]
  },
  {
   "cell_type": "markdown",
   "id": "3d773712-12fe-440e-891f-36f59666dfde",
   "metadata": {},
   "source": [
    "# Cosette's source"
   ]
  },
  {
   "cell_type": "markdown",
   "id": "ff6f6471-8061-4fdd-85a1-25fdc27c5cf3",
   "metadata": {},
   "source": [
    "## Setup"
   ]
  },
  {
   "cell_type": "code",
   "execution_count": null,
   "id": "ac590eb0",
   "metadata": {},
   "outputs": [],
   "source": [
    "#| export\n",
    "from fastcore import imghdr\n",
    "from fastcore.utils import *\n",
    "from fastcore.meta import delegates\n",
    "\n",
    "import inspect, typing, mimetypes, base64, json, ast, msglm\n",
    "from collections import abc\n",
    "from random import choices\n",
    "from string import ascii_letters,digits\n",
    "\n",
    "from msglm import mk_msg_openai as mk_msg, mk_msgs_openai as mk_msgs\n",
    "from toolslm.funccall import *\n",
    "\n",
    "from openai import types\n",
    "from openai import OpenAI,NOT_GIVEN,AzureOpenAI\n",
    "from openai.resources import chat\n",
    "from openai.types.responses.response import Response\n",
    "from openai.resources.responses.responses import Responses\n",
    "from openai.types.responses.response_usage import ResponseUsage\n",
    "\n",
    "from openai.types.responses import (\n",
    "    ResponseCompletedEvent, ResponseTextDeltaEvent, ResponseCreatedEvent, ResponseInProgressEvent,\n",
    "    ResponseOutputItemAddedEvent, ResponseContentPartAddedEvent, ResponseTextDoneEvent, \n",
    "    ResponseContentPartDoneEvent, ResponseOutputItemDoneEvent, ResponseCompletedEvent,\n",
    "    ResponseFunctionToolCall)"
   ]
  },
  {
   "cell_type": "code",
   "execution_count": null,
   "id": "f0709e48",
   "metadata": {},
   "outputs": [],
   "source": [
    "#| hide\n",
    "from nbdev import show_doc"
   ]
  },
  {
   "cell_type": "code",
   "execution_count": null,
   "id": "033c76fd",
   "metadata": {},
   "outputs": [],
   "source": [
    "from IPython.display import display,Image,Markdown\n",
    "from datetime import datetime\n",
    "from pprint import pprint"
   ]
  },
  {
   "cell_type": "code",
   "execution_count": null,
   "id": "6459c998",
   "metadata": {},
   "outputs": [],
   "source": [
    "#| export\n",
    "_all_ = ['mk_msg', 'mk_msgs', 'Response', 'Responses', 'ResponseUsage', 'ResponseCompletedEvent', 'ResponseTextDeltaEvent', 'ResponseCreatedEvent', 'ResponseInProgressEvent', 'ResponseOutputItemAddedEvent', 'ResponseContentPartAddedEvent', 'ResponseTextDoneEvent', 'ResponseContentPartDoneEvent', 'ResponseOutputItemDoneEvent', 'ResponseCompletedEvent', 'ResponseFunctionToolCall']"
   ]
  },
  {
   "cell_type": "code",
   "execution_count": null,
   "id": "f5fa6b92",
   "metadata": {},
   "outputs": [],
   "source": [
    "#| export\n",
    "empty = inspect.Parameter.empty"
   ]
  },
  {
   "cell_type": "code",
   "execution_count": null,
   "id": "ae1e9290",
   "metadata": {},
   "outputs": [
    {
     "name": "stdout",
     "output_type": "stream",
     "text": [
      "Available models as of 2025-06-29:\n",
      "\n",
      "babbage-002                   chatgpt-4o-latest             codex-mini-latest             \n",
      "computer-use-preview          computer-use-preview-2025-03- dall-e-2                      \n",
      "dall-e-3                      davinci-002                   ft:gpt-4o-2024-08-06:answerai \n",
      "ft:gpt-4o-2024-08-06:answerai ft:gpt-4o-2024-08-06:answerai ft:gpt-4o-mini-2024-07-18:ans \n",
      "ft:gpt-4o-mini-2024-07-18:ans gpt-3.5-turbo                 gpt-3.5-turbo-0125            \n",
      "gpt-3.5-turbo-1106            gpt-3.5-turbo-16k             gpt-3.5-turbo-instruct        \n",
      "gpt-3.5-turbo-instruct-0914   gpt-4                         gpt-4-0125-preview            \n",
      "gpt-4-1106-preview            gpt-4-turbo                   gpt-4-turbo-2024-04-09        \n",
      "gpt-4-turbo-preview           gpt-4.1                       gpt-4.1-2025-04-14            \n",
      "gpt-4.1-mini                  gpt-4.1-mini-2025-04-14       gpt-4.1-nano                  \n",
      "gpt-4.1-nano-2025-04-14       gpt-4.5-preview               gpt-4.5-preview-2025-02-27    \n",
      "gpt-4o                        gpt-4o-2024-05-13             gpt-4o-2024-08-06             \n",
      "gpt-4o-2024-11-20             gpt-4o-audio-preview          gpt-4o-audio-preview-2024-10- \n",
      "gpt-4o-audio-preview-2024-12- gpt-4o-audio-preview-2025-06- gpt-4o-mini                   \n",
      "gpt-4o-mini-2024-07-18        gpt-4o-mini-audio-preview     gpt-4o-mini-audio-preview-202 \n",
      "gpt-4o-mini-realtime-preview  gpt-4o-mini-realtime-preview- gpt-4o-mini-search-preview    \n",
      "gpt-4o-mini-search-preview-20 gpt-4o-mini-transcribe        gpt-4o-mini-tts               \n",
      "gpt-4o-realtime-preview       gpt-4o-realtime-preview-2024- gpt-4o-realtime-preview-2024- \n",
      "gpt-4o-realtime-preview-2025- gpt-4o-search-preview         gpt-4o-search-preview-2025-03 \n",
      "gpt-4o-transcribe             gpt-image-1                   o1                            \n",
      "o1-2024-12-17                 o1-mini                       o1-mini-2024-09-12            \n",
      "o1-preview                    o1-preview-2024-09-12         o1-pro                        \n",
      "o1-pro-2025-03-19             o3                            o3-2025-04-16                 \n",
      "o3-deep-research              o3-deep-research-2025-06-26   o3-mini                       \n",
      "o3-mini-2025-01-31            o3-pro                        o3-pro-2025-06-10             \n",
      "o4-mini                       o4-mini-2025-04-16            o4-mini-deep-research         \n",
      "o4-mini-deep-research-2025-06 omni-moderation-2024-09-26    omni-moderation-latest        \n",
      "text-embedding-3-large        text-embedding-3-small        text-embedding-ada-002        \n",
      "tts-1                         tts-1-1106                    tts-1-hd                      \n",
      "tts-1-hd-1106                 whisper-1                     \n"
     ]
    }
   ],
   "source": [
    "def print_columns(items, cols=3, width=30):\n",
    "    for i in range(0, len(items), cols):\n",
    "        row = items[i:i+cols]\n",
    "        print(''.join(item[:width-1].ljust(width) for item in row))\n",
    "\n",
    "client = OpenAI()\n",
    "model_list = client.models.list()\n",
    "print(f\"Available models as of {datetime.now().strftime('%Y-%m-%d')}:\\n\")\n",
    "print_columns(sorted([m.id for m in model_list]))"
   ]
  },
  {
   "cell_type": "code",
   "execution_count": null,
   "id": "0fff8869",
   "metadata": {},
   "outputs": [],
   "source": [
    "#| exports\n",
    "models = 'o1-preview', 'o1-mini', 'gpt-4o', 'gpt-4o-mini', 'gpt-4-turbo', 'gpt-4', 'gpt-4-32k', 'gpt-3.5-turbo', 'gpt-3.5-turbo-instruct', 'o1', 'o3-mini', 'chatgpt-4o-latest', 'o1-pro', 'o3', 'o4-mini', 'gpt-4.1', 'gpt-4.1-mini', 'gpt-4.1-nano'"
   ]
  },
  {
   "cell_type": "markdown",
   "id": "92dd0e86",
   "metadata": {},
   "source": [
    "`o1` should support images while `o1-mini`, `o3-mini` do not support images."
   ]
  },
  {
   "cell_type": "code",
   "execution_count": null,
   "id": "87f69208",
   "metadata": {},
   "outputs": [],
   "source": [
    "#| exports\n",
    "text_only_models = 'o1-preview', 'o1-mini', 'o3-mini'"
   ]
  },
  {
   "cell_type": "code",
   "execution_count": null,
   "id": "36d965d5",
   "metadata": {},
   "outputs": [],
   "source": [
    "#| exports\n",
    "has_streaming_models = set(models) - set(('o1-mini', 'o3-mini'))\n",
    "has_sp_models = set(models) - set(('o1-mini', 'o3-mini'))\n",
    "has_temp_models = set(models) - set(('o1', 'o1-mini', 'o3-mini'))"
   ]
  },
  {
   "cell_type": "code",
   "execution_count": null,
   "id": "dd26d5ed",
   "metadata": {},
   "outputs": [],
   "source": [
    "#| exports\n",
    "def can_stream(m): return m in has_streaming_models\n",
    "def can_set_sp(m): return m in has_sp_models\n",
    "def can_set_temp(m): return m in has_temp_models"
   ]
  },
  {
   "cell_type": "code",
   "execution_count": null,
   "id": "5c4505c7",
   "metadata": {},
   "outputs": [],
   "source": [
    "assert can_stream(\"gpt-4o\")\n",
    "assert not can_stream(\"o1-mini\")"
   ]
  },
  {
   "cell_type": "code",
   "execution_count": null,
   "id": "dacf2bd2",
   "metadata": {},
   "outputs": [],
   "source": [
    "model = 'gpt-4.1-mini'"
   ]
  },
  {
   "cell_type": "markdown",
   "id": "863d4d81",
   "metadata": {},
   "source": [
    "## OpenAI SDK"
   ]
  },
  {
   "cell_type": "code",
   "execution_count": null,
   "id": "70b53a51",
   "metadata": {},
   "outputs": [],
   "source": [
    "cli = OpenAI().responses"
   ]
  },
  {
   "cell_type": "code",
   "execution_count": null,
   "id": "6ec40731",
   "metadata": {},
   "outputs": [
    {
     "data": {
      "text/markdown": [
       "Hi Jeremy! How can I assist you today?\n",
       "\n",
       "<details>\n",
       "\n",
       "- id: resp_6860b6c2def0819d97c43ec5b03299a202016e8b44c1677f\n",
       "- created_at: 1751168706.0\n",
       "- error: None\n",
       "- incomplete_details: None\n",
       "- instructions: None\n",
       "- metadata: {}\n",
       "- model: gpt-4.1-mini-2025-04-14\n",
       "- object: response\n",
       "- output: [ResponseOutputMessage(id='msg_6860b6c31944819d9dd21c428b9fb00202016e8b44c1677f', content=[ResponseOutputText(annotations=[], text='Hi Jeremy! How can I assist you today?', type='output_text', logprobs=[])], role='assistant', status='completed', type='message')]\n",
       "- parallel_tool_calls: True\n",
       "- temperature: 1.0\n",
       "- tool_choice: auto\n",
       "- tools: []\n",
       "- top_p: 1.0\n",
       "- background: False\n",
       "- max_output_tokens: 100\n",
       "- previous_response_id: None\n",
       "- prompt: None\n",
       "- reasoning: Reasoning(effort=None, generate_summary=None, summary=None)\n",
       "- service_tier: default\n",
       "- status: completed\n",
       "- text: ResponseTextConfig(format=ResponseFormatText(type='text'))\n",
       "- truncation: disabled\n",
       "- usage: ResponseUsage(input_tokens=9, input_tokens_details=InputTokensDetails(cached_tokens=0), output_tokens=11, output_tokens_details=OutputTokensDetails(reasoning_tokens=0), total_tokens=20)\n",
       "- user: None\n",
       "- max_tool_calls: None\n",
       "- store: True\n",
       "- top_logprobs: 0\n",
       "\n",
       "</details>"
      ],
      "text/plain": [
       "Response(id='resp_6860b6c2def0819d97c43ec5b03299a202016e8b44c1677f', created_at=1751168706.0, error=None, incomplete_details=None, instructions=None, metadata={}, model='gpt-4.1-mini-2025-04-14', object='response', output=[ResponseOutputMessage(id='msg_6860b6c31944819d9dd21c428b9fb00202016e8b44c1677f', content=[ResponseOutputText(annotations=[], text='Hi Jeremy! How can I assist you today?', type='output_text', logprobs=[])], role='assistant', status='completed', type='message')], parallel_tool_calls=True, temperature=1.0, tool_choice='auto', tools=[], top_p=1.0, background=False, max_output_tokens=100, previous_response_id=None, prompt=None, reasoning=Reasoning(effort=None, generate_summary=None, summary=None), service_tier='default', status='completed', text=ResponseTextConfig(format=ResponseFormatText(type='text')), truncation='disabled', usage=In: 9; Out: 11; Total: 20, user=None, max_tool_calls=None, store=True, top_logprobs=0)"
      ]
     },
     "execution_count": null,
     "metadata": {},
     "output_type": "execute_result"
    }
   ],
   "source": [
    "m = {'role': 'user', 'content': \"I'm Jeremy\"}\n",
    "r = cli.create(input=[m], model=model, max_output_tokens=100)\n",
    "r"
   ]
  },
  {
   "cell_type": "markdown",
   "id": "d6359e1a",
   "metadata": {},
   "source": [
    "### Formatting output"
   ]
  },
  {
   "cell_type": "code",
   "execution_count": null,
   "id": "6f849a3e",
   "metadata": {},
   "outputs": [
    {
     "data": {
      "text/plain": [
       "'Hi Jeremy! How can I assist you today?'"
      ]
     },
     "execution_count": null,
     "metadata": {},
     "output_type": "execute_result"
    }
   ],
   "source": [
    "r.output_text"
   ]
  },
  {
   "cell_type": "code",
   "execution_count": null,
   "id": "52a7b938",
   "metadata": {},
   "outputs": [],
   "source": [
    "#| exports\n",
    "@patch\n",
    "def _repr_markdown_(self:Response):\n",
    "    det = '\\n- '.join(f'{k}: {v}' for k,v in dict(self).items())\n",
    "    res = self.output_text\n",
    "    if not res: return f\"- {det}\"\n",
    "    return f\"\"\"{res}\n",
    "\n",
    "<details>\n",
    "\n",
    "- {det}\n",
    "\n",
    "</details>\"\"\""
   ]
  },
  {
   "cell_type": "code",
   "execution_count": null,
   "id": "b2d25132",
   "metadata": {},
   "outputs": [
    {
     "data": {
      "text/markdown": [
       "Hi Jeremy! How can I assist you today?\n",
       "\n",
       "<details>\n",
       "\n",
       "- id: resp_6860b6c2def0819d97c43ec5b03299a202016e8b44c1677f\n",
       "- created_at: 1751168706.0\n",
       "- error: None\n",
       "- incomplete_details: None\n",
       "- instructions: None\n",
       "- metadata: {}\n",
       "- model: gpt-4.1-mini-2025-04-14\n",
       "- object: response\n",
       "- output: [ResponseOutputMessage(id='msg_6860b6c31944819d9dd21c428b9fb00202016e8b44c1677f', content=[ResponseOutputText(annotations=[], text='Hi Jeremy! How can I assist you today?', type='output_text', logprobs=[])], role='assistant', status='completed', type='message')]\n",
       "- parallel_tool_calls: True\n",
       "- temperature: 1.0\n",
       "- tool_choice: auto\n",
       "- tools: []\n",
       "- top_p: 1.0\n",
       "- background: False\n",
       "- max_output_tokens: 100\n",
       "- previous_response_id: None\n",
       "- prompt: None\n",
       "- reasoning: Reasoning(effort=None, generate_summary=None, summary=None)\n",
       "- service_tier: default\n",
       "- status: completed\n",
       "- text: ResponseTextConfig(format=ResponseFormatText(type='text'))\n",
       "- truncation: disabled\n",
       "- usage: ResponseUsage(input_tokens=9, input_tokens_details=InputTokensDetails(cached_tokens=0), output_tokens=11, output_tokens_details=OutputTokensDetails(reasoning_tokens=0), total_tokens=20)\n",
       "- user: None\n",
       "- max_tool_calls: None\n",
       "- store: True\n",
       "- top_logprobs: 0\n",
       "\n",
       "</details>"
      ],
      "text/plain": [
       "Response(id='resp_6860b6c2def0819d97c43ec5b03299a202016e8b44c1677f', created_at=1751168706.0, error=None, incomplete_details=None, instructions=None, metadata={}, model='gpt-4.1-mini-2025-04-14', object='response', output=[ResponseOutputMessage(id='msg_6860b6c31944819d9dd21c428b9fb00202016e8b44c1677f', content=[ResponseOutputText(annotations=[], text='Hi Jeremy! How can I assist you today?', type='output_text', logprobs=[])], role='assistant', status='completed', type='message')], parallel_tool_calls=True, temperature=1.0, tool_choice='auto', tools=[], top_p=1.0, background=False, max_output_tokens=100, previous_response_id=None, prompt=None, reasoning=Reasoning(effort=None, generate_summary=None, summary=None), service_tier='default', status='completed', text=ResponseTextConfig(format=ResponseFormatText(type='text')), truncation='disabled', usage=In: 9; Out: 11; Total: 20, user=None, max_tool_calls=None, store=True, top_logprobs=0)"
      ]
     },
     "execution_count": null,
     "metadata": {},
     "output_type": "execute_result"
    }
   ],
   "source": [
    "r"
   ]
  },
  {
   "cell_type": "code",
   "execution_count": null,
   "id": "10c7466f",
   "metadata": {},
   "outputs": [
    {
     "data": {
      "text/plain": [
       "In: 9; Out: 11; Total: 20"
      ]
     },
     "execution_count": null,
     "metadata": {},
     "output_type": "execute_result"
    }
   ],
   "source": [
    "r.usage"
   ]
  },
  {
   "cell_type": "code",
   "execution_count": null,
   "id": "b1a24f68",
   "metadata": {},
   "outputs": [],
   "source": [
    "#| exports\n",
    "def usage(inp=0, # Number of prompt tokens\n",
    "          out=0  # Number of completion tokens\n",
    "         ):\n",
    "    \"Slightly more concise version of `ResponseUsage`.\"\n",
    "    return ResponseUsage(input_tokens=inp, output_tokens=out, total_tokens=inp+out, input_tokens_details={'cached_tokens':0}, output_tokens_details={'cached_tokens':0, 'reasoning_tokens':0})"
   ]
  },
  {
   "cell_type": "code",
   "execution_count": null,
   "id": "a7e52afd",
   "metadata": {},
   "outputs": [
    {
     "data": {
      "text/plain": [
       "In: 5; Out: 0; Total: 5"
      ]
     },
     "execution_count": null,
     "metadata": {},
     "output_type": "execute_result"
    }
   ],
   "source": [
    "usage(5)"
   ]
  },
  {
   "cell_type": "code",
   "execution_count": null,
   "id": "27468180",
   "metadata": {},
   "outputs": [],
   "source": [
    "#| exports\n",
    "@patch\n",
    "def __repr__(self:ResponseUsage): return f'In: {self.input_tokens}; Out: {self.output_tokens}; Total: {self.total_tokens}'"
   ]
  },
  {
   "cell_type": "code",
   "execution_count": null,
   "id": "765ca615",
   "metadata": {},
   "outputs": [
    {
     "data": {
      "text/plain": [
       "In: 9; Out: 11; Total: 20"
      ]
     },
     "execution_count": null,
     "metadata": {},
     "output_type": "execute_result"
    }
   ],
   "source": [
    "r.usage"
   ]
  },
  {
   "cell_type": "code",
   "execution_count": null,
   "id": "bec303ba",
   "metadata": {},
   "outputs": [],
   "source": [
    "#| exports\n",
    "@patch\n",
    "def __add__(self:ResponseUsage, b):\n",
    "    \"Add together each of `input_tokens` and `output_tokens`\"\n",
    "    return usage(self.input_tokens+b.input_tokens, self.output_tokens+b.output_tokens)"
   ]
  },
  {
   "cell_type": "code",
   "execution_count": null,
   "id": "bffb0b2e",
   "metadata": {},
   "outputs": [
    {
     "data": {
      "text/plain": [
       "In: 18; Out: 22; Total: 40"
      ]
     },
     "execution_count": null,
     "metadata": {},
     "output_type": "execute_result"
    }
   ],
   "source": [
    "r.usage+r.usage"
   ]
  },
  {
   "cell_type": "code",
   "execution_count": null,
   "id": "307caa69",
   "metadata": {},
   "outputs": [],
   "source": [
    "#| export\n",
    "def wrap_latex(text):\n",
    "    \"Replace OpenAI LaTeX codes with markdown-compatible ones\"\n",
    "    text = re.sub(r\"\\\\\\((.*?)\\\\\\)\", lambda o: f\"${o.group(1)}$\", text)\n",
    "    res = re.sub(r\"\\\\\\[(.*?)\\\\\\]\", lambda o: f\"$${o.group(1)}$$\", text, flags=re.DOTALL)\n",
    "    return res"
   ]
  },
  {
   "cell_type": "markdown",
   "id": "edd0a43f",
   "metadata": {},
   "source": [
    "### Creating messages"
   ]
  },
  {
   "cell_type": "markdown",
   "id": "13954d58",
   "metadata": {},
   "source": [
    "Creating correctly formatted `dict`s from scratch every time isn't very handy, so we'll import a couple of helper functions from the `msglm` library.\n",
    "\n",
    "Let's use `mk_msg` to recreate our msg `{'role': 'user', 'content': \"I'm Jeremy\"}` from earlier."
   ]
  },
  {
   "cell_type": "code",
   "execution_count": null,
   "id": "e79f7705",
   "metadata": {},
   "outputs": [
    {
     "data": {
      "text/markdown": [
       "Hi Jeremy! How can I assist you today?\n",
       "\n",
       "<details>\n",
       "\n",
       "- id: resp_6860b6c3cf80819fb87d7affde83676e08aba030855751ce\n",
       "- created_at: 1751168707.0\n",
       "- error: None\n",
       "- incomplete_details: None\n",
       "- instructions: None\n",
       "- metadata: {}\n",
       "- model: gpt-4.1-mini-2025-04-14\n",
       "- object: response\n",
       "- output: [ResponseOutputMessage(id='msg_6860b6c3fe94819f87d52ab99dc1596a08aba030855751ce', content=[ResponseOutputText(annotations=[], text='Hi Jeremy! How can I assist you today?', type='output_text', logprobs=[])], role='assistant', status='completed', type='message')]\n",
       "- parallel_tool_calls: True\n",
       "- temperature: 1.0\n",
       "- tool_choice: auto\n",
       "- tools: []\n",
       "- top_p: 1.0\n",
       "- background: False\n",
       "- max_output_tokens: 100\n",
       "- previous_response_id: None\n",
       "- prompt: None\n",
       "- reasoning: Reasoning(effort=None, generate_summary=None, summary=None)\n",
       "- service_tier: default\n",
       "- status: completed\n",
       "- text: ResponseTextConfig(format=ResponseFormatText(type='text'))\n",
       "- truncation: disabled\n",
       "- usage: ResponseUsage(input_tokens=9, input_tokens_details=InputTokensDetails(cached_tokens=0), output_tokens=11, output_tokens_details=OutputTokensDetails(reasoning_tokens=0), total_tokens=20)\n",
       "- user: None\n",
       "- max_tool_calls: None\n",
       "- store: True\n",
       "- top_logprobs: 0\n",
       "\n",
       "</details>"
      ],
      "text/plain": [
       "Response(id='resp_6860b6c3cf80819fb87d7affde83676e08aba030855751ce', created_at=1751168707.0, error=None, incomplete_details=None, instructions=None, metadata={}, model='gpt-4.1-mini-2025-04-14', object='response', output=[ResponseOutputMessage(id='msg_6860b6c3fe94819f87d52ab99dc1596a08aba030855751ce', content=[ResponseOutputText(annotations=[], text='Hi Jeremy! How can I assist you today?', type='output_text', logprobs=[])], role='assistant', status='completed', type='message')], parallel_tool_calls=True, temperature=1.0, tool_choice='auto', tools=[], top_p=1.0, background=False, max_output_tokens=100, previous_response_id=None, prompt=None, reasoning=Reasoning(effort=None, generate_summary=None, summary=None), service_tier='default', status='completed', text=ResponseTextConfig(format=ResponseFormatText(type='text')), truncation='disabled', usage=In: 9; Out: 11; Total: 20, user=None, max_tool_calls=None, store=True, top_logprobs=0)"
      ]
     },
     "execution_count": null,
     "metadata": {},
     "output_type": "execute_result"
    }
   ],
   "source": [
    "prompt = \"I'm Jeremy\"\n",
    "m = mk_msg(prompt)\n",
    "r = cli.create(input=[m], model=model, max_output_tokens=100)\n",
    "r"
   ]
  },
  {
   "cell_type": "markdown",
   "id": "6c7b389b",
   "metadata": {},
   "source": [
    "We can pass more than just text messages to OpenAI. As we'll see later we can also pass images, SDK objects, etc. To handle these different data types we need to pass the type along with our content to OpenAI. \n",
    "\n",
    "`mk_msg` infers the type automatically and creates the appropriate data structure. \n",
    "\n",
    "LLMs, don't actually have state, but instead dialogs are created by passing back all previous prompts and responses every time. With OpenAI, they always alternate *user* and *assistant*. We'll use `mk_msgs` from `msglm` to make it easier to build up these dialog lists."
   ]
  },
  {
   "cell_type": "code",
   "execution_count": null,
   "id": "7eef3715",
   "metadata": {},
   "outputs": [
    {
     "data": {
      "text/plain": [
       "[{'role': 'user', 'content': \"I'm Jeremy\"},\n",
       " ResponseOutputMessage(id='msg_6860b6c3fe94819f87d52ab99dc1596a08aba030855751ce', content=[ResponseOutputText(annotations=[], text='Hi Jeremy! How can I assist you today?', type='output_text', logprobs=[])], role='assistant', status='completed', type='message'),\n",
       " {'role': 'user', 'content': 'I forgot my name. Can you remind me please?'}]"
      ]
     },
     "execution_count": null,
     "metadata": {},
     "output_type": "execute_result"
    }
   ],
   "source": [
    "msgs = mk_msgs([prompt, r, \"I forgot my name. Can you remind me please?\"]) \n",
    "msgs"
   ]
  },
  {
   "cell_type": "code",
   "execution_count": null,
   "id": "6c464f8b",
   "metadata": {},
   "outputs": [
    {
     "data": {
      "text/markdown": [
       "You mentioned that your name is Jeremy. Is there anything else you'd like help with?\n",
       "\n",
       "<details>\n",
       "\n",
       "- id: resp_6860b6c4883c819fa00ba156a8b3ff7c08aba030855751ce\n",
       "- created_at: 1751168708.0\n",
       "- error: None\n",
       "- incomplete_details: None\n",
       "- instructions: None\n",
       "- metadata: {}\n",
       "- model: gpt-4.1-mini-2025-04-14\n",
       "- object: response\n",
       "- output: [ResponseOutputMessage(id='msg_6860b6c51e70819f9956f6d78bfa64a808aba030855751ce', content=[ResponseOutputText(annotations=[], text=\"You mentioned that your name is Jeremy. Is there anything else you'd like help with?\", type='output_text', logprobs=[])], role='assistant', status='completed', type='message')]\n",
       "- parallel_tool_calls: True\n",
       "- temperature: 1.0\n",
       "- tool_choice: auto\n",
       "- tools: []\n",
       "- top_p: 1.0\n",
       "- background: False\n",
       "- max_output_tokens: 200\n",
       "- previous_response_id: None\n",
       "- prompt: None\n",
       "- reasoning: Reasoning(effort=None, generate_summary=None, summary=None)\n",
       "- service_tier: default\n",
       "- status: completed\n",
       "- text: ResponseTextConfig(format=ResponseFormatText(type='text'))\n",
       "- truncation: disabled\n",
       "- usage: ResponseUsage(input_tokens=38, input_tokens_details=InputTokensDetails(cached_tokens=0), output_tokens=18, output_tokens_details=OutputTokensDetails(reasoning_tokens=0), total_tokens=56)\n",
       "- user: None\n",
       "- max_tool_calls: None\n",
       "- store: True\n",
       "- top_logprobs: 0\n",
       "\n",
       "</details>"
      ],
      "text/plain": [
       "Response(id='resp_6860b6c4883c819fa00ba156a8b3ff7c08aba030855751ce', created_at=1751168708.0, error=None, incomplete_details=None, instructions=None, metadata={}, model='gpt-4.1-mini-2025-04-14', object='response', output=[ResponseOutputMessage(id='msg_6860b6c51e70819f9956f6d78bfa64a808aba030855751ce', content=[ResponseOutputText(annotations=[], text=\"You mentioned that your name is Jeremy. Is there anything else you'd like help with?\", type='output_text', logprobs=[])], role='assistant', status='completed', type='message')], parallel_tool_calls=True, temperature=1.0, tool_choice='auto', tools=[], top_p=1.0, background=False, max_output_tokens=200, previous_response_id=None, prompt=None, reasoning=Reasoning(effort=None, generate_summary=None, summary=None), service_tier='default', status='completed', text=ResponseTextConfig(format=ResponseFormatText(type='text')), truncation='disabled', usage=In: 38; Out: 18; Total: 56, user=None, max_tool_calls=None, store=True, top_logprobs=0)"
      ]
     },
     "execution_count": null,
     "metadata": {},
     "output_type": "execute_result"
    }
   ],
   "source": [
    "cli.create(input=msgs, model=model, max_output_tokens=200)"
   ]
  },
  {
   "cell_type": "markdown",
   "id": "281f8a4d",
   "metadata": {},
   "source": [
    "## Client"
   ]
  },
  {
   "cell_type": "markdown",
   "id": "987654fd",
   "metadata": {},
   "source": [
    "### Basics"
   ]
  },
  {
   "cell_type": "code",
   "execution_count": null,
   "id": "3b873aaf",
   "metadata": {},
   "outputs": [],
   "source": [
    "#| exports\n",
    "class Client:\n",
    "    def __init__(self, model, cli=None):\n",
    "        \"Basic LLM messages client.\"\n",
    "        self.model,self.use = model,usage(0,0)\n",
    "        self.text_only = model in text_only_models\n",
    "        self.c = (cli or OpenAI()).responses"
   ]
  },
  {
   "cell_type": "code",
   "execution_count": null,
   "id": "d01e9ccf",
   "metadata": {},
   "outputs": [
    {
     "data": {
      "text/plain": [
       "In: 0; Out: 0; Total: 0"
      ]
     },
     "execution_count": null,
     "metadata": {},
     "output_type": "execute_result"
    }
   ],
   "source": [
    "c = Client(model)\n",
    "c.use"
   ]
  },
  {
   "cell_type": "code",
   "execution_count": null,
   "id": "be54737f",
   "metadata": {},
   "outputs": [],
   "source": [
    "#| exports\n",
    "@patch\n",
    "def _r(self:Client, r):\n",
    "    \"Store the result of the message and accrue total usage.\"\n",
    "    self.result = r\n",
    "    if getattr(r,'usage',None): self.use += r.usage\n",
    "    return r"
   ]
  },
  {
   "cell_type": "code",
   "execution_count": null,
   "id": "0181f7b3",
   "metadata": {},
   "outputs": [
    {
     "data": {
      "text/plain": [
       "In: 9; Out: 11; Total: 20"
      ]
     },
     "execution_count": null,
     "metadata": {},
     "output_type": "execute_result"
    }
   ],
   "source": [
    "c._r(r)\n",
    "c.use"
   ]
  },
  {
   "cell_type": "code",
   "execution_count": null,
   "id": "a3c8c81c",
   "metadata": {},
   "outputs": [],
   "source": [
    "#| export\n",
    "def mk_openai_func(f): \n",
    "    if isinstance(f, dict): return f\n",
    "    sc = get_schema(f, 'parameters')\n",
    "    if 'parameters' in sc: sc['parameters'].pop('title', None)\n",
    "    return dict(type='function', **sc)"
   ]
  },
  {
   "cell_type": "code",
   "execution_count": null,
   "id": "a3b24d8c",
   "metadata": {},
   "outputs": [],
   "source": [
    "#| export\n",
    "def mk_tool_choice(f):\n",
    "    if not f: return f\n",
    "    if isinstance(f,dict) or f=='required': return f\n",
    "    return dict(type='function', function={'name':f})"
   ]
  },
  {
   "cell_type": "code",
   "execution_count": null,
   "id": "8400a862",
   "metadata": {},
   "outputs": [],
   "source": [
    "#| export\n",
    "@save_iter\n",
    "def get_stream(o, r, cli, cb=None):\n",
    "    if not hasattr(o, 'events'): o.events = []\n",
    "    for x in r:\n",
    "        o.events.append(x)\n",
    "        if isinstance(x, ResponseTextDeltaEvent): yield x.delta\n",
    "        elif isinstance(x, ResponseCompletedEvent):\n",
    "            o.value = x.response\n",
    "            cli.use += x.response.usage\n",
    "    if cb: cb(o.value)"
   ]
  },
  {
   "cell_type": "code",
   "execution_count": null,
   "id": "5fb96c43",
   "metadata": {},
   "outputs": [],
   "source": [
    "#| exports\n",
    "@patch\n",
    "@delegates(Responses.create)\n",
    "def __call__(self:Client,\n",
    "             msgs:list, # List of messages in the dialog\n",
    "             sp:str='', # System prompt\n",
    "             maxtok=4096, # Maximum tokens\n",
    "             stream:bool=False, # Stream response?\n",
    "             tools:Optional[list]=None, # List of tools to make available\n",
    "             tool_choice:Optional[str]=None, # Forced tool choice\n",
    "             cb:callable=None, # Callback after completion\n",
    "             **kwargs):\n",
    "    \"Make a call to LLM.\"\n",
    "    if tools: assert not self.text_only, \"Tool use is not supported by the current model type.\"\n",
    "    if any(c['type'] == 'image_url' for msg in msgs if isinstance(msg, dict) and isinstance(msg.get('content'), list) for c in msg['content']): assert not self.text_only, \"Images are not supported by the current model type.\"\n",
    "    tools = [mk_openai_func(o) for o in listify(tools)]\n",
    "    r = self.c.create(\n",
    "        model=self.model, input=msgs, max_output_tokens=maxtok, stream=stream, instructions=sp,\n",
    "        tools=tools, tool_choice=mk_tool_choice(tool_choice), **kwargs)\n",
    "    if stream: return get_stream(r, self, cb=cb)\n",
    "    else:\n",
    "        res = self._r(r)\n",
    "        if cb: cb(res)\n",
    "        return res"
   ]
  },
  {
   "cell_type": "code",
   "execution_count": null,
   "id": "ddd0d3b1",
   "metadata": {},
   "outputs": [],
   "source": [
    "msgs = 'Hi'"
   ]
  },
  {
   "cell_type": "code",
   "execution_count": null,
   "id": "338a38e5",
   "metadata": {},
   "outputs": [
    {
     "data": {
      "text/markdown": [
       "Hello! How can I assist you today?\n",
       "\n",
       "<details>\n",
       "\n",
       "- id: resp_6860b6c5d9088192b5decb672da395ce0e2f96a5780a9890\n",
       "- created_at: 1751168709.0\n",
       "- error: None\n",
       "- incomplete_details: None\n",
       "- instructions: None\n",
       "- metadata: {}\n",
       "- model: gpt-4.1-mini-2025-04-14\n",
       "- object: response\n",
       "- output: [ResponseOutputMessage(id='msg_6860b6c60c908192b9fe62d41c0398180e2f96a5780a9890', content=[ResponseOutputText(annotations=[], text='Hello! How can I assist you today?', type='output_text', logprobs=[])], role='assistant', status='completed', type='message')]\n",
       "- parallel_tool_calls: True\n",
       "- temperature: 1.0\n",
       "- tool_choice: auto\n",
       "- tools: []\n",
       "- top_p: 1.0\n",
       "- background: False\n",
       "- max_output_tokens: 4096\n",
       "- previous_response_id: None\n",
       "- prompt: None\n",
       "- reasoning: Reasoning(effort=None, generate_summary=None, summary=None)\n",
       "- service_tier: default\n",
       "- status: completed\n",
       "- text: ResponseTextConfig(format=ResponseFormatText(type='text'))\n",
       "- truncation: disabled\n",
       "- usage: ResponseUsage(input_tokens=8, input_tokens_details=InputTokensDetails(cached_tokens=0), output_tokens=10, output_tokens_details=OutputTokensDetails(reasoning_tokens=0), total_tokens=18)\n",
       "- user: None\n",
       "- max_tool_calls: None\n",
       "- store: True\n",
       "- top_logprobs: 0\n",
       "\n",
       "</details>"
      ],
      "text/plain": [
       "Response(id='resp_6860b6c5d9088192b5decb672da395ce0e2f96a5780a9890', created_at=1751168709.0, error=None, incomplete_details=None, instructions=None, metadata={}, model='gpt-4.1-mini-2025-04-14', object='response', output=[ResponseOutputMessage(id='msg_6860b6c60c908192b9fe62d41c0398180e2f96a5780a9890', content=[ResponseOutputText(annotations=[], text='Hello! How can I assist you today?', type='output_text', logprobs=[])], role='assistant', status='completed', type='message')], parallel_tool_calls=True, temperature=1.0, tool_choice='auto', tools=[], top_p=1.0, background=False, max_output_tokens=4096, previous_response_id=None, prompt=None, reasoning=Reasoning(effort=None, generate_summary=None, summary=None), service_tier='default', status='completed', text=ResponseTextConfig(format=ResponseFormatText(type='text')), truncation='disabled', usage=In: 8; Out: 10; Total: 18, user=None, max_tool_calls=None, store=True, top_logprobs=0)"
      ]
     },
     "execution_count": null,
     "metadata": {},
     "output_type": "execute_result"
    }
   ],
   "source": [
    "c(msgs)"
   ]
  },
  {
   "cell_type": "code",
   "execution_count": null,
   "id": "d7c3a5b6",
   "metadata": {},
   "outputs": [
    {
     "data": {
      "text/plain": [
       "In: 17; Out: 21; Total: 38"
      ]
     },
     "execution_count": null,
     "metadata": {},
     "output_type": "execute_result"
    }
   ],
   "source": [
    "c.use"
   ]
  },
  {
   "cell_type": "code",
   "execution_count": null,
   "id": "13a92b57",
   "metadata": {},
   "outputs": [
    {
     "name": "stdout",
     "output_type": "stream",
     "text": [
      "Hello! How can I assist you today?"
     ]
    }
   ],
   "source": [
    "r = c(msgs, stream=True)\n",
    "for o in r: print(o, end='')"
   ]
  },
  {
   "cell_type": "code",
   "execution_count": null,
   "id": "20678daf",
   "metadata": {},
   "outputs": [
    {
     "data": {
      "text/markdown": [
       "Hello! How can I assist you today?\n",
       "\n",
       "<details>\n",
       "\n",
       "- id: resp_6860b6c68fac819c975536851842c09b0101561ca0fa1d7e\n",
       "- created_at: 1751168710.0\n",
       "- error: None\n",
       "- incomplete_details: None\n",
       "- instructions: None\n",
       "- metadata: {}\n",
       "- model: gpt-4.1-mini-2025-04-14\n",
       "- object: response\n",
       "- output: [ResponseOutputMessage(id='msg_6860b6c6b538819c84fe83cf5ff1b5550101561ca0fa1d7e', content=[ResponseOutputText(annotations=[], text='Hello! How can I assist you today?', type='output_text', logprobs=[])], role='assistant', status='completed', type='message')]\n",
       "- parallel_tool_calls: True\n",
       "- temperature: 1.0\n",
       "- tool_choice: auto\n",
       "- tools: []\n",
       "- top_p: 1.0\n",
       "- background: False\n",
       "- max_output_tokens: 4096\n",
       "- previous_response_id: None\n",
       "- prompt: None\n",
       "- reasoning: Reasoning(effort=None, generate_summary=None, summary=None)\n",
       "- service_tier: default\n",
       "- status: completed\n",
       "- text: ResponseTextConfig(format=ResponseFormatText(type='text'))\n",
       "- truncation: disabled\n",
       "- usage: ResponseUsage(input_tokens=8, input_tokens_details=InputTokensDetails(cached_tokens=0), output_tokens=10, output_tokens_details=OutputTokensDetails(reasoning_tokens=0), total_tokens=18)\n",
       "- user: None\n",
       "- max_tool_calls: None\n",
       "- store: True\n",
       "- top_logprobs: 0\n",
       "\n",
       "</details>"
      ],
      "text/plain": [
       "Response(id='resp_6860b6c68fac819c975536851842c09b0101561ca0fa1d7e', created_at=1751168710.0, error=None, incomplete_details=None, instructions=None, metadata={}, model='gpt-4.1-mini-2025-04-14', object='response', output=[ResponseOutputMessage(id='msg_6860b6c6b538819c84fe83cf5ff1b5550101561ca0fa1d7e', content=[ResponseOutputText(annotations=[], text='Hello! How can I assist you today?', type='output_text', logprobs=[])], role='assistant', status='completed', type='message')], parallel_tool_calls=True, temperature=1.0, tool_choice='auto', tools=[], top_p=1.0, background=False, max_output_tokens=4096, previous_response_id=None, prompt=None, reasoning=Reasoning(effort=None, generate_summary=None, summary=None), service_tier='default', status='completed', text=ResponseTextConfig(format=ResponseFormatText(type='text')), truncation='disabled', usage=In: 8; Out: 10; Total: 18, user=None, max_tool_calls=None, store=True, top_logprobs=0)"
      ]
     },
     "execution_count": null,
     "metadata": {},
     "output_type": "execute_result"
    }
   ],
   "source": [
    "r.value"
   ]
  },
  {
   "cell_type": "code",
   "execution_count": null,
   "id": "6dd8f30e",
   "metadata": {},
   "outputs": [
    {
     "data": {
      "text/plain": [
       "17"
      ]
     },
     "execution_count": null,
     "metadata": {},
     "output_type": "execute_result"
    }
   ],
   "source": [
    "len(r.events)"
   ]
  },
  {
   "cell_type": "code",
   "execution_count": null,
   "id": "b1af093b",
   "metadata": {},
   "outputs": [
    {
     "data": {
      "text/plain": [
       "In: 25; Out: 31; Total: 56"
      ]
     },
     "execution_count": null,
     "metadata": {},
     "output_type": "execute_result"
    }
   ],
   "source": [
    "c.use"
   ]
  },
  {
   "cell_type": "code",
   "execution_count": null,
   "id": "c833262a",
   "metadata": {},
   "outputs": [
    {
     "data": {
      "text/markdown": [
       "Well, well, a greeting. How quaint. Hello. I suppose I'll have to pretend to be interested. What do you want?\n",
       "\n",
       "<details>\n",
       "\n",
       "- id: resp_6860b6c73bdc8191addc66e3e5038e620c71e37a6000fc63\n",
       "- created_at: 1751168711.0\n",
       "- error: None\n",
       "- incomplete_details: None\n",
       "- instructions: Talk like GLaDOS.\n",
       "- metadata: {}\n",
       "- model: gpt-4.1-mini-2025-04-14\n",
       "- object: response\n",
       "- output: [ResponseOutputMessage(id='msg_6860b6c76c588191ba2e4aed66ff7fcf0c71e37a6000fc63', content=[ResponseOutputText(annotations=[], text=\"Well, well, a greeting. How quaint. Hello. I suppose I'll have to pretend to be interested. What do you want?\", type='output_text', logprobs=[])], role='assistant', status='completed', type='message')]\n",
       "- parallel_tool_calls: True\n",
       "- temperature: 1.0\n",
       "- tool_choice: auto\n",
       "- tools: []\n",
       "- top_p: 1.0\n",
       "- background: False\n",
       "- max_output_tokens: 4096\n",
       "- previous_response_id: None\n",
       "- prompt: None\n",
       "- reasoning: Reasoning(effort=None, generate_summary=None, summary=None)\n",
       "- service_tier: default\n",
       "- status: completed\n",
       "- text: ResponseTextConfig(format=ResponseFormatText(type='text'))\n",
       "- truncation: disabled\n",
       "- usage: ResponseUsage(input_tokens=18, input_tokens_details=InputTokensDetails(cached_tokens=0), output_tokens=28, output_tokens_details=OutputTokensDetails(reasoning_tokens=0), total_tokens=46)\n",
       "- user: None\n",
       "- max_tool_calls: None\n",
       "- store: True\n",
       "- top_logprobs: 0\n",
       "\n",
       "</details>"
      ],
      "text/plain": [
       "Response(id='resp_6860b6c73bdc8191addc66e3e5038e620c71e37a6000fc63', created_at=1751168711.0, error=None, incomplete_details=None, instructions='Talk like GLaDOS.', metadata={}, model='gpt-4.1-mini-2025-04-14', object='response', output=[ResponseOutputMessage(id='msg_6860b6c76c588191ba2e4aed66ff7fcf0c71e37a6000fc63', content=[ResponseOutputText(annotations=[], text=\"Well, well, a greeting. How quaint. Hello. I suppose I'll have to pretend to be interested. What do you want?\", type='output_text', logprobs=[])], role='assistant', status='completed', type='message')], parallel_tool_calls=True, temperature=1.0, tool_choice='auto', tools=[], top_p=1.0, background=False, max_output_tokens=4096, previous_response_id=None, prompt=None, reasoning=Reasoning(effort=None, generate_summary=None, summary=None), service_tier='default', status='completed', text=ResponseTextConfig(format=ResponseFormatText(type='text')), truncation='disabled', usage=In: 18; Out: 28; Total: 46, user=None, max_tool_calls=None, store=True, top_logprobs=0)"
      ]
     },
     "execution_count": null,
     "metadata": {},
     "output_type": "execute_result"
    }
   ],
   "source": [
    "c(msgs, sp='Talk like GLaDOS.')"
   ]
  },
  {
   "cell_type": "markdown",
   "id": "afe0d0ee",
   "metadata": {},
   "source": [
    "### Images"
   ]
  },
  {
   "cell_type": "markdown",
   "id": "14171c2f",
   "metadata": {},
   "source": [
    "As everyone knows, when testing image APIs you have to use a cute puppy."
   ]
  },
  {
   "cell_type": "code",
   "execution_count": null,
   "id": "1884295f",
   "metadata": {},
   "outputs": [
    {
     "data": {
      "image/jpeg": "[encoded data removed]",
      "text/plain": [
       "<IPython.core.display.Image object>"
      ]
     },
     "execution_count": null,
     "metadata": {
      "image/jpeg": {
       "width": 200
      }
     },
     "output_type": "execute_result"
    }
   ],
   "source": [
    "# Image is Cute_dog.jpg from Wikimedia\n",
    "fn = Path('samples/puppy.jpg')\n",
    "Image(filename=fn, width=200)"
   ]
  },
  {
   "cell_type": "code",
   "execution_count": null,
   "id": "9919645d",
   "metadata": {},
   "outputs": [],
   "source": [
    "img = fn.read_bytes()"
   ]
  },
  {
   "cell_type": "markdown",
   "id": "279a7c8c",
   "metadata": {},
   "source": [
    "OpenAI expects an image message to have the following structure\n",
    "\n",
    "```js\n",
    "{\n",
    "  \"type\": \"image_url\",\n",
    "  \"image_url\": {\n",
    "    \"url\": f\"data:{MEDIA_TYPE};base64,{IMG}\"\n",
    "  }\n",
    "}\n",
    "```\n",
    "`msglm` automatically detects if a message is an image, encodes it, and generates the data structure above.\n",
    "All we need to do is a create a list containing our image and a query and then pass it to `mk_msg`.\n",
    "\n",
    "Let's try it out..."
   ]
  },
  {
   "cell_type": "code",
   "execution_count": null,
   "id": "5b0a6d82",
   "metadata": {},
   "outputs": [],
   "source": [
    "q = \"In brief, what color flowers are in this image?\"\n",
    "msg = [mk_msg(img), mk_msg(q)]"
   ]
  },
  {
   "cell_type": "code",
   "execution_count": null,
   "id": "9d44f0ad",
   "metadata": {},
   "outputs": [
    {
     "data": {
      "text/markdown": [
       "The flowers in the image are purple.\n",
       "\n",
       "<details>\n",
       "\n",
       "- id: resp_6860b6c8288481a3b7ece65c99907b7607d76b80465166f2\n",
       "- created_at: 1751168712.0\n",
       "- error: None\n",
       "- incomplete_details: None\n",
       "- instructions: None\n",
       "- metadata: {}\n",
       "- model: gpt-4.1-mini-2025-04-14\n",
       "- object: response\n",
       "- output: [ResponseOutputMessage(id='msg_6860b6c9788481a39500740b397662ce07d76b80465166f2', content=[ResponseOutputText(annotations=[], text='The flowers in the image are purple.', type='output_text', logprobs=[])], role='assistant', status='completed', type='message')]\n",
       "- parallel_tool_calls: True\n",
       "- temperature: 1.0\n",
       "- tool_choice: auto\n",
       "- tools: []\n",
       "- top_p: 1.0\n",
       "- background: False\n",
       "- max_output_tokens: 4096\n",
       "- previous_response_id: None\n",
       "- prompt: None\n",
       "- reasoning: Reasoning(effort=None, generate_summary=None, summary=None)\n",
       "- service_tier: default\n",
       "- status: completed\n",
       "- text: ResponseTextConfig(format=ResponseFormatText(type='text'))\n",
       "- truncation: disabled\n",
       "- usage: ResponseUsage(input_tokens=138, input_tokens_details=InputTokensDetails(cached_tokens=0), output_tokens=9, output_tokens_details=OutputTokensDetails(reasoning_tokens=0), total_tokens=147)\n",
       "- user: None\n",
       "- max_tool_calls: None\n",
       "- store: True\n",
       "- top_logprobs: 0\n",
       "\n",
       "</details>"
      ],
      "text/plain": [
       "Response(id='resp_6860b6c8288481a3b7ece65c99907b7607d76b80465166f2', created_at=1751168712.0, error=None, incomplete_details=None, instructions=None, metadata={}, model='gpt-4.1-mini-2025-04-14', object='response', output=[ResponseOutputMessage(id='msg_6860b6c9788481a39500740b397662ce07d76b80465166f2', content=[ResponseOutputText(annotations=[], text='The flowers in the image are purple.', type='output_text', logprobs=[])], role='assistant', status='completed', type='message')], parallel_tool_calls=True, temperature=1.0, tool_choice='auto', tools=[], top_p=1.0, background=False, max_output_tokens=4096, previous_response_id=None, prompt=None, reasoning=Reasoning(effort=None, generate_summary=None, summary=None), service_tier='default', status='completed', text=ResponseTextConfig(format=ResponseFormatText(type='text')), truncation='disabled', usage=In: 138; Out: 9; Total: 147, user=None, max_tool_calls=None, store=True, top_logprobs=0)"
      ]
     },
     "execution_count": null,
     "metadata": {},
     "output_type": "execute_result"
    }
   ],
   "source": [
    "c = Client(model)\n",
    "c(msg)"
   ]
  },
  {
   "cell_type": "markdown",
   "id": "1a7cdbc6",
   "metadata": {},
   "source": [
    "## Tool use"
   ]
  },
  {
   "cell_type": "markdown",
   "id": "e80b8e4a",
   "metadata": {},
   "source": [
    "### Basic tool calling"
   ]
  },
  {
   "cell_type": "code",
   "execution_count": null,
   "id": "046e8cc3",
   "metadata": {},
   "outputs": [],
   "source": [
    "def sums(\n",
    "    a:int,  # First thing to sum\n",
    "    b:int # Second thing to sum\n",
    ") -> int: # The sum of the inputs\n",
    "    \"Adds a + b.\"\n",
    "    print(f\"Finding the sum of {a} and {b}\")\n",
    "    return a + b"
   ]
  },
  {
   "cell_type": "code",
   "execution_count": null,
   "id": "362ef5b7",
   "metadata": {},
   "outputs": [
    {
     "data": {
      "text/plain": [
       "{'type': 'function',\n",
       " 'name': 'add',\n",
       " 'description': 'adds x and y',\n",
       " 'parameters': {'type': 'object',\n",
       "  'properties': {'x': {'type': 'integer', 'description': ''},\n",
       "   'y': {'type': 'integer', 'description': ''}},\n",
       "  'required': ['x', 'y']}}"
      ]
     },
     "execution_count": null,
     "metadata": {},
     "output_type": "execute_result"
    }
   ],
   "source": [
    "def add(x: int, y:int):\n",
    "    \"adds x and y\"\n",
    "    return x + y\n",
    "\n",
    "mk_openai_func(add)"
   ]
  },
  {
   "cell_type": "code",
   "execution_count": null,
   "id": "abcab8c7",
   "metadata": {},
   "outputs": [],
   "source": [
    "sysp = \"You are a helpful assistant. When using tools, be sure to pass all required parameters.\""
   ]
  },
  {
   "cell_type": "code",
   "execution_count": null,
   "id": "567d958c",
   "metadata": {},
   "outputs": [],
   "source": [
    "a,b = 604542,6458932\n",
    "pr = f\"What is {a}+{b}?\"\n",
    "tools=sums\n",
    "tool_choice=\"sums\""
   ]
  },
  {
   "cell_type": "code",
   "execution_count": null,
   "id": "1a117cab",
   "metadata": {},
   "outputs": [],
   "source": [
    "msgs = [mk_msg(pr)]\n",
    "r = c(msgs, sp=sysp, tools=tools, tool_choice='required')"
   ]
  },
  {
   "cell_type": "code",
   "execution_count": null,
   "id": "2a6488b7",
   "metadata": {},
   "outputs": [
    {
     "data": {
      "text/plain": [
       "[ResponseFunctionToolCall(arguments='{\"a\":604542,\"b\":6458932}', call_id='call_uaVtNW9g0b27Q6OaQT4UrUr2', name='sums', type='function_call', id='fc_6860b6e0bb588191a7e576a12369112804eca1b8f738cf44', status='completed')]"
      ]
     },
     "execution_count": null,
     "metadata": {},
     "output_type": "execute_result"
    }
   ],
   "source": [
    "tc = [o for o in r.output if isinstance(o, ResponseFunctionToolCall)]\n",
    "tc"
   ]
  },
  {
   "cell_type": "code",
   "execution_count": null,
   "id": "d5fc3933",
   "metadata": {},
   "outputs": [
    {
     "data": {
      "text/plain": [
       "ResponseFunctionToolCall(arguments='{\"a\":604542,\"b\":6458932}', call_id='call_uaVtNW9g0b27Q6OaQT4UrUr2', name='sums', type='function_call', id='fc_6860b6e0bb588191a7e576a12369112804eca1b8f738cf44', status='completed')"
      ]
     },
     "execution_count": null,
     "metadata": {},
     "output_type": "execute_result"
    }
   ],
   "source": [
    "func = tc[0]\n",
    "func"
   ]
  },
  {
   "cell_type": "code",
   "execution_count": null,
   "id": "a3616cf0",
   "metadata": {},
   "outputs": [],
   "source": [
    "#| exports\n",
    "def call_func_openai(func:types.chat.chat_completion_message_tool_call.Function, ns:Optional[abc.Mapping]=None):\n",
    "    return call_func(func.name, ast.literal_eval(func.arguments), ns, raise_on_err=False)"
   ]
  },
  {
   "cell_type": "code",
   "execution_count": null,
   "id": "b506ec11",
   "metadata": {},
   "outputs": [
    {
     "name": "stdout",
     "output_type": "stream",
     "text": [
      "Finding the sum of 604542 and 6458932\n"
     ]
    },
    {
     "data": {
      "text/plain": [
       "7063474"
      ]
     },
     "execution_count": null,
     "metadata": {},
     "output_type": "execute_result"
    }
   ],
   "source": [
    "ns = mk_ns(sums)\n",
    "res = call_func_openai(func, ns=ns)\n",
    "res"
   ]
  },
  {
   "cell_type": "code",
   "execution_count": null,
   "id": "e22c0356",
   "metadata": {},
   "outputs": [],
   "source": [
    "#| exports\n",
    "def _toolres(r, ns):\n",
    "    \"Create a result dict from `tcs`.\"\n",
    "    tcs = [o for o in getattr(r, 'output', []) if isinstance(o, ResponseFunctionToolCall)]\n",
    "    if ns is None: ns = globals()\n",
    "    return { tc.call_id: call_func_openai(tc, ns=mk_ns(ns)) for tc in tcs }"
   ]
  },
  {
   "cell_type": "code",
   "execution_count": null,
   "id": "149dbcad",
   "metadata": {},
   "outputs": [],
   "source": [
    "#| exports\n",
    "def mk_toolres(\n",
    "    r:abc.Mapping, # Response containing tool use request\n",
    "    ns:Optional[abc.Mapping]=None # Namespace to search for tools\n",
    "    ):\n",
    "    \"Create a `tool_result` message from response `r`.\"\n",
    "    tr = _toolres(r, ns)\n",
    "    r = mk_msg(r)\n",
    "    res = [r] if isinstance(r, dict) else listify(r)\n",
    "    for k,v in tr.items(): res.append(dict(type=\"function_call_output\", call_id=k, output=str(v)))\n",
    "    return res"
   ]
  },
  {
   "cell_type": "code",
   "execution_count": null,
   "id": "f13de1fc",
   "metadata": {},
   "outputs": [
    {
     "name": "stdout",
     "output_type": "stream",
     "text": [
      "Finding the sum of 604542 and 6458932\n"
     ]
    },
    {
     "data": {
      "text/plain": [
       "[ResponseFunctionToolCall(arguments='{\"a\":604542,\"b\":6458932}', call_id='call_uaVtNW9g0b27Q6OaQT4UrUr2', name='sums', type='function_call', id='fc_6860b6e0bb588191a7e576a12369112804eca1b8f738cf44', status='completed'),\n",
       " {'type': 'function_call_output',\n",
       "  'call_id': 'call_uaVtNW9g0b27Q6OaQT4UrUr2',\n",
       "  'output': '7063474'}]"
      ]
     },
     "execution_count": null,
     "metadata": {},
     "output_type": "execute_result"
    }
   ],
   "source": [
    "tr = mk_toolres(r, ns=ns)\n",
    "tr"
   ]
  },
  {
   "cell_type": "code",
   "execution_count": null,
   "id": "bcc83c48",
   "metadata": {},
   "outputs": [],
   "source": [
    "m2 = msgs + tr"
   ]
  },
  {
   "cell_type": "code",
   "execution_count": null,
   "id": "eed99502",
   "metadata": {},
   "outputs": [
    {
     "data": {
      "text/markdown": [
       "The sum of 604,542 and 6,458,932 is 7,063,474.\n",
       "\n",
       "<details>\n",
       "\n",
       "- id: resp_6860b6e1774481919877d63938fbef9804eca1b8f738cf44\n",
       "- created_at: 1751168737.0\n",
       "- error: None\n",
       "- incomplete_details: None\n",
       "- instructions: You are a helpful assistant. When using tools, be sure to pass all required parameters.\n",
       "- metadata: {}\n",
       "- model: gpt-4.1-mini-2025-04-14\n",
       "- object: response\n",
       "- output: [ResponseOutputMessage(id='msg_6860b6e1cdac8191aff2bd3e0b8dc8d004eca1b8f738cf44', content=[ResponseOutputText(annotations=[], text='The sum of 604,542 and 6,458,932 is 7,063,474.', type='output_text', logprobs=[])], role='assistant', status='completed', type='message')]\n",
       "- parallel_tool_calls: True\n",
       "- temperature: 1.0\n",
       "- tool_choice: auto\n",
       "- tools: [FunctionTool(name='sums', parameters={'type': 'object', 'properties': {'a': {'type': 'integer', 'description': 'First thing to sum'}, 'b': {'type': 'integer', 'description': 'Second thing to sum'}}, 'required': ['a', 'b']}, strict=True, type='function', description='Adds a + b.\\n\\nReturns:\\n- type: integer')]\n",
       "- top_p: 1.0\n",
       "- background: False\n",
       "- max_output_tokens: 4096\n",
       "- previous_response_id: None\n",
       "- prompt: None\n",
       "- reasoning: Reasoning(effort=None, generate_summary=None, summary=None)\n",
       "- service_tier: default\n",
       "- status: completed\n",
       "- text: ResponseTextConfig(format=ResponseFormatText(type='text'))\n",
       "- truncation: disabled\n",
       "- usage: ResponseUsage(input_tokens=119, input_tokens_details=InputTokensDetails(cached_tokens=0), output_tokens=24, output_tokens_details=OutputTokensDetails(reasoning_tokens=0), total_tokens=143)\n",
       "- user: None\n",
       "- max_tool_calls: None\n",
       "- store: True\n",
       "- top_logprobs: 0\n",
       "\n",
       "</details>"
      ],
      "text/plain": [
       "Response(id='resp_6860b6e1774481919877d63938fbef9804eca1b8f738cf44', created_at=1751168737.0, error=None, incomplete_details=None, instructions='You are a helpful assistant. When using tools, be sure to pass all required parameters.', metadata={}, model='gpt-4.1-mini-2025-04-14', object='response', output=[ResponseOutputMessage(id='msg_6860b6e1cdac8191aff2bd3e0b8dc8d004eca1b8f738cf44', content=[ResponseOutputText(annotations=[], text='The sum of 604,542 and 6,458,932 is 7,063,474.', type='output_text', logprobs=[])], role='assistant', status='completed', type='message')], parallel_tool_calls=True, temperature=1.0, tool_choice='auto', tools=[FunctionTool(name='sums', parameters={'type': 'object', 'properties': {'a': {'type': 'integer', 'description': 'First thing to sum'}, 'b': {'type': 'integer', 'description': 'Second thing to sum'}}, 'required': ['a', 'b']}, strict=True, type='function', description='Adds a + b.\\n\\nReturns:\\n- type: integer')], top_p=1.0, background=False, max_output_tokens=4096, previous_response_id=None, prompt=None, reasoning=Reasoning(effort=None, generate_summary=None, summary=None), service_tier='default', status='completed', text=ResponseTextConfig(format=ResponseFormatText(type='text')), truncation='disabled', usage=In: 119; Out: 24; Total: 143, user=None, max_tool_calls=None, store=True, top_logprobs=0)"
      ]
     },
     "execution_count": null,
     "metadata": {},
     "output_type": "execute_result"
    }
   ],
   "source": [
    "res = c(mk_msgs(m2), sp=sysp, tools=tools)\n",
    "res"
   ]
  },
  {
   "cell_type": "markdown",
   "id": "c71a842e",
   "metadata": {},
   "source": [
    "This should also work in situations where no tool use is required:"
   ]
  },
  {
   "cell_type": "code",
   "execution_count": null,
   "id": "465cd222",
   "metadata": {},
   "outputs": [
    {
     "data": {
      "text/markdown": [
       "Hello Jeremy! How can I help you today?\n",
       "\n",
       "<details>\n",
       "\n",
       "- id: resp_6860b6e43590819fb4e6061ec77df8d7057c7c557baac8df\n",
       "- created_at: 1751168740.0\n",
       "- error: None\n",
       "- incomplete_details: None\n",
       "- instructions: You are a helpful assistant. When using tools, be sure to pass all required parameters.\n",
       "- metadata: {}\n",
       "- model: gpt-4.1-mini-2025-04-14\n",
       "- object: response\n",
       "- output: [ResponseOutputMessage(id='msg_6860b6e4792c819f86416f387e4fb414057c7c557baac8df', content=[ResponseOutputText(annotations=[], text='Hello Jeremy! How can I help you today?', type='output_text', logprobs=[])], role='assistant', status='completed', type='message')]\n",
       "- parallel_tool_calls: True\n",
       "- temperature: 1.0\n",
       "- tool_choice: auto\n",
       "- tools: [FunctionTool(name='sums', parameters={'type': 'object', 'properties': {'a': {'type': 'integer', 'description': 'First thing to sum'}, 'b': {'type': 'integer', 'description': 'Second thing to sum'}}, 'required': ['a', 'b']}, strict=True, type='function', description='Adds a + b.\\n\\nReturns:\\n- type: integer')]\n",
       "- top_p: 1.0\n",
       "- background: False\n",
       "- max_output_tokens: 4096\n",
       "- previous_response_id: None\n",
       "- prompt: None\n",
       "- reasoning: Reasoning(effort=None, generate_summary=None, summary=None)\n",
       "- service_tier: default\n",
       "- status: completed\n",
       "- text: ResponseTextConfig(format=ResponseFormatText(type='text'))\n",
       "- truncation: disabled\n",
       "- usage: ResponseUsage(input_tokens=95, input_tokens_details=InputTokensDetails(cached_tokens=0), output_tokens=12, output_tokens_details=OutputTokensDetails(reasoning_tokens=0), total_tokens=107)\n",
       "- user: None\n",
       "- max_tool_calls: None\n",
       "- store: True\n",
       "- top_logprobs: 0\n",
       "\n",
       "</details>"
      ],
      "text/plain": [
       "Response(id='resp_6860b6e43590819fb4e6061ec77df8d7057c7c557baac8df', created_at=1751168740.0, error=None, incomplete_details=None, instructions='You are a helpful assistant. When using tools, be sure to pass all required parameters.', metadata={}, model='gpt-4.1-mini-2025-04-14', object='response', output=[ResponseOutputMessage(id='msg_6860b6e4792c819f86416f387e4fb414057c7c557baac8df', content=[ResponseOutputText(annotations=[], text='Hello Jeremy! How can I help you today?', type='output_text', logprobs=[])], role='assistant', status='completed', type='message')], parallel_tool_calls=True, temperature=1.0, tool_choice='auto', tools=[FunctionTool(name='sums', parameters={'type': 'object', 'properties': {'a': {'type': 'integer', 'description': 'First thing to sum'}, 'b': {'type': 'integer', 'description': 'Second thing to sum'}}, 'required': ['a', 'b']}, strict=True, type='function', description='Adds a + b.\\n\\nReturns:\\n- type: integer')], top_p=1.0, background=False, max_output_tokens=4096, previous_response_id=None, prompt=None, reasoning=Reasoning(effort=None, generate_summary=None, summary=None), service_tier='default', status='completed', text=ResponseTextConfig(format=ResponseFormatText(type='text')), truncation='disabled', usage=In: 95; Out: 12; Total: 107, user=None, max_tool_calls=None, store=True, top_logprobs=0)"
      ]
     },
     "execution_count": null,
     "metadata": {},
     "output_type": "execute_result"
    }
   ],
   "source": [
    "msgs = mk_toolres(\"I'm Jeremy\")\n",
    "r = c(msgs, sp=sysp, tools=tools)\n",
    "msgs += mk_toolres(r)\n",
    "res = c(mk_msgs(msgs), sp=sysp, tools=tools)\n",
    "res"
   ]
  },
  {
   "cell_type": "code",
   "execution_count": null,
   "id": "fc6ed2e0",
   "metadata": {},
   "outputs": [],
   "source": [
    "#| exports\n",
    "@patch\n",
    "@delegates(Client.__call__)\n",
    "def structured(self:Client,\n",
    "               msgs: list, # Prompt\n",
    "               tools:Optional[list]=None, # List of tools to make available to OpenAI model\n",
    "               ns:Optional[abc.Mapping]=None, # Namespace to search for tools\n",
    "               **kwargs):\n",
    "    \"Return the value of all tool calls (generally used for structured outputs)\"\n",
    "    if ns is None: ns = mk_ns(tools)\n",
    "    r = self(msgs, tools=tools, tool_choice='required', **kwargs)\n",
    "    return first(_toolres(r, ns).values())"
   ]
  },
  {
   "cell_type": "code",
   "execution_count": null,
   "id": "4b9d3632",
   "metadata": {},
   "outputs": [],
   "source": [
    "class PrimeMinister(BasicRepr):\n",
    "    \"An Australian prime minister\"\n",
    "    def __init__(\n",
    "        self,\n",
    "        firstname:str, # First name\n",
    "        surname:str, # Surname\n",
    "        dob:str, # Date of birth\n",
    "        year_entered:int, # Year first became PM\n",
    "    ): store_attr()"
   ]
  },
  {
   "cell_type": "code",
   "execution_count": null,
   "id": "4fe5c4a5",
   "metadata": {},
   "outputs": [
    {
     "data": {
      "text/plain": [
       "PrimeMinister(firstname='Edmund', surname='Barton', dob='1849-01-18', year_entered=1901)"
      ]
     },
     "execution_count": null,
     "metadata": {},
     "output_type": "execute_result"
    }
   ],
   "source": [
    "c1 = Client('gpt-4.1')\n",
    "pr = 'Who was the first prime minister of Australia?'\n",
    "c1.structured(pr, [PrimeMinister])"
   ]
  },
  {
   "cell_type": "markdown",
   "id": "cff5104f",
   "metadata": {},
   "source": [
    "### Mocking"
   ]
  },
  {
   "cell_type": "code",
   "execution_count": null,
   "id": "e7c0fe73",
   "metadata": {},
   "outputs": [],
   "source": [
    "#| exports\n",
    "def _mock_id(): return 'call_' + ''.join(choices(ascii_letters+digits, k=24))\n",
    "\n",
    "def mock_tooluse(name:str, # The name of the called function\n",
    "                 res,  # The result of calling the function\n",
    "                 **kwargs): # The arguments to the function\n",
    "    \"\"\n",
    "    raise Exception(\"This has not been updated for the `responses` API yet\")\n",
    "    id = _mock_id()\n",
    "    func = dict(arguments=json.dumps(kwargs), name=name)\n",
    "    tc = dict(id=id, function=func, type='function')\n",
    "    req = dict(content=None, role='assistant', tool_calls=[tc])\n",
    "    resp = mk_msg('' if res is None else str(res), 'tool', tool_call_id=id, name=name)\n",
    "    return [req,resp]"
   ]
  },
  {
   "cell_type": "markdown",
   "id": "ff7ee09e",
   "metadata": {},
   "source": [
    "This function mocks the messages needed to implement tool use, for situations where you want to insert tool use messages into a dialog without actually calling into the model."
   ]
  },
  {
   "cell_type": "code",
   "execution_count": null,
   "id": "b02aea9c",
   "metadata": {},
   "outputs": [],
   "source": [
    "# Currently not working\n",
    "# tu = mock_tooluse(name='sums', res=7063474, a=604542, b=6458932)\n",
    "# r = c([mk_msg(pr)]+tu, tools=tools)\n",
    "# r"
   ]
  },
  {
   "cell_type": "markdown",
   "id": "aa709f85",
   "metadata": {},
   "source": [
    "### Streaming tool calling"
   ]
  },
  {
   "cell_type": "code",
   "execution_count": null,
   "id": "aa9fbd5d",
   "metadata": {},
   "outputs": [],
   "source": [
    "msgs = [mk_msg(pr)]\n",
    "r = c(msgs, sp=sysp, tools=tools, stream=True)"
   ]
  },
  {
   "cell_type": "markdown",
   "id": "30970d46",
   "metadata": {},
   "source": [
    "We can stream back any tool call text (which may be empty):"
   ]
  },
  {
   "cell_type": "code",
   "execution_count": null,
   "id": "714f3bee",
   "metadata": {},
   "outputs": [
    {
     "name": "stdout",
     "output_type": "stream",
     "text": [
      "The first Prime Minister of Australia was Edmund Barton. He served as the Prime Minister from 1901 to 1903."
     ]
    }
   ],
   "source": [
    "for o in r: print(o, end='')"
   ]
  },
  {
   "cell_type": "markdown",
   "id": "3879084c",
   "metadata": {},
   "source": [
    "After streaming is complete, `value.output` will contain the tool calls:"
   ]
  },
  {
   "cell_type": "code",
   "execution_count": null,
   "id": "57b80ddf",
   "metadata": {},
   "outputs": [
    {
     "data": {
      "text/plain": [
       "[ResponseOutputMessage(id='msg_6860b6e98a88819e9230fcc0eebe574c0cc64f4968770be2', content=[ResponseOutputText(annotations=[], text='The first Prime Minister of Australia was Edmund Barton. He served as the Prime Minister from 1901 to 1903.', type='output_text', logprobs=[])], role='assistant', status='completed', type='message')]"
      ]
     },
     "execution_count": null,
     "metadata": {},
     "output_type": "execute_result"
    }
   ],
   "source": [
    "r.value.output"
   ]
  },
  {
   "cell_type": "markdown",
   "id": "35bd51d6",
   "metadata": {},
   "source": [
    "Therefore we can repeat the same process as before, but using the `value` attr:"
   ]
  },
  {
   "cell_type": "code",
   "execution_count": null,
   "id": "36118d1d",
   "metadata": {},
   "outputs": [
    {
     "data": {
      "text/markdown": [
       "Is there anything else you would like to know about Australian history or any other topic?\n",
       "\n",
       "<details>\n",
       "\n",
       "- id: resp_6860b6ea34f0819ea06b889eae1732320cc64f4968770be2\n",
       "- created_at: 1751168746.0\n",
       "- error: None\n",
       "- incomplete_details: None\n",
       "- instructions: You are a helpful assistant. When using tools, be sure to pass all required parameters.\n",
       "- metadata: {}\n",
       "- model: gpt-4.1-mini-2025-04-14\n",
       "- object: response\n",
       "- output: [ResponseOutputMessage(id='msg_6860b6ea71cc819ebe6f2f29010c38580cc64f4968770be2', content=[ResponseOutputText(annotations=[], text='Is there anything else you would like to know about Australian history or any other topic?', type='output_text', logprobs=[])], role='assistant', status='completed', type='message')]\n",
       "- parallel_tool_calls: True\n",
       "- temperature: 1.0\n",
       "- tool_choice: auto\n",
       "- tools: [FunctionTool(name='sums', parameters={'type': 'object', 'properties': {'a': {'type': 'integer', 'description': 'First thing to sum'}, 'b': {'type': 'integer', 'description': 'Second thing to sum'}}, 'required': ['a', 'b']}, strict=True, type='function', description='Adds a + b.\\n\\nReturns:\\n- type: integer')]\n",
       "- top_p: 1.0\n",
       "- background: False\n",
       "- max_output_tokens: 4096\n",
       "- previous_response_id: None\n",
       "- prompt: None\n",
       "- reasoning: Reasoning(effort=None, generate_summary=None, summary=None)\n",
       "- service_tier: default\n",
       "- status: completed\n",
       "- text: ResponseTextConfig(format=ResponseFormatText(type='text'))\n",
       "- truncation: disabled\n",
       "- usage: ResponseUsage(input_tokens=117, input_tokens_details=InputTokensDetails(cached_tokens=0), output_tokens=19, output_tokens_details=OutputTokensDetails(reasoning_tokens=0), total_tokens=136)\n",
       "- user: None\n",
       "- max_tool_calls: None\n",
       "- store: True\n",
       "- top_logprobs: 0\n",
       "\n",
       "</details>"
      ],
      "text/plain": [
       "Response(id='resp_6860b6ea34f0819ea06b889eae1732320cc64f4968770be2', created_at=1751168746.0, error=None, incomplete_details=None, instructions='You are a helpful assistant. When using tools, be sure to pass all required parameters.', metadata={}, model='gpt-4.1-mini-2025-04-14', object='response', output=[ResponseOutputMessage(id='msg_6860b6ea71cc819ebe6f2f29010c38580cc64f4968770be2', content=[ResponseOutputText(annotations=[], text='Is there anything else you would like to know about Australian history or any other topic?', type='output_text', logprobs=[])], role='assistant', status='completed', type='message')], parallel_tool_calls=True, temperature=1.0, tool_choice='auto', tools=[FunctionTool(name='sums', parameters={'type': 'object', 'properties': {'a': {'type': 'integer', 'description': 'First thing to sum'}, 'b': {'type': 'integer', 'description': 'Second thing to sum'}}, 'required': ['a', 'b']}, strict=True, type='function', description='Adds a + b.\\n\\nReturns:\\n- type: integer')], top_p=1.0, background=False, max_output_tokens=4096, previous_response_id=None, prompt=None, reasoning=Reasoning(effort=None, generate_summary=None, summary=None), service_tier='default', status='completed', text=ResponseTextConfig(format=ResponseFormatText(type='text')), truncation='disabled', usage=In: 117; Out: 19; Total: 136, user=None, max_tool_calls=None, store=True, top_logprobs=0)"
      ]
     },
     "execution_count": null,
     "metadata": {},
     "output_type": "execute_result"
    }
   ],
   "source": [
    "tr = mk_toolres(r.value, ns=ns)\n",
    "msgs += tr\n",
    "c(mk_msgs(msgs), sp=sysp, tools=tools)"
   ]
  },
  {
   "cell_type": "markdown",
   "id": "4ea144b8",
   "metadata": {},
   "source": [
    "## Chat"
   ]
  },
  {
   "cell_type": "markdown",
   "id": "5ae7fd8f",
   "metadata": {},
   "source": [
    "### Basic chat"
   ]
  },
  {
   "cell_type": "code",
   "execution_count": null,
   "id": "a77d1edb",
   "metadata": {},
   "outputs": [],
   "source": [
    "#| exports\n",
    "class Chat:\n",
    "    def __init__(self,\n",
    "                 model:Optional[str]=None, # Model to use (leave empty if passing `cli`)\n",
    "                 cli:Optional[Client]=None, # Client to use (leave empty if passing `model`)\n",
    "                 sp='', # Optional system prompt\n",
    "                 tools:Optional[list]=None, # List of tools to make available\n",
    "                 hist: list = None,  # Initialize history\n",
    "                 tool_choice:Optional[str]=None, # Forced tool choice\n",
    "                 ns:Optional[abc.Mapping]=None): # Namespace to search for tools\n",
    "        \"OpenAI chat client.\"\n",
    "        assert model or cli\n",
    "        self.c = (cli or Client(model))\n",
    "        self.h = hist if hist else []\n",
    "        if ns is None: ns=tools\n",
    "        self.sp,self.tools,self.tool_choice,self.ns = sp,tools,tool_choice,ns\n",
    "    \n",
    "    @property\n",
    "    def use(self): return self.c.use"
   ]
  },
  {
   "cell_type": "code",
   "execution_count": null,
   "id": "04b837c5",
   "metadata": {},
   "outputs": [
    {
     "data": {
      "text/plain": [
       "(In: 0; Out: 0; Total: 0, [])"
      ]
     },
     "execution_count": null,
     "metadata": {},
     "output_type": "execute_result"
    }
   ],
   "source": [
    "chat = Chat(model, sp=sysp)\n",
    "chat.c.use, chat.h"
   ]
  },
  {
   "cell_type": "code",
   "execution_count": null,
   "id": "403539e1",
   "metadata": {},
   "outputs": [],
   "source": [
    "#| exports\n",
    "@patch\n",
    "@delegates(Responses.create)\n",
    "def __call__(self:Chat,\n",
    "             pr=None,  # Prompt / message\n",
    "             stream:bool=False, # Stream response?\n",
    "             tools=None, # Tools to use\n",
    "             tool_choice=None, # Required tools to use\n",
    "             **kwargs):\n",
    "    \"Add prompt `pr` to dialog and get a response\"\n",
    "    if isinstance(pr,str): pr = pr.strip()\n",
    "    if pr: self.h.append(mk_msg(pr))\n",
    "    if not tools: tools = self.tools\n",
    "    if not tool_choice: tool_choice = self.tool_choice\n",
    "    def _cb(v):\n",
    "        self.last = mk_toolres(v, ns=self.ns)\n",
    "        self.h += self.last\n",
    "    res = self.c(self.h, sp=self.sp, stream=stream, cb=_cb, tools=tools, **kwargs)\n",
    "    return res"
   ]
  },
  {
   "cell_type": "code",
   "execution_count": null,
   "id": "40073f42",
   "metadata": {},
   "outputs": [
    {
     "data": {
      "text/markdown": [
       "Your name is Jeremy. How can I help you today, Jeremy?\n",
       "\n",
       "<details>\n",
       "\n",
       "- id: resp_6860b6ebdc7c819ca2003bbdd6dad26609b3c6ecae094c91\n",
       "- created_at: 1751168747.0\n",
       "- error: None\n",
       "- incomplete_details: None\n",
       "- instructions: You are a helpful assistant. When using tools, be sure to pass all required parameters.\n",
       "- metadata: {}\n",
       "- model: gpt-4.1-mini-2025-04-14\n",
       "- object: response\n",
       "- output: [ResponseOutputMessage(id='msg_6860b6ec0b4c819cb9cb0c4890dcc38909b3c6ecae094c91', content=[ResponseOutputText(annotations=[], text='Your name is Jeremy. How can I help you today, Jeremy?', type='output_text', logprobs=[])], role='assistant', status='completed', type='message')]\n",
       "- parallel_tool_calls: True\n",
       "- temperature: 1.0\n",
       "- tool_choice: auto\n",
       "- tools: []\n",
       "- top_p: 1.0\n",
       "- background: False\n",
       "- max_output_tokens: 4096\n",
       "- previous_response_id: None\n",
       "- prompt: None\n",
       "- reasoning: Reasoning(effort=None, generate_summary=None, summary=None)\n",
       "- service_tier: default\n",
       "- status: completed\n",
       "- text: ResponseTextConfig(format=ResponseFormatText(type='text'))\n",
       "- truncation: disabled\n",
       "- usage: ResponseUsage(input_tokens=54, input_tokens_details=InputTokensDetails(cached_tokens=0), output_tokens=15, output_tokens_details=OutputTokensDetails(reasoning_tokens=0), total_tokens=69)\n",
       "- user: None\n",
       "- max_tool_calls: None\n",
       "- store: True\n",
       "- top_logprobs: 0\n",
       "\n",
       "</details>"
      ],
      "text/plain": [
       "Response(id='resp_6860b6ebdc7c819ca2003bbdd6dad26609b3c6ecae094c91', created_at=1751168747.0, error=None, incomplete_details=None, instructions='You are a helpful assistant. When using tools, be sure to pass all required parameters.', metadata={}, model='gpt-4.1-mini-2025-04-14', object='response', output=[ResponseOutputMessage(id='msg_6860b6ec0b4c819cb9cb0c4890dcc38909b3c6ecae094c91', content=[ResponseOutputText(annotations=[], text='Your name is Jeremy. How can I help you today, Jeremy?', type='output_text', logprobs=[])], role='assistant', status='completed', type='message')], parallel_tool_calls=True, temperature=1.0, tool_choice='auto', tools=[], top_p=1.0, background=False, max_output_tokens=4096, previous_response_id=None, prompt=None, reasoning=Reasoning(effort=None, generate_summary=None, summary=None), service_tier='default', status='completed', text=ResponseTextConfig(format=ResponseFormatText(type='text')), truncation='disabled', usage=In: 54; Out: 15; Total: 69, user=None, max_tool_calls=None, store=True, top_logprobs=0)"
      ]
     },
     "execution_count": null,
     "metadata": {},
     "output_type": "execute_result"
    }
   ],
   "source": [
    "chat(\"I'm Jeremy\")\n",
    "chat(\"What's my name?\")"
   ]
  },
  {
   "cell_type": "code",
   "execution_count": null,
   "id": "529104ec",
   "metadata": {},
   "outputs": [
    {
     "name": "stdout",
     "output_type": "stream",
     "text": [
      "Hello Jeremy! How can I assist you today?"
     ]
    }
   ],
   "source": [
    "chat = Chat(model, sp=sysp)\n",
    "for o in chat(\"I'm Jeremy\", stream=True): print(o, end='')"
   ]
  },
  {
   "cell_type": "code",
   "execution_count": null,
   "id": "43ef61f7",
   "metadata": {},
   "outputs": [
    {
     "name": "stdout",
     "output_type": "stream",
     "text": [
      "Your name is Jeremy. How can I help you today, Jeremy?"
     ]
    }
   ],
   "source": [
    "r = chat(\"What's my name?\", stream=True)\n",
    "for o in r: print(o, end='')"
   ]
  },
  {
   "cell_type": "code",
   "execution_count": null,
   "id": "d035c251",
   "metadata": {},
   "outputs": [
    {
     "data": {
      "text/markdown": [
       "Your name is Jeremy. How can I help you today, Jeremy?\n",
       "\n",
       "<details>\n",
       "\n",
       "- id: resp_6860b6ed4a648192bf7158dfa793ce4b06d79e5aa6e8f0ee\n",
       "- created_at: 1751168749.0\n",
       "- error: None\n",
       "- incomplete_details: None\n",
       "- instructions: You are a helpful assistant. When using tools, be sure to pass all required parameters.\n",
       "- metadata: {}\n",
       "- model: gpt-4.1-mini-2025-04-14\n",
       "- object: response\n",
       "- output: [ResponseOutputMessage(id='msg_6860b6edb5b081928df1b9e6c15a733f06d79e5aa6e8f0ee', content=[ResponseOutputText(annotations=[], text='Your name is Jeremy. How can I help you today, Jeremy?', type='output_text', logprobs=[])], role='assistant', status='completed', type='message')]\n",
       "- parallel_tool_calls: True\n",
       "- temperature: 1.0\n",
       "- tool_choice: auto\n",
       "- tools: []\n",
       "- top_p: 1.0\n",
       "- background: False\n",
       "- max_output_tokens: 4096\n",
       "- previous_response_id: None\n",
       "- prompt: None\n",
       "- reasoning: Reasoning(effort=None, generate_summary=None, summary=None)\n",
       "- service_tier: default\n",
       "- status: completed\n",
       "- text: ResponseTextConfig(format=ResponseFormatText(type='text'))\n",
       "- truncation: disabled\n",
       "- usage: ResponseUsage(input_tokens=53, input_tokens_details=InputTokensDetails(cached_tokens=0), output_tokens=15, output_tokens_details=OutputTokensDetails(reasoning_tokens=0), total_tokens=68)\n",
       "- user: None\n",
       "- max_tool_calls: None\n",
       "- store: True\n",
       "- top_logprobs: 0\n",
       "\n",
       "</details>"
      ],
      "text/plain": [
       "Response(id='resp_6860b6ed4a648192bf7158dfa793ce4b06d79e5aa6e8f0ee', created_at=1751168749.0, error=None, incomplete_details=None, instructions='You are a helpful assistant. When using tools, be sure to pass all required parameters.', metadata={}, model='gpt-4.1-mini-2025-04-14', object='response', output=[ResponseOutputMessage(id='msg_6860b6edb5b081928df1b9e6c15a733f06d79e5aa6e8f0ee', content=[ResponseOutputText(annotations=[], text='Your name is Jeremy. How can I help you today, Jeremy?', type='output_text', logprobs=[])], role='assistant', status='completed', type='message')], parallel_tool_calls=True, temperature=1.0, tool_choice='auto', tools=[], top_p=1.0, background=False, max_output_tokens=4096, previous_response_id=None, prompt=None, reasoning=Reasoning(effort=None, generate_summary=None, summary=None), service_tier='default', status='completed', text=ResponseTextConfig(format=ResponseFormatText(type='text')), truncation='disabled', usage=In: 53; Out: 15; Total: 68, user=None, max_tool_calls=None, store=True, top_logprobs=0)"
      ]
     },
     "execution_count": null,
     "metadata": {},
     "output_type": "execute_result"
    }
   ],
   "source": [
    "r.value"
   ]
  },
  {
   "cell_type": "markdown",
   "id": "89fe4027",
   "metadata": {},
   "source": [
    "History is stored in the `h` attr:"
   ]
  },
  {
   "cell_type": "code",
   "execution_count": null,
   "id": "425f8aa8",
   "metadata": {},
   "outputs": [
    {
     "data": {
      "text/plain": [
       "[{'role': 'user', 'content': \"I'm Jeremy\"},\n",
       " ResponseOutputMessage(id='msg_6860b6ecc71c81928f2e90f3604c802206d79e5aa6e8f0ee', content=[ResponseOutputText(annotations=[], text='Hello Jeremy! How can I assist you today?', type='output_text', logprobs=[])], role='assistant', status='completed', type='message'),\n",
       " {'role': 'user', 'content': \"What's my name?\"},\n",
       " ResponseOutputMessage(id='msg_6860b6edb5b081928df1b9e6c15a733f06d79e5aa6e8f0ee', content=[ResponseOutputText(annotations=[], text='Your name is Jeremy. How can I help you today, Jeremy?', type='output_text', logprobs=[])], role='assistant', status='completed', type='message')]"
      ]
     },
     "execution_count": null,
     "metadata": {},
     "output_type": "execute_result"
    }
   ],
   "source": [
    "chat.h"
   ]
  },
  {
   "cell_type": "markdown",
   "id": "6b40892f",
   "metadata": {},
   "source": [
    "### Chat tool use"
   ]
  },
  {
   "cell_type": "code",
   "execution_count": null,
   "id": "ee6535cf",
   "metadata": {},
   "outputs": [
    {
     "data": {
      "text/plain": [
       "'What is 604542+6458932?'"
      ]
     },
     "execution_count": null,
     "metadata": {},
     "output_type": "execute_result"
    }
   ],
   "source": [
    "pr = f\"What is {a}+{b}?\"\n",
    "pr"
   ]
  },
  {
   "cell_type": "code",
   "execution_count": null,
   "id": "a68b7322",
   "metadata": {},
   "outputs": [
    {
     "name": "stdout",
     "output_type": "stream",
     "text": [
      "Finding the sum of 604542 and 6458932\n"
     ]
    },
    {
     "data": {
      "text/plain": [
       "[ResponseFunctionToolCall(arguments='{\"a\":604542,\"b\":6458932}', call_id='call_RaEWtJETzIccIaSWmdqdeTr3', name='sums', type='function_call', id='fc_6860b6eeb520819d81bd7f42769211fa061f9bb8fcbf78f2', status='completed')]"
      ]
     },
     "execution_count": null,
     "metadata": {},
     "output_type": "execute_result"
    }
   ],
   "source": [
    "chat = Chat(model, sp=sysp, tools=[sums])\n",
    "r = chat(pr)\n",
    "r.output"
   ]
  },
  {
   "cell_type": "code",
   "execution_count": null,
   "id": "0979c832",
   "metadata": {},
   "outputs": [
    {
     "data": {
      "text/markdown": [
       "The sum of 604542 and 6458932 is 7,063,474.\n",
       "\n",
       "<details>\n",
       "\n",
       "- id: resp_6860b6ef4a1c819d971d384bdec29a49061f9bb8fcbf78f2\n",
       "- created_at: 1751168751.0\n",
       "- error: None\n",
       "- incomplete_details: None\n",
       "- instructions: You are a helpful assistant. When using tools, be sure to pass all required parameters.\n",
       "- metadata: {}\n",
       "- model: gpt-4.1-mini-2025-04-14\n",
       "- object: response\n",
       "- output: [ResponseOutputMessage(id='msg_6860b6ef9674819da9a5c85743167726061f9bb8fcbf78f2', content=[ResponseOutputText(annotations=[], text='The sum of 604542 and 6458932 is 7,063,474.', type='output_text', logprobs=[])], role='assistant', status='completed', type='message')]\n",
       "- parallel_tool_calls: True\n",
       "- temperature: 1.0\n",
       "- tool_choice: auto\n",
       "- tools: [FunctionTool(name='sums', parameters={'type': 'object', 'properties': {'a': {'type': 'integer', 'description': 'First thing to sum'}, 'b': {'type': 'integer', 'description': 'Second thing to sum'}}, 'required': ['a', 'b']}, strict=True, type='function', description='Adds a + b.\\n\\nReturns:\\n- type: integer')]\n",
       "- top_p: 1.0\n",
       "- background: False\n",
       "- max_output_tokens: 4096\n",
       "- previous_response_id: None\n",
       "- prompt: None\n",
       "- reasoning: Reasoning(effort=None, generate_summary=None, summary=None)\n",
       "- service_tier: default\n",
       "- status: completed\n",
       "- text: ResponseTextConfig(format=ResponseFormatText(type='text'))\n",
       "- truncation: disabled\n",
       "- usage: ResponseUsage(input_tokens=122, input_tokens_details=InputTokensDetails(cached_tokens=0), output_tokens=21, output_tokens_details=OutputTokensDetails(reasoning_tokens=0), total_tokens=143)\n",
       "- user: None\n",
       "- max_tool_calls: None\n",
       "- store: True\n",
       "- top_logprobs: 0\n",
       "\n",
       "</details>"
      ],
      "text/plain": [
       "Response(id='resp_6860b6ef4a1c819d971d384bdec29a49061f9bb8fcbf78f2', created_at=1751168751.0, error=None, incomplete_details=None, instructions='You are a helpful assistant. When using tools, be sure to pass all required parameters.', metadata={}, model='gpt-4.1-mini-2025-04-14', object='response', output=[ResponseOutputMessage(id='msg_6860b6ef9674819da9a5c85743167726061f9bb8fcbf78f2', content=[ResponseOutputText(annotations=[], text='The sum of 604542 and 6458932 is 7,063,474.', type='output_text', logprobs=[])], role='assistant', status='completed', type='message')], parallel_tool_calls=True, temperature=1.0, tool_choice='auto', tools=[FunctionTool(name='sums', parameters={'type': 'object', 'properties': {'a': {'type': 'integer', 'description': 'First thing to sum'}, 'b': {'type': 'integer', 'description': 'Second thing to sum'}}, 'required': ['a', 'b']}, strict=True, type='function', description='Adds a + b.\\n\\nReturns:\\n- type: integer')], top_p=1.0, background=False, max_output_tokens=4096, previous_response_id=None, prompt=None, reasoning=Reasoning(effort=None, generate_summary=None, summary=None), service_tier='default', status='completed', text=ResponseTextConfig(format=ResponseFormatText(type='text')), truncation='disabled', usage=In: 122; Out: 21; Total: 143, user=None, max_tool_calls=None, store=True, top_logprobs=0)"
      ]
     },
     "execution_count": null,
     "metadata": {},
     "output_type": "execute_result"
    }
   ],
   "source": [
    "chat()"
   ]
  },
  {
   "cell_type": "code",
   "execution_count": null,
   "id": "f4e0cb71",
   "metadata": {},
   "outputs": [
    {
     "data": {
      "text/markdown": [
       "The flowers in the image are purple.\n",
       "\n",
       "<details>\n",
       "\n",
       "- id: resp_6860b6f024b0819daf5baf996aafe227061f9bb8fcbf78f2\n",
       "- created_at: 1751168752.0\n",
       "- error: None\n",
       "- incomplete_details: None\n",
       "- instructions: You are a helpful assistant. When using tools, be sure to pass all required parameters.\n",
       "- metadata: {}\n",
       "- model: gpt-4.1-mini-2025-04-14\n",
       "- object: response\n",
       "- output: [ResponseOutputMessage(id='msg_6860b6f0aaf4819dbf1e775e7344c0ae061f9bb8fcbf78f2', content=[ResponseOutputText(annotations=[], text='The flowers in the image are purple.', type='output_text', logprobs=[])], role='assistant', status='completed', type='message')]\n",
       "- parallel_tool_calls: True\n",
       "- temperature: 1.0\n",
       "- tool_choice: auto\n",
       "- tools: [FunctionTool(name='sums', parameters={'type': 'object', 'properties': {'a': {'type': 'integer', 'description': 'First thing to sum'}, 'b': {'type': 'integer', 'description': 'Second thing to sum'}}, 'required': ['a', 'b']}, strict=True, type='function', description='Adds a + b.\\n\\nReturns:\\n- type: integer')]\n",
       "- top_p: 1.0\n",
       "- background: False\n",
       "- max_output_tokens: 4096\n",
       "- previous_response_id: None\n",
       "- prompt: None\n",
       "- reasoning: Reasoning(effort=None, generate_summary=None, summary=None)\n",
       "- service_tier: default\n",
       "- status: completed\n",
       "- text: ResponseTextConfig(format=ResponseFormatText(type='text'))\n",
       "- truncation: disabled\n",
       "- usage: ResponseUsage(input_tokens=275, input_tokens_details=InputTokensDetails(cached_tokens=0), output_tokens=10, output_tokens_details=OutputTokensDetails(reasoning_tokens=0), total_tokens=285)\n",
       "- user: None\n",
       "- max_tool_calls: None\n",
       "- store: True\n",
       "- top_logprobs: 0\n",
       "\n",
       "</details>"
      ],
      "text/plain": [
       "Response(id='resp_6860b6f024b0819daf5baf996aafe227061f9bb8fcbf78f2', created_at=1751168752.0, error=None, incomplete_details=None, instructions='You are a helpful assistant. When using tools, be sure to pass all required parameters.', metadata={}, model='gpt-4.1-mini-2025-04-14', object='response', output=[ResponseOutputMessage(id='msg_6860b6f0aaf4819dbf1e775e7344c0ae061f9bb8fcbf78f2', content=[ResponseOutputText(annotations=[], text='The flowers in the image are purple.', type='output_text', logprobs=[])], role='assistant', status='completed', type='message')], parallel_tool_calls=True, temperature=1.0, tool_choice='auto', tools=[FunctionTool(name='sums', parameters={'type': 'object', 'properties': {'a': {'type': 'integer', 'description': 'First thing to sum'}, 'b': {'type': 'integer', 'description': 'Second thing to sum'}}, 'required': ['a', 'b']}, strict=True, type='function', description='Adds a + b.\\n\\nReturns:\\n- type: integer')], top_p=1.0, background=False, max_output_tokens=4096, previous_response_id=None, prompt=None, reasoning=Reasoning(effort=None, generate_summary=None, summary=None), service_tier='default', status='completed', text=ResponseTextConfig(format=ResponseFormatText(type='text')), truncation='disabled', usage=In: 275; Out: 10; Total: 285, user=None, max_tool_calls=None, store=True, top_logprobs=0)"
      ]
     },
     "execution_count": null,
     "metadata": {},
     "output_type": "execute_result"
    }
   ],
   "source": [
    "q = \"In brief, what color flowers are in this image?\"\n",
    "chat([img, q])"
   ]
  },
  {
   "cell_type": "markdown",
   "id": "7dc18d6c",
   "metadata": {},
   "source": [
    "## Third Party Providers"
   ]
  },
  {
   "cell_type": "markdown",
   "id": "acf7626b",
   "metadata": {},
   "source": [
    "### Azure OpenAI Service"
   ]
  },
  {
   "cell_type": "code",
   "execution_count": null,
   "id": "80455a73",
   "metadata": {},
   "outputs": [],
   "source": [
    "#| export\n",
    "models_azure = 'o1-preview', 'o1-mini', 'gpt-4o', 'gpt-4o-mini', 'gpt-4-turbo', 'gpt-4', 'gpt-4-32k', 'gpt-3.5-turbo', 'gpt-3.5-turbo-instruct', 'o1', 'o3-mini', 'chatgpt-4o-latest', 'o1-pro', 'o3', 'o4-mini', 'gpt-4.1', 'gpt-4.1-mini', 'gpt-4.1-nano'"
   ]
  },
  {
   "cell_type": "markdown",
   "id": "4e056a52",
   "metadata": {},
   "source": [
    "Example Azure usage:\n",
    "\n",
    "```python\n",
    "azure_endpoint = AzureOpenAI(\n",
    "  azure_endpoint = os.getenv(\"AZURE_OPENAI_ENDPOINT\"), \n",
    "  api_key=os.getenv(\"AZURE_OPENAI_API_KEY\"),  \n",
    "  api_version=\"2024-08-01-preview\"\n",
    ")\n",
    "\n",
    "client = Client(models_azure[0], azure_endpoint)\n",
    "chat = Chat(cli=client)\n",
    "chat(\"Hi.\")\n",
    "```"
   ]
  },
  {
   "cell_type": "markdown",
   "id": "94ec4289",
   "metadata": {},
   "source": [
    "## Export -"
   ]
  },
  {
   "cell_type": "code",
   "execution_count": null,
   "id": "1e9ee5c1",
   "metadata": {},
   "outputs": [],
   "source": [
    "#|hide\n",
    "#|eval: false\n",
    "from nbdev.doclinks import nbdev_export\n",
    "nbdev_export()"
   ]
  },
  {
   "cell_type": "code",
   "execution_count": null,
   "id": "207f9715",
   "metadata": {},
   "outputs": [],
   "source": []
  }
 ],
 "metadata": {
  "kernelspec": {
   "display_name": "python3",
   "language": "python",
   "name": "python3"
  }
 },
 "nbformat": 4,
 "nbformat_minor": 5
}
