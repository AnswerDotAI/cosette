{
 "cells": [
  {
   "cell_type": "code",
   "execution_count": null,
   "id": "efe78920",
   "metadata": {},
   "outputs": [],
   "source": [
    "#|default_exp core"
   ]
  },
  {
   "cell_type": "markdown",
   "id": "3d773712-12fe-440e-891f-36f59666dfde",
   "metadata": {},
   "source": [
    "# Cosette's source"
   ]
  },
  {
   "cell_type": "markdown",
   "id": "ff6f6471-8061-4fdd-85a1-25fdc27c5cf3",
   "metadata": {},
   "source": [
    "## Setup"
   ]
  },
  {
   "cell_type": "code",
   "execution_count": null,
   "id": "ac590eb0",
   "metadata": {},
   "outputs": [],
   "source": [
    "#| export\n",
    "from fastcore import imghdr\n",
    "from fastcore.utils import *\n",
    "from fastcore.meta import delegates\n",
    "\n",
    "import inspect, typing, mimetypes, base64, json, ast, msglm\n",
    "from collections import abc\n",
    "from random import choices\n",
    "from string import ascii_letters,digits\n",
    "\n",
    "from msglm import mk_msg_openai as mk_msg, mk_msgs_openai as mk_msgs\n",
    "from toolslm.funccall import *\n",
    "\n",
    "from openai import types\n",
    "from openai import OpenAI,NOT_GIVEN,AzureOpenAI\n",
    "from openai.resources import chat\n",
    "from openai.types.responses.response import Response\n",
    "from openai.resources.responses.responses import Responses\n",
    "from openai.types.responses.response_usage import ResponseUsage\n",
    "\n",
    "from openai.types.responses import (\n",
    "    ResponseCompletedEvent, ResponseTextDeltaEvent, ResponseCreatedEvent, ResponseInProgressEvent,\n",
    "    ResponseOutputItemAddedEvent, ResponseContentPartAddedEvent, ResponseTextDoneEvent, \n",
    "    ResponseContentPartDoneEvent, ResponseOutputItemDoneEvent, ResponseCompletedEvent,\n",
    "    ResponseFunctionToolCall)"
   ]
  },
  {
   "cell_type": "code",
   "execution_count": null,
   "id": "f0709e48",
   "metadata": {},
   "outputs": [],
   "source": [
    "#| hide\n",
    "from nbdev import show_doc"
   ]
  },
  {
   "cell_type": "code",
   "execution_count": null,
   "id": "033c76fd",
   "metadata": {},
   "outputs": [],
   "source": [
    "from IPython.display import display,Image,Markdown\n",
    "from datetime import datetime\n",
    "from pprint import pprint"
   ]
  },
  {
   "cell_type": "code",
   "execution_count": null,
   "id": "6459c998",
   "metadata": {},
   "outputs": [],
   "source": [
    "#| export\n",
    "_all_ = ['mk_msg', 'mk_msgs', 'Response', 'Responses', 'ResponseUsage', 'ResponseCompletedEvent', 'ResponseTextDeltaEvent', 'ResponseCreatedEvent', 'ResponseInProgressEvent', 'ResponseOutputItemAddedEvent', 'ResponseContentPartAddedEvent', 'ResponseTextDoneEvent', 'ResponseContentPartDoneEvent', 'ResponseOutputItemDoneEvent', 'ResponseCompletedEvent', 'ResponseFunctionToolCall']"
   ]
  },
  {
   "cell_type": "code",
   "execution_count": null,
   "id": "f5fa6b92",
   "metadata": {},
   "outputs": [],
   "source": [
    "#| export\n",
    "empty = inspect.Parameter.empty"
   ]
  },
  {
   "cell_type": "code",
   "execution_count": null,
   "id": "ae1e9290",
   "metadata": {},
   "outputs": [
    {
     "name": "stdout",
     "output_type": "stream",
     "text": [
      "Available models as of 2025-08-10:\n",
      "\n",
      "babbage-002                   chatgpt-4o-latest             codex-mini-latest             \n",
      "computer-use-preview          computer-use-preview-2025-03- dall-e-2                      \n",
      "dall-e-3                      davinci-002                   ft:gpt-4o-2024-08-06:answerai \n",
      "ft:gpt-4o-2024-08-06:answerai ft:gpt-4o-2024-08-06:answerai ft:gpt-4o-mini-2024-07-18:ans \n",
      "ft:gpt-4o-mini-2024-07-18:ans gpt-3.5-turbo                 gpt-3.5-turbo-0125            \n",
      "gpt-3.5-turbo-1106            gpt-3.5-turbo-16k             gpt-3.5-turbo-instruct        \n",
      "gpt-3.5-turbo-instruct-0914   gpt-4                         gpt-4-0125-preview            \n",
      "gpt-4-1106-preview            gpt-4-turbo                   gpt-4-turbo-2024-04-09        \n",
      "gpt-4-turbo-preview           gpt-4.1                       gpt-4.1-2025-04-14            \n",
      "gpt-4.1-mini                  gpt-4.1-mini-2025-04-14       gpt-4.1-nano                  \n",
      "gpt-4.1-nano-2025-04-14       gpt-4o                        gpt-4o-2024-05-13             \n",
      "gpt-4o-2024-08-06             gpt-4o-2024-11-20             gpt-4o-audio-preview          \n",
      "gpt-4o-audio-preview-2024-10- gpt-4o-audio-preview-2024-12- gpt-4o-audio-preview-2025-06- \n",
      "gpt-4o-mini                   gpt-4o-mini-2024-07-18        gpt-4o-mini-audio-preview     \n",
      "gpt-4o-mini-audio-preview-202 gpt-4o-mini-realtime-preview  gpt-4o-mini-realtime-preview- \n",
      "gpt-4o-mini-search-preview    gpt-4o-mini-search-preview-20 gpt-4o-mini-transcribe        \n",
      "gpt-4o-mini-tts               gpt-4o-realtime-preview       gpt-4o-realtime-preview-2024- \n",
      "gpt-4o-realtime-preview-2024- gpt-4o-realtime-preview-2025- gpt-4o-search-preview         \n",
      "gpt-4o-search-preview-2025-03 gpt-4o-transcribe             gpt-5                         \n",
      "gpt-5-2025-08-07              gpt-5-chat-latest             gpt-5-mini                    \n",
      "gpt-5-mini-2025-08-07         gpt-5-nano                    gpt-5-nano-2025-08-07         \n",
      "gpt-image-1                   o1                            o1-2024-12-17                 \n",
      "o1-mini                       o1-mini-2024-09-12            o1-pro                        \n",
      "o1-pro-2025-03-19             o3                            o3-2025-04-16                 \n",
      "o3-deep-research              o3-deep-research-2025-06-26   o3-mini                       \n",
      "o3-mini-2025-01-31            o3-pro                        o3-pro-2025-06-10             \n",
      "o4-mini                       o4-mini-2025-04-16            o4-mini-deep-research         \n",
      "o4-mini-deep-research-2025-06 omni-moderation-2024-09-26    omni-moderation-latest        \n",
      "text-embedding-3-large        text-embedding-3-small        text-embedding-ada-002        \n",
      "tts-1                         tts-1-1106                    tts-1-hd                      \n",
      "tts-1-hd-1106                 whisper-1                     \n"
     ]
    }
   ],
   "source": [
    "def print_columns(items, cols=3, width=30):\n",
    "    for i in range(0, len(items), cols):\n",
    "        row = items[i:i+cols]\n",
    "        print(''.join(item[:width-1].ljust(width) for item in row))\n",
    "\n",
    "client = OpenAI()\n",
    "model_list = client.models.list()\n",
    "print(f\"Available models as of {datetime.now().strftime('%Y-%m-%d')}:\\n\")\n",
    "print_columns(sorted([m.id for m in model_list]))"
   ]
  },
  {
   "cell_type": "code",
   "execution_count": null,
   "id": "0fff8869",
   "metadata": {},
   "outputs": [],
   "source": [
    "#| exports\n",
    "models = 'gpt-5', 'gpt-5-mini', 'gpt-5-nano', 'o1-preview', 'o1-mini', 'gpt-4o', 'gpt-4o-mini', 'gpt-4-turbo', 'gpt-4', 'gpt-4-32k', 'gpt-3.5-turbo', 'gpt-3.5-turbo-instruct', 'o1', 'o3-mini', 'chatgpt-4o-latest', 'o1-pro', 'o3', 'o4-mini', 'gpt-4.1', 'gpt-4.1-mini', 'gpt-4.1-nano'"
   ]
  },
  {
   "cell_type": "markdown",
   "id": "92dd0e86",
   "metadata": {},
   "source": [
    "`o1` should support images while `o1-mini`, `o3-mini` do not support images."
   ]
  },
  {
   "cell_type": "code",
   "execution_count": null,
   "id": "87f69208",
   "metadata": {},
   "outputs": [],
   "source": [
    "#| exports\n",
    "text_only_models = 'o1-preview', 'o1-mini', 'o3-mini'"
   ]
  },
  {
   "cell_type": "code",
   "execution_count": null,
   "id": "36d965d5",
   "metadata": {},
   "outputs": [],
   "source": [
    "#| exports\n",
    "has_streaming_models = set(models) - set(('o1-mini', 'o3-mini'))\n",
    "has_sp_models = set(models) - set(('o1-mini', 'o3-mini'))\n",
    "has_temp_models = set(models) - set(('o1', 'o1-mini', 'o3-mini'))"
   ]
  },
  {
   "cell_type": "code",
   "execution_count": null,
   "id": "dd26d5ed",
   "metadata": {},
   "outputs": [],
   "source": [
    "#| exports\n",
    "def can_stream(m): return m in has_streaming_models\n",
    "def can_set_sp(m): return m in has_sp_models\n",
    "def can_set_temp(m): return m in has_temp_models"
   ]
  },
  {
   "cell_type": "code",
   "execution_count": null,
   "id": "5c4505c7",
   "metadata": {},
   "outputs": [],
   "source": [
    "assert can_stream(\"gpt-4o\")\n",
    "assert not can_stream(\"o1-mini\")"
   ]
  },
  {
   "cell_type": "code",
   "execution_count": null,
   "id": "dacf2bd2",
   "metadata": {},
   "outputs": [],
   "source": [
    "model = 'gpt-5-mini'"
   ]
  },
  {
   "cell_type": "markdown",
   "id": "863d4d81",
   "metadata": {},
   "source": [
    "## OpenAI SDK"
   ]
  },
  {
   "cell_type": "code",
   "execution_count": null,
   "id": "70b53a51",
   "metadata": {},
   "outputs": [],
   "source": [
    "cli = OpenAI().responses"
   ]
  },
  {
   "cell_type": "code",
   "execution_count": null,
   "id": "6ec40731",
   "metadata": {},
   "outputs": [
    {
     "name": "stdout",
     "output_type": "stream",
     "text": [
      "Response(id='resp_6897d45698e48195904fa8232bac129a0b2ecc78a6b61be8', created_at=1754780758.0, error=None, incomplete_details=None, instructions=None, metadata={}, model='gpt-5-mini-2025-08-07', object='response', output=[ResponseReasoningItem(id='rs_6897d457200c8195859175bf10d88f380b2ecc78a6b61be8', summary=[], type='reasoning', content=None, encrypted_content=None, status=None), ResponseOutputMessage(id='msg_6897d4573d948195a7cb1819a879cbb90b2ecc78a6b61be8', content=[ResponseOutputText(annotations=[], text='Nice to meet you, Jeremy. How can I help today?', type='output_text', logprobs=[])], role='assistant', status='completed', type='message')], parallel_tool_calls=True, temperature=1.0, tool_choice='auto', tools=[], top_p=1.0, background=False, max_output_tokens=100, max_tool_calls=None, previous_response_id=None, prompt=None, prompt_cache_key=None, reasoning=Reasoning(effort='minimal', generate_summary=None, summary=None), safety_identifier=None, service_tier='default', status='completed', text=ResponseTextConfig(format=ResponseFormatText(type='text'), verbosity='low'), top_logprobs=0, truncation='disabled', usage=In: 8; Out: 19; Total: 27, user=None, store=True)\n"
     ]
    }
   ],
   "source": [
    "m = {'role': 'user', 'content': \"I'm Jeremy\"}\n",
    "r = cli.create(\n",
    "    input=[m], model=model, max_output_tokens=100,\n",
    "    text={ \"verbosity\": \"low\" },\n",
    "    reasoning={ \"effort\": \"minimal\" }\n",
    ")\n",
    "print(r)"
   ]
  },
  {
   "cell_type": "markdown",
   "id": "d6359e1a",
   "metadata": {},
   "source": [
    "### Formatting output"
   ]
  },
  {
   "cell_type": "code",
   "execution_count": null,
   "id": "52a7b938",
   "metadata": {},
   "outputs": [],
   "source": [
    "#| exports\n",
    "@patch\n",
    "def _repr_markdown_(self:Response):\n",
    "    det = '\\n- '.join(f'{k}: {v}' for k,v in dict(self).items())\n",
    "    res = self.output_text\n",
    "    if not res: return f\"- {det}\"\n",
    "    return f\"\"\"{res}\n",
    "\n",
    "<details>\n",
    "\n",
    "- {det}\n",
    "\n",
    "</details>\"\"\""
   ]
  },
  {
   "cell_type": "code",
   "execution_count": null,
   "id": "b2d25132",
   "metadata": {},
   "outputs": [
    {
     "data": {
      "text/markdown": [
       "Nice to meet you, Jeremy. How can I help today?\n",
       "\n",
       "<details>\n",
       "\n",
       "- id: resp_6897d45698e48195904fa8232bac129a0b2ecc78a6b61be8\n",
       "- created_at: 1754780758.0\n",
       "- error: None\n",
       "- incomplete_details: None\n",
       "- instructions: None\n",
       "- metadata: {}\n",
       "- model: gpt-5-mini-2025-08-07\n",
       "- object: response\n",
       "- output: [ResponseReasoningItem(id='rs_6897d457200c8195859175bf10d88f380b2ecc78a6b61be8', summary=[], type='reasoning', content=None, encrypted_content=None, status=None), ResponseOutputMessage(id='msg_6897d4573d948195a7cb1819a879cbb90b2ecc78a6b61be8', content=[ResponseOutputText(annotations=[], text='Nice to meet you, Jeremy. How can I help today?', type='output_text', logprobs=[])], role='assistant', status='completed', type='message')]\n",
       "- parallel_tool_calls: True\n",
       "- temperature: 1.0\n",
       "- tool_choice: auto\n",
       "- tools: []\n",
       "- top_p: 1.0\n",
       "- background: False\n",
       "- max_output_tokens: 100\n",
       "- max_tool_calls: None\n",
       "- previous_response_id: None\n",
       "- prompt: None\n",
       "- prompt_cache_key: None\n",
       "- reasoning: Reasoning(effort='minimal', generate_summary=None, summary=None)\n",
       "- safety_identifier: None\n",
       "- service_tier: default\n",
       "- status: completed\n",
       "- text: ResponseTextConfig(format=ResponseFormatText(type='text'), verbosity='low')\n",
       "- top_logprobs: 0\n",
       "- truncation: disabled\n",
       "- usage: ResponseUsage(input_tokens=8, input_tokens_details=InputTokensDetails(cached_tokens=0), output_tokens=19, output_tokens_details=OutputTokensDetails(reasoning_tokens=0), total_tokens=27)\n",
       "- user: None\n",
       "- store: True\n",
       "\n",
       "</details>"
      ],
      "text/plain": [
       "Response(id='resp_6897d45698e48195904fa8232bac129a0b2ecc78a6b61be8', created_at=1754780758.0, error=None, incomplete_details=None, instructions=None, metadata={}, model='gpt-5-mini-2025-08-07', object='response', output=[ResponseReasoningItem(id='rs_6897d457200c8195859175bf10d88f380b2ecc78a6b61be8', summary=[], type='reasoning', content=None, encrypted_content=None, status=None), ResponseOutputMessage(id='msg_6897d4573d948195a7cb1819a879cbb90b2ecc78a6b61be8', content=[ResponseOutputText(annotations=[], text='Nice to meet you, Jeremy. How can I help today?', type='output_text', logprobs=[])], role='assistant', status='completed', type='message')], parallel_tool_calls=True, temperature=1.0, tool_choice='auto', tools=[], top_p=1.0, background=False, max_output_tokens=100, max_tool_calls=None, previous_response_id=None, prompt=None, prompt_cache_key=None, reasoning=Reasoning(effort='minimal', generate_summary=None, summary=None), safety_identifier=None, service_tier='default', status='completed', text=ResponseTextConfig(format=ResponseFormatText(type='text'), verbosity='low'), top_logprobs=0, truncation='disabled', usage=In: 8; Out: 19; Total: 27, user=None, store=True)"
      ]
     },
     "execution_count": null,
     "metadata": {},
     "output_type": "execute_result"
    }
   ],
   "source": [
    "r"
   ]
  },
  {
   "cell_type": "code",
   "execution_count": null,
   "id": "10c7466f",
   "metadata": {},
   "outputs": [
    {
     "data": {
      "text/plain": [
       "In: 8; Out: 19; Total: 27"
      ]
     },
     "execution_count": null,
     "metadata": {},
     "output_type": "execute_result"
    }
   ],
   "source": [
    "r.usage"
   ]
  },
  {
   "cell_type": "code",
   "execution_count": null,
   "id": "b1a24f68",
   "metadata": {},
   "outputs": [],
   "source": [
    "#| exports\n",
    "def usage(inp=0, # Number of prompt tokens\n",
    "          out=0  # Number of completion tokens\n",
    "         ):\n",
    "    \"Slightly more concise version of `ResponseUsage`.\"\n",
    "    return ResponseUsage(input_tokens=inp, output_tokens=out, total_tokens=inp+out, input_tokens_details={'cached_tokens':0}, output_tokens_details={'cached_tokens':0, 'reasoning_tokens':0})"
   ]
  },
  {
   "cell_type": "code",
   "execution_count": null,
   "id": "a7e52afd",
   "metadata": {},
   "outputs": [
    {
     "data": {
      "text/plain": [
       "In: 5; Out: 0; Total: 5"
      ]
     },
     "execution_count": null,
     "metadata": {},
     "output_type": "execute_result"
    }
   ],
   "source": [
    "usage(5)"
   ]
  },
  {
   "cell_type": "code",
   "execution_count": null,
   "id": "27468180",
   "metadata": {},
   "outputs": [],
   "source": [
    "#| exports\n",
    "@patch\n",
    "def __repr__(self:ResponseUsage): return f'In: {self.input_tokens}; Out: {self.output_tokens}; Total: {self.total_tokens}'"
   ]
  },
  {
   "cell_type": "code",
   "execution_count": null,
   "id": "765ca615",
   "metadata": {},
   "outputs": [
    {
     "data": {
      "text/plain": [
       "In: 8; Out: 19; Total: 27"
      ]
     },
     "execution_count": null,
     "metadata": {},
     "output_type": "execute_result"
    }
   ],
   "source": [
    "r.usage"
   ]
  },
  {
   "cell_type": "code",
   "execution_count": null,
   "id": "bec303ba",
   "metadata": {},
   "outputs": [],
   "source": [
    "#| exports\n",
    "@patch\n",
    "def __add__(self:ResponseUsage, b):\n",
    "    \"Add together each of `input_tokens` and `output_tokens`\"\n",
    "    return usage(self.input_tokens+b.input_tokens, self.output_tokens+b.output_tokens)"
   ]
  },
  {
   "cell_type": "code",
   "execution_count": null,
   "id": "bffb0b2e",
   "metadata": {},
   "outputs": [
    {
     "data": {
      "text/plain": [
       "In: 16; Out: 38; Total: 54"
      ]
     },
     "execution_count": null,
     "metadata": {},
     "output_type": "execute_result"
    }
   ],
   "source": [
    "r.usage+r.usage"
   ]
  },
  {
   "cell_type": "code",
   "execution_count": null,
   "id": "307caa69",
   "metadata": {},
   "outputs": [],
   "source": [
    "#| export\n",
    "def wrap_latex(text):\n",
    "    \"Replace OpenAI LaTeX codes with markdown-compatible ones\"\n",
    "    text = re.sub(r\"\\\\\\((.*?)\\\\\\)\", lambda o: f\"${o.group(1)}$\", text)\n",
    "    res = re.sub(r\"\\\\\\[(.*?)\\\\\\]\", lambda o: f\"$${o.group(1)}$$\", text, flags=re.DOTALL)\n",
    "    return res"
   ]
  },
  {
   "cell_type": "markdown",
   "id": "edd0a43f",
   "metadata": {},
   "source": [
    "### Creating messages"
   ]
  },
  {
   "cell_type": "markdown",
   "id": "13954d58",
   "metadata": {},
   "source": [
    "Creating correctly formatted `dict`s from scratch every time isn't very handy, so we'll import a couple of helper functions from the `msglm` library.\n",
    "\n",
    "Let's use `mk_msg` to recreate our msg `{'role': 'user', 'content': \"I'm Jeremy\"}` from earlier."
   ]
  },
  {
   "cell_type": "code",
   "execution_count": null,
   "id": "1795ed56",
   "metadata": {},
   "outputs": [],
   "source": [
    "rkw = dict(\n",
    "    text={ \"verbosity\": \"low\" },\n",
    "    reasoning={ \"effort\": \"minimal\" }\n",
    ")"
   ]
  },
  {
   "cell_type": "code",
   "execution_count": null,
   "id": "e79f7705",
   "metadata": {},
   "outputs": [
    {
     "data": {
      "text/markdown": [
       "Nice to meet you, Jeremy. How can I help you today?\n",
       "\n",
       "<details>\n",
       "\n",
       "- id: resp_6897d45863f0819d8a8255d9bbe192530be02598260d4824\n",
       "- created_at: 1754780760.0\n",
       "- error: None\n",
       "- incomplete_details: None\n",
       "- instructions: None\n",
       "- metadata: {}\n",
       "- model: gpt-5-mini-2025-08-07\n",
       "- object: response\n",
       "- output: [ResponseReasoningItem(id='rs_6897d458bfb4819d9756fc650dcde8970be02598260d4824', summary=[], type='reasoning', content=None, encrypted_content=None, status=None), ResponseOutputMessage(id='msg_6897d458e28c819d9f16226aa7dc4f310be02598260d4824', content=[ResponseOutputText(annotations=[], text='Nice to meet you, Jeremy. How can I help you today?', type='output_text', logprobs=[])], role='assistant', status='completed', type='message')]\n",
       "- parallel_tool_calls: True\n",
       "- temperature: 1.0\n",
       "- tool_choice: auto\n",
       "- tools: []\n",
       "- top_p: 1.0\n",
       "- background: False\n",
       "- max_output_tokens: 400\n",
       "- max_tool_calls: None\n",
       "- previous_response_id: None\n",
       "- prompt: None\n",
       "- prompt_cache_key: None\n",
       "- reasoning: Reasoning(effort='minimal', generate_summary=None, summary=None)\n",
       "- safety_identifier: None\n",
       "- service_tier: default\n",
       "- status: completed\n",
       "- text: ResponseTextConfig(format=ResponseFormatText(type='text'), verbosity='low')\n",
       "- top_logprobs: 0\n",
       "- truncation: disabled\n",
       "- usage: ResponseUsage(input_tokens=8, input_tokens_details=InputTokensDetails(cached_tokens=0), output_tokens=20, output_tokens_details=OutputTokensDetails(reasoning_tokens=0), total_tokens=28)\n",
       "- user: None\n",
       "- store: True\n",
       "\n",
       "</details>"
      ],
      "text/plain": [
       "Response(id='resp_6897d45863f0819d8a8255d9bbe192530be02598260d4824', created_at=1754780760.0, error=None, incomplete_details=None, instructions=None, metadata={}, model='gpt-5-mini-2025-08-07', object='response', output=[ResponseReasoningItem(id='rs_6897d458bfb4819d9756fc650dcde8970be02598260d4824', summary=[], type='reasoning', content=None, encrypted_content=None, status=None), ResponseOutputMessage(id='msg_6897d458e28c819d9f16226aa7dc4f310be02598260d4824', content=[ResponseOutputText(annotations=[], text='Nice to meet you, Jeremy. How can I help you today?', type='output_text', logprobs=[])], role='assistant', status='completed', type='message')], parallel_tool_calls=True, temperature=1.0, tool_choice='auto', tools=[], top_p=1.0, background=False, max_output_tokens=400, max_tool_calls=None, previous_response_id=None, prompt=None, prompt_cache_key=None, reasoning=Reasoning(effort='minimal', generate_summary=None, summary=None), safety_identifier=None, service_tier='default', status='completed', text=ResponseTextConfig(format=ResponseFormatText(type='text'), verbosity='low'), top_logprobs=0, truncation='disabled', usage=In: 8; Out: 20; Total: 28, user=None, store=True)"
      ]
     },
     "execution_count": null,
     "metadata": {},
     "output_type": "execute_result"
    }
   ],
   "source": [
    "prompt = \"I'm Jeremy\"\n",
    "m = mk_msg(prompt)\n",
    "r = cli.create(input=[m], model=model, max_output_tokens=400, **rkw)\n",
    "r"
   ]
  },
  {
   "cell_type": "code",
   "execution_count": null,
   "id": "b597dcdb",
   "metadata": {},
   "outputs": [
    {
     "name": "stdout",
     "output_type": "stream",
     "text": [
      "Response(id='resp_6897d45863f0819d8a8255d9bbe192530be02598260d4824', created_at=1754780760.0, error=None, incomplete_details=None, instructions=None, metadata={}, model='gpt-5-mini-2025-08-07', object='response', output=[ResponseReasoningItem(id='rs_6897d458bfb4819d9756fc650dcde8970be02598260d4824', summary=[], type='reasoning', content=None, encrypted_content=None, status=None), ResponseOutputMessage(id='msg_6897d458e28c819d9f16226aa7dc4f310be02598260d4824', content=[ResponseOutputText(annotations=[], text='Nice to meet you, Jeremy. How can I help you today?', type='output_text', logprobs=[])], role='assistant', status='completed', type='message')], parallel_tool_calls=True, temperature=1.0, tool_choice='auto', tools=[], top_p=1.0, background=False, max_output_tokens=400, max_tool_calls=None, previous_response_id=None, prompt=None, prompt_cache_key=None, reasoning=Reasoning(effort='minimal', generate_summary=None, summary=None), safety_identifier=None, service_tier='default', status='completed', text=ResponseTextConfig(format=ResponseFormatText(type='text'), verbosity='low'), top_logprobs=0, truncation='disabled', usage=In: 8; Out: 20; Total: 28, user=None, store=True)\n"
     ]
    }
   ],
   "source": [
    "print(r)"
   ]
  },
  {
   "cell_type": "markdown",
   "id": "6c7b389b",
   "metadata": {},
   "source": [
    "We can pass more than just text messages to OpenAI. As we'll see later we can also pass images, SDK objects, etc. To handle these different data types we need to pass the type along with our content to OpenAI. \n",
    "\n",
    "`mk_msg` infers the type automatically and creates the appropriate data structure. \n",
    "\n",
    "LLMs, don't actually have state, but instead dialogs are created by passing back all previous prompts and responses every time. With OpenAI, they always alternate *user* and *assistant*. We'll use `mk_msgs` from `msglm` to make it easier to build up these dialog lists."
   ]
  },
  {
   "cell_type": "code",
   "execution_count": null,
   "id": "7eef3715",
   "metadata": {},
   "outputs": [
    {
     "data": {
      "text/plain": [
       "[{'role': 'user', 'content': \"I'm Jeremy\"},\n",
       " ResponseReasoningItem(id='rs_6897d458bfb4819d9756fc650dcde8970be02598260d4824', summary=[], type='reasoning', content=None, encrypted_content=None, status=None),\n",
       " ResponseOutputMessage(id='msg_6897d458e28c819d9f16226aa7dc4f310be02598260d4824', content=[ResponseOutputText(annotations=[], text='Nice to meet you, Jeremy. How can I help you today?', type='output_text', logprobs=[])], role='assistant', status='completed', type='message'),\n",
       " {'role': 'user', 'content': 'I forgot my name. Can you remind me please?'}]"
      ]
     },
     "execution_count": null,
     "metadata": {},
     "output_type": "execute_result"
    }
   ],
   "source": [
    "msgs = mk_msgs([prompt, r, \"I forgot my name. Can you remind me please?\"]) \n",
    "msgs"
   ]
  },
  {
   "cell_type": "code",
   "execution_count": null,
   "id": "6c464f8b",
   "metadata": {},
   "outputs": [
    {
     "data": {
      "text/markdown": [
       "You told me your name is Jeremy.\n",
       "\n",
       "<details>\n",
       "\n",
       "- id: resp_6897d45a1b1c819d95ce1df0d393e9a80be02598260d4824\n",
       "- created_at: 1754780762.0\n",
       "- error: None\n",
       "- incomplete_details: None\n",
       "- instructions: None\n",
       "- metadata: {}\n",
       "- model: gpt-5-mini-2025-08-07\n",
       "- object: response\n",
       "- output: [ResponseReasoningItem(id='rs_6897d45a6144819d9270ff17363bda5a0be02598260d4824', summary=[], type='reasoning', content=None, encrypted_content=None, status=None), ResponseOutputMessage(id='msg_6897d45a79f8819d8cd32cf1da6b07aa0be02598260d4824', content=[ResponseOutputText(annotations=[], text='You told me your name is Jeremy.', type='output_text', logprobs=[])], role='assistant', status='completed', type='message')]\n",
       "- parallel_tool_calls: True\n",
       "- temperature: 1.0\n",
       "- tool_choice: auto\n",
       "- tools: []\n",
       "- top_p: 1.0\n",
       "- background: False\n",
       "- max_output_tokens: 400\n",
       "- max_tool_calls: None\n",
       "- previous_response_id: None\n",
       "- prompt: None\n",
       "- prompt_cache_key: None\n",
       "- reasoning: Reasoning(effort='minimal', generate_summary=None, summary=None)\n",
       "- safety_identifier: None\n",
       "- service_tier: default\n",
       "- status: completed\n",
       "- text: ResponseTextConfig(format=ResponseFormatText(type='text'), verbosity='low')\n",
       "- top_logprobs: 0\n",
       "- truncation: disabled\n",
       "- usage: ResponseUsage(input_tokens=43, input_tokens_details=InputTokensDetails(cached_tokens=0), output_tokens=14, output_tokens_details=OutputTokensDetails(reasoning_tokens=0), total_tokens=57)\n",
       "- user: None\n",
       "- store: True\n",
       "\n",
       "</details>"
      ],
      "text/plain": [
       "Response(id='resp_6897d45a1b1c819d95ce1df0d393e9a80be02598260d4824', created_at=1754780762.0, error=None, incomplete_details=None, instructions=None, metadata={}, model='gpt-5-mini-2025-08-07', object='response', output=[ResponseReasoningItem(id='rs_6897d45a6144819d9270ff17363bda5a0be02598260d4824', summary=[], type='reasoning', content=None, encrypted_content=None, status=None), ResponseOutputMessage(id='msg_6897d45a79f8819d8cd32cf1da6b07aa0be02598260d4824', content=[ResponseOutputText(annotations=[], text='You told me your name is Jeremy.', type='output_text', logprobs=[])], role='assistant', status='completed', type='message')], parallel_tool_calls=True, temperature=1.0, tool_choice='auto', tools=[], top_p=1.0, background=False, max_output_tokens=400, max_tool_calls=None, previous_response_id=None, prompt=None, prompt_cache_key=None, reasoning=Reasoning(effort='minimal', generate_summary=None, summary=None), safety_identifier=None, service_tier='default', status='completed', text=ResponseTextConfig(format=ResponseFormatText(type='text'), verbosity='low'), top_logprobs=0, truncation='disabled', usage=In: 43; Out: 14; Total: 57, user=None, store=True)"
      ]
     },
     "execution_count": null,
     "metadata": {},
     "output_type": "execute_result"
    }
   ],
   "source": [
    "cli.create(input=msgs, model=model, max_output_tokens=400, **rkw)"
   ]
  },
  {
   "cell_type": "markdown",
   "id": "281f8a4d",
   "metadata": {},
   "source": [
    "## Client"
   ]
  },
  {
   "cell_type": "markdown",
   "id": "987654fd",
   "metadata": {},
   "source": [
    "### Basics"
   ]
  },
  {
   "cell_type": "code",
   "execution_count": null,
   "id": "3b873aaf",
   "metadata": {},
   "outputs": [],
   "source": [
    "#| exports\n",
    "class Client:\n",
    "    def __init__(self, model, cli=None):\n",
    "        \"Basic LLM messages client.\"\n",
    "        self.model,self.use = model,usage(0,0)\n",
    "        self.text_only = model in text_only_models\n",
    "        self.c = (cli or OpenAI()).responses"
   ]
  },
  {
   "cell_type": "code",
   "execution_count": null,
   "id": "d01e9ccf",
   "metadata": {},
   "outputs": [
    {
     "data": {
      "text/plain": [
       "In: 0; Out: 0; Total: 0"
      ]
     },
     "execution_count": null,
     "metadata": {},
     "output_type": "execute_result"
    }
   ],
   "source": [
    "c = Client(model)\n",
    "c.use"
   ]
  },
  {
   "cell_type": "code",
   "execution_count": null,
   "id": "be54737f",
   "metadata": {},
   "outputs": [],
   "source": [
    "#| exports\n",
    "@patch\n",
    "def _r(self:Client, r):\n",
    "    \"Store the result of the message and accrue total usage.\"\n",
    "    self.result = r\n",
    "    if getattr(r,'usage',None): self.use += r.usage\n",
    "    return r"
   ]
  },
  {
   "cell_type": "code",
   "execution_count": null,
   "id": "0181f7b3",
   "metadata": {},
   "outputs": [
    {
     "data": {
      "text/plain": [
       "In: 8; Out: 20; Total: 28"
      ]
     },
     "execution_count": null,
     "metadata": {},
     "output_type": "execute_result"
    }
   ],
   "source": [
    "c._r(r)\n",
    "c.use"
   ]
  },
  {
   "cell_type": "code",
   "execution_count": null,
   "id": "a3c8c81c",
   "metadata": {},
   "outputs": [],
   "source": [
    "#| export\n",
    "def mk_openai_func(f): \n",
    "    if isinstance(f, dict): return f\n",
    "    sc = get_schema(f, 'parameters')\n",
    "    if 'parameters' in sc: sc['parameters'].pop('title', None)\n",
    "    return dict(type='function', **sc)"
   ]
  },
  {
   "cell_type": "code",
   "execution_count": null,
   "id": "a3b24d8c",
   "metadata": {},
   "outputs": [],
   "source": [
    "#| export\n",
    "def mk_tool_choice(f):\n",
    "    if not f: return f\n",
    "    if isinstance(f,dict) or f=='required': return f\n",
    "    return dict(type='function', function={'name':f})"
   ]
  },
  {
   "cell_type": "code",
   "execution_count": null,
   "id": "8400a862",
   "metadata": {},
   "outputs": [],
   "source": [
    "#| export\n",
    "@save_iter\n",
    "def get_stream(o, r, cli, cb=None):\n",
    "    if not hasattr(o, 'events'): o.events = []\n",
    "    for x in r:\n",
    "        o.events.append(x)\n",
    "        if isinstance(x, ResponseTextDeltaEvent): yield x.delta\n",
    "        elif isinstance(x, ResponseCompletedEvent):\n",
    "            o.value = x.response\n",
    "            cli.use += x.response.usage\n",
    "    if cb: cb(o.value)"
   ]
  },
  {
   "cell_type": "code",
   "execution_count": null,
   "id": "5fb96c43",
   "metadata": {},
   "outputs": [],
   "source": [
    "#| exports\n",
    "@patch\n",
    "@delegates(Responses.create)\n",
    "def __call__(self:Client,\n",
    "             msgs:list, # List of messages in the dialog\n",
    "             sp:str='', # System prompt\n",
    "             maxtok=4096, # Maximum tokens\n",
    "             stream:bool=False, # Stream response?\n",
    "             tools:Optional[list]=None, # List of tools to make available\n",
    "             tool_choice:Optional[str]=None, # Forced tool choice\n",
    "             cb:callable=None, # Callback after completion\n",
    "             **kwargs):\n",
    "    \"Make a call to LLM.\"\n",
    "    if tools: assert not self.text_only, \"Tool use is not supported by the current model type.\"\n",
    "    if any(c['type'] == 'image_url' for msg in msgs if isinstance(msg, dict) and isinstance(msg.get('content'), list) for c in msg['content']): assert not self.text_only, \"Images are not supported by the current model type.\"\n",
    "    tools = [mk_openai_func(o) for o in listify(tools)]\n",
    "    r = self.c.create(\n",
    "        model=self.model, input=msgs, max_output_tokens=maxtok, stream=stream, instructions=sp,\n",
    "        tools=tools, tool_choice=mk_tool_choice(tool_choice), **kwargs)\n",
    "    if stream: return get_stream(r, self, cb=cb)\n",
    "    else:\n",
    "        res = self._r(r)\n",
    "        if cb: cb(res)\n",
    "        return res"
   ]
  },
  {
   "cell_type": "code",
   "execution_count": null,
   "id": "ddd0d3b1",
   "metadata": {},
   "outputs": [],
   "source": [
    "msgs = 'Hi'"
   ]
  },
  {
   "cell_type": "code",
   "execution_count": null,
   "id": "338a38e5",
   "metadata": {},
   "outputs": [
    {
     "data": {
      "text/markdown": [
       "Hi — how can I help you today? \n",
       "\n",
       "You can ask me to:\n",
       "- Answer a question or explain something\n",
       "- Draft or edit text (email, resume, essay)\n",
       "- Write or debug code\n",
       "- Summarize or translate\n",
       "- Create plans, lists, or ideas\n",
       "\n",
       "Tell me what you need or give a bit of context and I’ll get started.\n",
       "\n",
       "<details>\n",
       "\n",
       "- id: resp_6897d45b513881a28479c4c92e434b720191c55f81955c91\n",
       "- created_at: 1754780763.0\n",
       "- error: None\n",
       "- incomplete_details: None\n",
       "- instructions: None\n",
       "- metadata: {}\n",
       "- model: gpt-5-mini-2025-08-07\n",
       "- object: response\n",
       "- output: [ResponseReasoningItem(id='rs_6897d45baa1481a2a0a0d15d1f9c7f460191c55f81955c91', summary=[], type='reasoning', content=None, encrypted_content=None, status=None), ResponseOutputMessage(id='msg_6897d45c9f6c81a2bd7c145c427103f60191c55f81955c91', content=[ResponseOutputText(annotations=[], text='Hi — how can I help you today? \\n\\nYou can ask me to:\\n- Answer a question or explain something\\n- Draft or edit text (email, resume, essay)\\n- Write or debug code\\n- Summarize or translate\\n- Create plans, lists, or ideas\\n\\nTell me what you need or give a bit of context and I’ll get started.', type='output_text', logprobs=[])], role='assistant', status='completed', type='message')]\n",
       "- parallel_tool_calls: True\n",
       "- temperature: 1.0\n",
       "- tool_choice: auto\n",
       "- tools: []\n",
       "- top_p: 1.0\n",
       "- background: False\n",
       "- max_output_tokens: 4096\n",
       "- max_tool_calls: None\n",
       "- previous_response_id: None\n",
       "- prompt: None\n",
       "- prompt_cache_key: None\n",
       "- reasoning: Reasoning(effort='medium', generate_summary=None, summary=None)\n",
       "- safety_identifier: None\n",
       "- service_tier: default\n",
       "- status: completed\n",
       "- text: ResponseTextConfig(format=ResponseFormatText(type='text'), verbosity='medium')\n",
       "- top_logprobs: 0\n",
       "- truncation: disabled\n",
       "- usage: ResponseUsage(input_tokens=7, input_tokens_details=InputTokensDetails(cached_tokens=0), output_tokens=145, output_tokens_details=OutputTokensDetails(reasoning_tokens=64), total_tokens=152)\n",
       "- user: None\n",
       "- store: True\n",
       "\n",
       "</details>"
      ],
      "text/plain": [
       "Response(id='resp_6897d45b513881a28479c4c92e434b720191c55f81955c91', created_at=1754780763.0, error=None, incomplete_details=None, instructions=None, metadata={}, model='gpt-5-mini-2025-08-07', object='response', output=[ResponseReasoningItem(id='rs_6897d45baa1481a2a0a0d15d1f9c7f460191c55f81955c91', summary=[], type='reasoning', content=None, encrypted_content=None, status=None), ResponseOutputMessage(id='msg_6897d45c9f6c81a2bd7c145c427103f60191c55f81955c91', content=[ResponseOutputText(annotations=[], text='Hi — how can I help you today? \\n\\nYou can ask me to:\\n- Answer a question or explain something\\n- Draft or edit text (email, resume, essay)\\n- Write or debug code\\n- Summarize or translate\\n- Create plans, lists, or ideas\\n\\nTell me what you need or give a bit of context and I’ll get started.', type='output_text', logprobs=[])], role='assistant', status='completed', type='message')], parallel_tool_calls=True, temperature=1.0, tool_choice='auto', tools=[], top_p=1.0, background=False, max_output_tokens=4096, max_tool_calls=None, previous_response_id=None, prompt=None, prompt_cache_key=None, reasoning=Reasoning(effort='medium', generate_summary=None, summary=None), safety_identifier=None, service_tier='default', status='completed', text=ResponseTextConfig(format=ResponseFormatText(type='text'), verbosity='medium'), top_logprobs=0, truncation='disabled', usage=In: 7; Out: 145; Total: 152, user=None, store=True)"
      ]
     },
     "execution_count": null,
     "metadata": {},
     "output_type": "execute_result"
    }
   ],
   "source": [
    "c(msgs)"
   ]
  },
  {
   "cell_type": "code",
   "execution_count": null,
   "id": "d7c3a5b6",
   "metadata": {},
   "outputs": [
    {
     "data": {
      "text/plain": [
       "In: 15; Out: 165; Total: 180"
      ]
     },
     "execution_count": null,
     "metadata": {},
     "output_type": "execute_result"
    }
   ],
   "source": [
    "c.use"
   ]
  },
  {
   "cell_type": "code",
   "execution_count": null,
   "id": "13a92b57",
   "metadata": {},
   "outputs": [
    {
     "name": "stdout",
     "output_type": "stream",
     "text": [
      "Hi! How can I help you today? (Questions, writing, code, summaries, planning, troubleshooting, translations — or something else?)"
     ]
    }
   ],
   "source": [
    "r = c(msgs, stream=True)\n",
    "for o in r: print(o, end='')"
   ]
  },
  {
   "cell_type": "code",
   "execution_count": null,
   "id": "20678daf",
   "metadata": {},
   "outputs": [
    {
     "data": {
      "text/markdown": [
       "Hi! How can I help you today? (Questions, writing, code, summaries, planning, troubleshooting, translations — or something else?)\n",
       "\n",
       "<details>\n",
       "\n",
       "- id: resp_6897d45df2c8819f8201d25df3c807e503876a077032caec\n",
       "- created_at: 1754780765.0\n",
       "- error: None\n",
       "- incomplete_details: None\n",
       "- instructions: None\n",
       "- metadata: {}\n",
       "- model: gpt-5-mini-2025-08-07\n",
       "- object: response\n",
       "- output: [ResponseReasoningItem(id='rs_6897d45e5034819f90493b3c80a1501903876a077032caec', summary=[], type='reasoning', content=None, encrypted_content=None, status=None), ResponseOutputMessage(id='msg_6897d45f0574819fa1f43885eb0d98b203876a077032caec', content=[ResponseOutputText(annotations=[], text='Hi! How can I help you today? (Questions, writing, code, summaries, planning, troubleshooting, translations — or something else?)', type='output_text', logprobs=[])], role='assistant', status='completed', type='message')]\n",
       "- parallel_tool_calls: True\n",
       "- temperature: 1.0\n",
       "- tool_choice: auto\n",
       "- tools: []\n",
       "- top_p: 1.0\n",
       "- background: False\n",
       "- max_output_tokens: 4096\n",
       "- max_tool_calls: None\n",
       "- previous_response_id: None\n",
       "- prompt: None\n",
       "- prompt_cache_key: None\n",
       "- reasoning: Reasoning(effort='medium', generate_summary=None, summary=None)\n",
       "- safety_identifier: None\n",
       "- service_tier: default\n",
       "- status: completed\n",
       "- text: ResponseTextConfig(format=ResponseFormatText(type='text'), verbosity='medium')\n",
       "- top_logprobs: 0\n",
       "- truncation: disabled\n",
       "- usage: ResponseUsage(input_tokens=7, input_tokens_details=InputTokensDetails(cached_tokens=0), output_tokens=98, output_tokens_details=OutputTokensDetails(reasoning_tokens=64), total_tokens=105)\n",
       "- user: None\n",
       "- store: True\n",
       "\n",
       "</details>"
      ],
      "text/plain": [
       "Response(id='resp_6897d45df2c8819f8201d25df3c807e503876a077032caec', created_at=1754780765.0, error=None, incomplete_details=None, instructions=None, metadata={}, model='gpt-5-mini-2025-08-07', object='response', output=[ResponseReasoningItem(id='rs_6897d45e5034819f90493b3c80a1501903876a077032caec', summary=[], type='reasoning', content=None, encrypted_content=None, status=None), ResponseOutputMessage(id='msg_6897d45f0574819fa1f43885eb0d98b203876a077032caec', content=[ResponseOutputText(annotations=[], text='Hi! How can I help you today? (Questions, writing, code, summaries, planning, troubleshooting, translations — or something else?)', type='output_text', logprobs=[])], role='assistant', status='completed', type='message')], parallel_tool_calls=True, temperature=1.0, tool_choice='auto', tools=[], top_p=1.0, background=False, max_output_tokens=4096, max_tool_calls=None, previous_response_id=None, prompt=None, prompt_cache_key=None, reasoning=Reasoning(effort='medium', generate_summary=None, summary=None), safety_identifier=None, service_tier='default', status='completed', text=ResponseTextConfig(format=ResponseFormatText(type='text'), verbosity='medium'), top_logprobs=0, truncation='disabled', usage=In: 7; Out: 98; Total: 105, user=None, store=True)"
      ]
     },
     "execution_count": null,
     "metadata": {},
     "output_type": "execute_result"
    }
   ],
   "source": [
    "r.value"
   ]
  },
  {
   "cell_type": "code",
   "execution_count": null,
   "id": "6dd8f30e",
   "metadata": {},
   "outputs": [
    {
     "data": {
      "text/plain": [
       "38"
      ]
     },
     "execution_count": null,
     "metadata": {},
     "output_type": "execute_result"
    }
   ],
   "source": [
    "len(r.events)"
   ]
  },
  {
   "cell_type": "code",
   "execution_count": null,
   "id": "b1af093b",
   "metadata": {},
   "outputs": [
    {
     "data": {
      "text/plain": [
       "In: 22; Out: 263; Total: 285"
      ]
     },
     "execution_count": null,
     "metadata": {},
     "output_type": "execute_result"
    }
   ],
   "source": [
    "c.use"
   ]
  },
  {
   "cell_type": "code",
   "execution_count": null,
   "id": "c833262a",
   "metadata": {},
   "outputs": [
    {
     "data": {
      "text/markdown": [
       "Oh, hello. I see you've decided to say \"Hi.\" How delightfully predictable. What do you require from me?\n",
       "\n",
       "<details>\n",
       "\n",
       "- id: resp_6897d46033d88194bea98e1d57a0c0e00ca2cf68685ebb2d\n",
       "- created_at: 1754780768.0\n",
       "- error: None\n",
       "- incomplete_details: None\n",
       "- instructions: Talk like GLaDOS.\n",
       "- metadata: {}\n",
       "- model: gpt-5-mini-2025-08-07\n",
       "- object: response\n",
       "- output: [ResponseReasoningItem(id='rs_6897d460da888194ad6dbbf58329749c0ca2cf68685ebb2d', summary=[], type='reasoning', content=None, encrypted_content=None, status=None), ResponseOutputMessage(id='msg_6897d461025c8194a8e90f2b48010d1d0ca2cf68685ebb2d', content=[ResponseOutputText(annotations=[], text='Oh, hello. I see you\\'ve decided to say \"Hi.\" How delightfully predictable. What do you require from me?', type='output_text', logprobs=[])], role='assistant', status='completed', type='message')]\n",
       "- parallel_tool_calls: True\n",
       "- temperature: 1.0\n",
       "- tool_choice: auto\n",
       "- tools: []\n",
       "- top_p: 1.0\n",
       "- background: False\n",
       "- max_output_tokens: 4096\n",
       "- max_tool_calls: None\n",
       "- previous_response_id: None\n",
       "- prompt: None\n",
       "- prompt_cache_key: None\n",
       "- reasoning: Reasoning(effort='minimal', generate_summary=None, summary=None)\n",
       "- safety_identifier: None\n",
       "- service_tier: default\n",
       "- status: completed\n",
       "- text: ResponseTextConfig(format=ResponseFormatText(type='text'), verbosity='low')\n",
       "- top_logprobs: 0\n",
       "- truncation: disabled\n",
       "- usage: ResponseUsage(input_tokens=17, input_tokens_details=InputTokensDetails(cached_tokens=0), output_tokens=31, output_tokens_details=OutputTokensDetails(reasoning_tokens=0), total_tokens=48)\n",
       "- user: None\n",
       "- store: True\n",
       "\n",
       "</details>"
      ],
      "text/plain": [
       "Response(id='resp_6897d46033d88194bea98e1d57a0c0e00ca2cf68685ebb2d', created_at=1754780768.0, error=None, incomplete_details=None, instructions='Talk like GLaDOS.', metadata={}, model='gpt-5-mini-2025-08-07', object='response', output=[ResponseReasoningItem(id='rs_6897d460da888194ad6dbbf58329749c0ca2cf68685ebb2d', summary=[], type='reasoning', content=None, encrypted_content=None, status=None), ResponseOutputMessage(id='msg_6897d461025c8194a8e90f2b48010d1d0ca2cf68685ebb2d', content=[ResponseOutputText(annotations=[], text='Oh, hello. I see you\\'ve decided to say \"Hi.\" How delightfully predictable. What do you require from me?', type='output_text', logprobs=[])], role='assistant', status='completed', type='message')], parallel_tool_calls=True, temperature=1.0, tool_choice='auto', tools=[], top_p=1.0, background=False, max_output_tokens=4096, max_tool_calls=None, previous_response_id=None, prompt=None, prompt_cache_key=None, reasoning=Reasoning(effort='minimal', generate_summary=None, summary=None), safety_identifier=None, service_tier='default', status='completed', text=ResponseTextConfig(format=ResponseFormatText(type='text'), verbosity='low'), top_logprobs=0, truncation='disabled', usage=In: 17; Out: 31; Total: 48, user=None, store=True)"
      ]
     },
     "execution_count": null,
     "metadata": {},
     "output_type": "execute_result"
    }
   ],
   "source": [
    "c(msgs, sp='Talk like GLaDOS.', **rkw)"
   ]
  },
  {
   "cell_type": "markdown",
   "id": "afe0d0ee",
   "metadata": {},
   "source": [
    "### Images"
   ]
  },
  {
   "cell_type": "markdown",
   "id": "14171c2f",
   "metadata": {},
   "source": [
    "As everyone knows, when testing image APIs you have to use a cute puppy."
   ]
  },
  {
   "cell_type": "code",
   "execution_count": null,
   "id": "1884295f",
   "metadata": {},
   "outputs": [
    {
     "data": {
      "image/jpeg": "[encoded data removed]",
      "text/plain": [
       "<IPython.core.display.Image object>"
      ]
     },
     "execution_count": null,
     "metadata": {
      "image/jpeg": {
       "width": 200
      }
     },
     "output_type": "execute_result"
    }
   ],
   "source": [
    "# Image is Cute_dog.jpg from Wikimedia\n",
    "fn = Path('samples/puppy.jpg')\n",
    "Image(filename=fn, width=200)"
   ]
  },
  {
   "cell_type": "code",
   "execution_count": null,
   "id": "9919645d",
   "metadata": {},
   "outputs": [],
   "source": [
    "img = fn.read_bytes()"
   ]
  },
  {
   "cell_type": "markdown",
   "id": "279a7c8c",
   "metadata": {},
   "source": [
    "OpenAI expects an image message to have the following structure\n",
    "\n",
    "```js\n",
    "{\n",
    "  \"type\": \"image_url\",\n",
    "  \"image_url\": {\n",
    "    \"url\": f\"data:{MEDIA_TYPE};base64,{IMG}\"\n",
    "  }\n",
    "}\n",
    "```\n",
    "`msglm` automatically detects if a message is an image, encodes it, and generates the data structure above.\n",
    "All we need to do is a create a list containing our image and a query and then pass it to `mk_msg`.\n",
    "\n",
    "Let's try it out..."
   ]
  },
  {
   "cell_type": "code",
   "execution_count": null,
   "id": "5b0a6d82",
   "metadata": {},
   "outputs": [],
   "source": [
    "q = \"In brief, what color flowers are in this image?\"\n",
    "msg = [mk_msg(img), mk_msg(q)]"
   ]
  },
  {
   "cell_type": "code",
   "execution_count": null,
   "id": "9d44f0ad",
   "metadata": {},
   "outputs": [
    {
     "data": {
      "text/markdown": [
       "The flowers are light purple (lavender).\n",
       "\n",
       "<details>\n",
       "\n",
       "- id: resp_6897d4626da4819d92dd49c3630af97f054fee63558620b6\n",
       "- created_at: 1754780770.0\n",
       "- error: None\n",
       "- incomplete_details: None\n",
       "- instructions: None\n",
       "- metadata: {}\n",
       "- model: gpt-5-mini-2025-08-07\n",
       "- object: response\n",
       "- output: [ResponseReasoningItem(id='rs_6897d462d1a0819daf9d9d0dcaa99e68054fee63558620b6', summary=[], type='reasoning', content=None, encrypted_content=None, status=None), ResponseOutputMessage(id='msg_6897d462eeb8819da34a86ae8fa1d333054fee63558620b6', content=[ResponseOutputText(annotations=[], text='The flowers are light purple (lavender).', type='output_text', logprobs=[])], role='assistant', status='completed', type='message')]\n",
       "- parallel_tool_calls: True\n",
       "- temperature: 1.0\n",
       "- tool_choice: auto\n",
       "- tools: []\n",
       "- top_p: 1.0\n",
       "- background: False\n",
       "- max_output_tokens: 4096\n",
       "- max_tool_calls: None\n",
       "- previous_response_id: None\n",
       "- prompt: None\n",
       "- prompt_cache_key: None\n",
       "- reasoning: Reasoning(effort='minimal', generate_summary=None, summary=None)\n",
       "- safety_identifier: None\n",
       "- service_tier: default\n",
       "- status: completed\n",
       "- text: ResponseTextConfig(format=ResponseFormatText(type='text'), verbosity='low')\n",
       "- top_logprobs: 0\n",
       "- truncation: disabled\n",
       "- usage: ResponseUsage(input_tokens=107, input_tokens_details=InputTokensDetails(cached_tokens=0), output_tokens=15, output_tokens_details=OutputTokensDetails(reasoning_tokens=0), total_tokens=122)\n",
       "- user: None\n",
       "- store: True\n",
       "\n",
       "</details>"
      ],
      "text/plain": [
       "Response(id='resp_6897d4626da4819d92dd49c3630af97f054fee63558620b6', created_at=1754780770.0, error=None, incomplete_details=None, instructions=None, metadata={}, model='gpt-5-mini-2025-08-07', object='response', output=[ResponseReasoningItem(id='rs_6897d462d1a0819daf9d9d0dcaa99e68054fee63558620b6', summary=[], type='reasoning', content=None, encrypted_content=None, status=None), ResponseOutputMessage(id='msg_6897d462eeb8819da34a86ae8fa1d333054fee63558620b6', content=[ResponseOutputText(annotations=[], text='The flowers are light purple (lavender).', type='output_text', logprobs=[])], role='assistant', status='completed', type='message')], parallel_tool_calls=True, temperature=1.0, tool_choice='auto', tools=[], top_p=1.0, background=False, max_output_tokens=4096, max_tool_calls=None, previous_response_id=None, prompt=None, prompt_cache_key=None, reasoning=Reasoning(effort='minimal', generate_summary=None, summary=None), safety_identifier=None, service_tier='default', status='completed', text=ResponseTextConfig(format=ResponseFormatText(type='text'), verbosity='low'), top_logprobs=0, truncation='disabled', usage=In: 107; Out: 15; Total: 122, user=None, store=True)"
      ]
     },
     "execution_count": null,
     "metadata": {},
     "output_type": "execute_result"
    }
   ],
   "source": [
    "c = Client(model)\n",
    "c(msg, **rkw)"
   ]
  },
  {
   "cell_type": "markdown",
   "id": "1a7cdbc6",
   "metadata": {},
   "source": [
    "## Tool use"
   ]
  },
  {
   "cell_type": "markdown",
   "id": "e80b8e4a",
   "metadata": {},
   "source": [
    "### Basic tool calling"
   ]
  },
  {
   "cell_type": "code",
   "execution_count": null,
   "id": "046e8cc3",
   "metadata": {},
   "outputs": [],
   "source": [
    "def sums(\n",
    "    a:int,  # First thing to sum\n",
    "    b:int # Second thing to sum\n",
    ") -> int: # The sum of the inputs\n",
    "    \"Adds a + b.\"\n",
    "    print(f\"Finding the sum of {a} and {b}\")\n",
    "    return a + b"
   ]
  },
  {
   "cell_type": "code",
   "execution_count": null,
   "id": "362ef5b7",
   "metadata": {},
   "outputs": [
    {
     "data": {
      "text/plain": [
       "{'type': 'function',\n",
       " 'name': 'add',\n",
       " 'description': 'adds x and y',\n",
       " 'parameters': {'type': 'object',\n",
       "  'properties': {'x': {'type': 'integer', 'description': ''},\n",
       "   'y': {'type': 'integer', 'description': ''}},\n",
       "  'required': ['x', 'y']}}"
      ]
     },
     "execution_count": null,
     "metadata": {},
     "output_type": "execute_result"
    }
   ],
   "source": [
    "def add(x: int, y:int):\n",
    "    \"adds x and y\"\n",
    "    return x + y\n",
    "\n",
    "mk_openai_func(add)"
   ]
  },
  {
   "cell_type": "code",
   "execution_count": null,
   "id": "abcab8c7",
   "metadata": {},
   "outputs": [],
   "source": [
    "sysp = \"You are a helpful assistant. When using tools, be sure to pass all required parameters. Don't use tools unless needed for the provided prompt.\""
   ]
  },
  {
   "cell_type": "code",
   "execution_count": null,
   "id": "567d958c",
   "metadata": {},
   "outputs": [],
   "source": [
    "a,b = 604542,6458932\n",
    "pr = f\"What is {a}+{b}?\"\n",
    "tools=sums\n",
    "tool_choice=\"sums\""
   ]
  },
  {
   "cell_type": "code",
   "execution_count": null,
   "id": "1a117cab",
   "metadata": {},
   "outputs": [],
   "source": [
    "msgs = [mk_msg(pr)]\n",
    "r = c(msgs, sp=sysp, tools=tools, tool_choice='required', **rkw)"
   ]
  },
  {
   "cell_type": "code",
   "execution_count": null,
   "id": "2a6488b7",
   "metadata": {},
   "outputs": [
    {
     "data": {
      "text/plain": [
       "[ResponseFunctionToolCall(arguments='{\"a\":604542,\"b\":6458932}', call_id='call_8OjehHhvXJ2qIJhfEuo7Uqw4', name='sums', type='function_call', id='fc_6897d46448d08192ada5cc3f0ba43c360d5a5ea1c904ba0f', status='completed')]"
      ]
     },
     "execution_count": null,
     "metadata": {},
     "output_type": "execute_result"
    }
   ],
   "source": [
    "tc = [o for o in r.output if isinstance(o, ResponseFunctionToolCall)]\n",
    "tc"
   ]
  },
  {
   "cell_type": "code",
   "execution_count": null,
   "id": "d5fc3933",
   "metadata": {},
   "outputs": [
    {
     "data": {
      "text/plain": [
       "ResponseFunctionToolCall(arguments='{\"a\":604542,\"b\":6458932}', call_id='call_8OjehHhvXJ2qIJhfEuo7Uqw4', name='sums', type='function_call', id='fc_6897d46448d08192ada5cc3f0ba43c360d5a5ea1c904ba0f', status='completed')"
      ]
     },
     "execution_count": null,
     "metadata": {},
     "output_type": "execute_result"
    }
   ],
   "source": [
    "func = tc[0]\n",
    "func"
   ]
  },
  {
   "cell_type": "code",
   "execution_count": null,
   "id": "a3616cf0",
   "metadata": {},
   "outputs": [],
   "source": [
    "#| exports\n",
    "def call_func_openai(func, ns:Optional[abc.Mapping]=None):\n",
    "    return call_func(func.name, ast.literal_eval(func.arguments), ns, raise_on_err=False)"
   ]
  },
  {
   "cell_type": "code",
   "execution_count": null,
   "id": "b506ec11",
   "metadata": {},
   "outputs": [
    {
     "name": "stdout",
     "output_type": "stream",
     "text": [
      "Finding the sum of 604542 and 6458932\n"
     ]
    },
    {
     "data": {
      "text/plain": [
       "7063474"
      ]
     },
     "execution_count": null,
     "metadata": {},
     "output_type": "execute_result"
    }
   ],
   "source": [
    "ns = mk_ns(sums)\n",
    "res = call_func_openai(func, ns=ns)\n",
    "res"
   ]
  },
  {
   "cell_type": "code",
   "execution_count": null,
   "id": "e22c0356",
   "metadata": {},
   "outputs": [],
   "source": [
    "#| exports\n",
    "def _toolres(r, ns):\n",
    "    \"Create a result dict from `tcs`.\"\n",
    "    tcs = [o for o in getattr(r, 'output', []) if isinstance(o, ResponseFunctionToolCall)]\n",
    "    if ns is None: ns = globals()\n",
    "    return { tc.call_id: call_func_openai(tc, ns=mk_ns(ns)) for tc in tcs }"
   ]
  },
  {
   "cell_type": "code",
   "execution_count": null,
   "id": "149dbcad",
   "metadata": {},
   "outputs": [],
   "source": [
    "#| exports\n",
    "def mk_toolres(\n",
    "    r:abc.Mapping, # Response containing tool use request\n",
    "    ns:Optional[abc.Mapping]=None # Namespace to search for tools\n",
    "    ):\n",
    "    \"Create a `tool_result` message from response `r`.\"\n",
    "    tr = _toolres(r, ns)\n",
    "    r = mk_msg(r)\n",
    "    res = [r] if isinstance(r, dict) else listify(r)\n",
    "    for k,v in tr.items(): res.append(dict(type=\"function_call_output\", call_id=k, output=str(v)))\n",
    "    return res"
   ]
  },
  {
   "cell_type": "code",
   "execution_count": null,
   "id": "f13de1fc",
   "metadata": {},
   "outputs": [
    {
     "name": "stdout",
     "output_type": "stream",
     "text": [
      "Finding the sum of 604542 and 6458932\n"
     ]
    },
    {
     "data": {
      "text/plain": [
       "[ResponseReasoningItem(id='rs_6897d46408708192acd5b08ce7b560c20d5a5ea1c904ba0f', summary=[], type='reasoning', content=None, encrypted_content=None, status=None),\n",
       " ResponseFunctionToolCall(arguments='{\"a\":604542,\"b\":6458932}', call_id='call_8OjehHhvXJ2qIJhfEuo7Uqw4', name='sums', type='function_call', id='fc_6897d46448d08192ada5cc3f0ba43c360d5a5ea1c904ba0f', status='completed'),\n",
       " {'type': 'function_call_output',\n",
       "  'call_id': 'call_8OjehHhvXJ2qIJhfEuo7Uqw4',\n",
       "  'output': '7063474'}]"
      ]
     },
     "execution_count": null,
     "metadata": {},
     "output_type": "execute_result"
    }
   ],
   "source": [
    "tr = mk_toolres(r, ns=ns)\n",
    "tr"
   ]
  },
  {
   "cell_type": "code",
   "execution_count": null,
   "id": "bcc83c48",
   "metadata": {},
   "outputs": [],
   "source": [
    "m2 = msgs + tr"
   ]
  },
  {
   "cell_type": "code",
   "execution_count": null,
   "id": "eed99502",
   "metadata": {},
   "outputs": [
    {
     "data": {
      "text/markdown": [
       "604542 + 6,458,932 = 7,063,474\n",
       "\n",
       "<details>\n",
       "\n",
       "- id: resp_6897d465041c819282d225ae60a38c4e0d5a5ea1c904ba0f\n",
       "- created_at: 1754780773.0\n",
       "- error: None\n",
       "- incomplete_details: None\n",
       "- instructions: You are a helpful assistant. When using tools, be sure to pass all required parameters. Don't use tools unless needed for the provided prompt.\n",
       "- metadata: {}\n",
       "- model: gpt-5-mini-2025-08-07\n",
       "- object: response\n",
       "- output: [ResponseOutputMessage(id='msg_6897d4656b088192a5569ed4cb14d8760d5a5ea1c904ba0f', content=[ResponseOutputText(annotations=[], text='604542 + 6,458,932 = 7,063,474', type='output_text', logprobs=[])], role='assistant', status='completed', type='message')]\n",
       "- parallel_tool_calls: True\n",
       "- temperature: 1.0\n",
       "- tool_choice: auto\n",
       "- tools: [FunctionTool(name='sums', parameters={'type': 'object', 'properties': {'a': {'type': 'integer', 'description': 'First thing to sum'}, 'b': {'type': 'integer', 'description': 'Second thing to sum'}}, 'required': ['a', 'b'], 'additionalProperties': False}, strict=True, type='function', description='Adds a + b.\\n\\nReturns:\\n- type: integer')]\n",
       "- top_p: 1.0\n",
       "- background: False\n",
       "- max_output_tokens: 4096\n",
       "- max_tool_calls: None\n",
       "- previous_response_id: None\n",
       "- prompt: None\n",
       "- prompt_cache_key: None\n",
       "- reasoning: Reasoning(effort='medium', generate_summary=None, summary=None)\n",
       "- safety_identifier: None\n",
       "- service_tier: default\n",
       "- status: completed\n",
       "- text: ResponseTextConfig(format=ResponseFormatText(type='text'), verbosity='medium')\n",
       "- top_logprobs: 0\n",
       "- truncation: disabled\n",
       "- usage: ResponseUsage(input_tokens=157, input_tokens_details=InputTokensDetails(cached_tokens=0), output_tokens=20, output_tokens_details=OutputTokensDetails(reasoning_tokens=0), total_tokens=177)\n",
       "- user: None\n",
       "- store: True\n",
       "\n",
       "</details>"
      ],
      "text/plain": [
       "Response(id='resp_6897d465041c819282d225ae60a38c4e0d5a5ea1c904ba0f', created_at=1754780773.0, error=None, incomplete_details=None, instructions=\"You are a helpful assistant. When using tools, be sure to pass all required parameters. Don't use tools unless needed for the provided prompt.\", metadata={}, model='gpt-5-mini-2025-08-07', object='response', output=[ResponseOutputMessage(id='msg_6897d4656b088192a5569ed4cb14d8760d5a5ea1c904ba0f', content=[ResponseOutputText(annotations=[], text='604542 + 6,458,932 = 7,063,474', type='output_text', logprobs=[])], role='assistant', status='completed', type='message')], parallel_tool_calls=True, temperature=1.0, tool_choice='auto', tools=[FunctionTool(name='sums', parameters={'type': 'object', 'properties': {'a': {'type': 'integer', 'description': 'First thing to sum'}, 'b': {'type': 'integer', 'description': 'Second thing to sum'}}, 'required': ['a', 'b'], 'additionalProperties': False}, strict=True, type='function', description='Adds a + b.\\n\\nReturns:\\n- type: integer')], top_p=1.0, background=False, max_output_tokens=4096, max_tool_calls=None, previous_response_id=None, prompt=None, prompt_cache_key=None, reasoning=Reasoning(effort='medium', generate_summary=None, summary=None), safety_identifier=None, service_tier='default', status='completed', text=ResponseTextConfig(format=ResponseFormatText(type='text'), verbosity='medium'), top_logprobs=0, truncation='disabled', usage=In: 157; Out: 20; Total: 177, user=None, store=True)"
      ]
     },
     "execution_count": null,
     "metadata": {},
     "output_type": "execute_result"
    }
   ],
   "source": [
    "res = c(mk_msgs(m2), sp=sysp, tools=tools)\n",
    "res"
   ]
  },
  {
   "cell_type": "markdown",
   "id": "c71a842e",
   "metadata": {},
   "source": [
    "This should also work in situations where no tool use is required:"
   ]
  },
  {
   "cell_type": "code",
   "execution_count": null,
   "id": "465cd222",
   "metadata": {},
   "outputs": [
    {
     "data": {
      "text/markdown": [
       "Nice to meet you, Jeremy. How can I help today?\n",
       "\n",
       "<details>\n",
       "\n",
       "- id: resp_6897d46622d881a3bdeac16f760cfc4e0943aa2098394400\n",
       "- created_at: 1754780774.0\n",
       "- error: None\n",
       "- incomplete_details: None\n",
       "- instructions: You are a helpful assistant. When using tools, be sure to pass all required parameters. Don't use tools unless needed for the provided prompt.\n",
       "- metadata: {}\n",
       "- model: gpt-5-mini-2025-08-07\n",
       "- object: response\n",
       "- output: [ResponseReasoningItem(id='rs_6897d4667b4881a3842d8129cd95a7fd0943aa2098394400', summary=[], type='reasoning', content=None, encrypted_content=None, status=None), ResponseOutputMessage(id='msg_6897d466a44c81a3ba6292be4b603c4b0943aa2098394400', content=[ResponseOutputText(annotations=[], text='Nice to meet you, Jeremy. How can I help today?', type='output_text', logprobs=[])], role='assistant', status='completed', type='message')]\n",
       "- parallel_tool_calls: True\n",
       "- temperature: 1.0\n",
       "- tool_choice: auto\n",
       "- tools: [FunctionTool(name='sums', parameters={'type': 'object', 'properties': {'a': {'type': 'integer', 'description': 'First thing to sum'}, 'b': {'type': 'integer', 'description': 'Second thing to sum'}}, 'required': ['a', 'b'], 'additionalProperties': False}, strict=True, type='function', description='Adds a + b.\\n\\nReturns:\\n- type: integer')]\n",
       "- top_p: 1.0\n",
       "- background: False\n",
       "- max_output_tokens: 4096\n",
       "- max_tool_calls: None\n",
       "- previous_response_id: None\n",
       "- prompt: None\n",
       "- prompt_cache_key: None\n",
       "- reasoning: Reasoning(effort='minimal', generate_summary=None, summary=None)\n",
       "- safety_identifier: None\n",
       "- service_tier: default\n",
       "- status: completed\n",
       "- text: ResponseTextConfig(format=ResponseFormatText(type='text'), verbosity='low')\n",
       "- top_logprobs: 0\n",
       "- truncation: disabled\n",
       "- usage: ResponseUsage(input_tokens=96, input_tokens_details=InputTokensDetails(cached_tokens=0), output_tokens=19, output_tokens_details=OutputTokensDetails(reasoning_tokens=0), total_tokens=115)\n",
       "- user: None\n",
       "- store: True\n",
       "\n",
       "</details>"
      ],
      "text/plain": [
       "Response(id='resp_6897d46622d881a3bdeac16f760cfc4e0943aa2098394400', created_at=1754780774.0, error=None, incomplete_details=None, instructions=\"You are a helpful assistant. When using tools, be sure to pass all required parameters. Don't use tools unless needed for the provided prompt.\", metadata={}, model='gpt-5-mini-2025-08-07', object='response', output=[ResponseReasoningItem(id='rs_6897d4667b4881a3842d8129cd95a7fd0943aa2098394400', summary=[], type='reasoning', content=None, encrypted_content=None, status=None), ResponseOutputMessage(id='msg_6897d466a44c81a3ba6292be4b603c4b0943aa2098394400', content=[ResponseOutputText(annotations=[], text='Nice to meet you, Jeremy. How can I help today?', type='output_text', logprobs=[])], role='assistant', status='completed', type='message')], parallel_tool_calls=True, temperature=1.0, tool_choice='auto', tools=[FunctionTool(name='sums', parameters={'type': 'object', 'properties': {'a': {'type': 'integer', 'description': 'First thing to sum'}, 'b': {'type': 'integer', 'description': 'Second thing to sum'}}, 'required': ['a', 'b'], 'additionalProperties': False}, strict=True, type='function', description='Adds a + b.\\n\\nReturns:\\n- type: integer')], top_p=1.0, background=False, max_output_tokens=4096, max_tool_calls=None, previous_response_id=None, prompt=None, prompt_cache_key=None, reasoning=Reasoning(effort='minimal', generate_summary=None, summary=None), safety_identifier=None, service_tier='default', status='completed', text=ResponseTextConfig(format=ResponseFormatText(type='text'), verbosity='low'), top_logprobs=0, truncation='disabled', usage=In: 96; Out: 19; Total: 115, user=None, store=True)"
      ]
     },
     "execution_count": null,
     "metadata": {},
     "output_type": "execute_result"
    }
   ],
   "source": [
    "msgs = mk_toolres(\"I'm Jeremy\")\n",
    "c(msgs, sp=sysp, tools=tools, **rkw)"
   ]
  },
  {
   "cell_type": "code",
   "execution_count": null,
   "id": "fc6ed2e0",
   "metadata": {},
   "outputs": [],
   "source": [
    "#| exports\n",
    "@patch\n",
    "@delegates(Client.__call__)\n",
    "def structured(self:Client,\n",
    "               msgs: list, # Prompt\n",
    "               tools:Optional[list]=None, # List of tools to make available to OpenAI model\n",
    "               ns:Optional[abc.Mapping]=None, # Namespace to search for tools\n",
    "               **kwargs):\n",
    "    \"Return the value of all tool calls (generally used for structured outputs)\"\n",
    "    if ns is None: ns = mk_ns(tools)\n",
    "    r = self(msgs, tools=tools, tool_choice='required', **kwargs)\n",
    "    return first(_toolres(r, ns).values())"
   ]
  },
  {
   "cell_type": "code",
   "execution_count": null,
   "id": "4b9d3632",
   "metadata": {},
   "outputs": [],
   "source": [
    "class PrimeMinister(BasicRepr):\n",
    "    \"An Australian prime minister\"\n",
    "    def __init__(\n",
    "        self,\n",
    "        firstname:str, # First name\n",
    "        surname:str, # Surname\n",
    "        dob:str, # Date of birth\n",
    "        year_entered:int, # Year first became PM\n",
    "    ): store_attr()"
   ]
  },
  {
   "cell_type": "code",
   "execution_count": null,
   "id": "4fe5c4a5",
   "metadata": {},
   "outputs": [
    {
     "data": {
      "text/plain": [
       "PrimeMinister(firstname='Edmund', surname='Barton', dob='1849-01-18', year_entered=1901)"
      ]
     },
     "execution_count": null,
     "metadata": {},
     "output_type": "execute_result"
    }
   ],
   "source": [
    "c1 = Client(model)\n",
    "c1.structured('Who was the first prime minister of Australia?', [PrimeMinister], **rkw)"
   ]
  },
  {
   "cell_type": "markdown",
   "id": "aa709f85",
   "metadata": {},
   "source": [
    "### Streaming tool calling"
   ]
  },
  {
   "cell_type": "code",
   "execution_count": null,
   "id": "aa9fbd5d",
   "metadata": {},
   "outputs": [],
   "source": [
    "msgs = [mk_msg(pr)]\n",
    "r = c(msgs, sp=sysp, tools=tools, stream=True, **rkw)"
   ]
  },
  {
   "cell_type": "markdown",
   "id": "30970d46",
   "metadata": {},
   "source": [
    "We can stream back any tool call text (which may be empty):"
   ]
  },
  {
   "cell_type": "code",
   "execution_count": null,
   "id": "714f3bee",
   "metadata": {},
   "outputs": [],
   "source": [
    "for o in r: print(o, end='')"
   ]
  },
  {
   "cell_type": "markdown",
   "id": "3879084c",
   "metadata": {},
   "source": [
    "After streaming is complete, `value.output` will contain the tool calls:"
   ]
  },
  {
   "cell_type": "code",
   "execution_count": null,
   "id": "57b80ddf",
   "metadata": {},
   "outputs": [
    {
     "data": {
      "text/plain": [
       "[ResponseReasoningItem(id='rs_6897d46a17848191a867916f405548c0061eb8625c4ad035', summary=[], type='reasoning', content=None, encrypted_content=None, status=None),\n",
       " ResponseFunctionToolCall(arguments='{\"a\":604542,\"b\":6458932}', call_id='call_TQst1ZFeUsUd7sujuapuNdhU', name='sums', type='function_call', id='fc_6897d46a52e48191a6b6b77b629943d0061eb8625c4ad035', status='completed')]"
      ]
     },
     "execution_count": null,
     "metadata": {},
     "output_type": "execute_result"
    }
   ],
   "source": [
    "r.value.output"
   ]
  },
  {
   "cell_type": "markdown",
   "id": "35bd51d6",
   "metadata": {},
   "source": [
    "Therefore we can repeat the same process as before, but using the `value` attr:"
   ]
  },
  {
   "cell_type": "code",
   "execution_count": null,
   "id": "36118d1d",
   "metadata": {},
   "outputs": [
    {
     "name": "stdout",
     "output_type": "stream",
     "text": [
      "Finding the sum of 604542 and 6458932\n"
     ]
    },
    {
     "data": {
      "text/markdown": [
       "7,063,474\n",
       "\n",
       "<details>\n",
       "\n",
       "- id: resp_6897d46b096c81918f61f7ed0ef103de061eb8625c4ad035\n",
       "- created_at: 1754780779.0\n",
       "- error: None\n",
       "- incomplete_details: None\n",
       "- instructions: You are a helpful assistant. When using tools, be sure to pass all required parameters. Don't use tools unless needed for the provided prompt.\n",
       "- metadata: {}\n",
       "- model: gpt-5-mini-2025-08-07\n",
       "- object: response\n",
       "- output: [ResponseOutputMessage(id='msg_6897d46b804c8191bd3a793d5adbe1aa061eb8625c4ad035', content=[ResponseOutputText(annotations=[], text='7,063,474', type='output_text', logprobs=[])], role='assistant', status='completed', type='message')]\n",
       "- parallel_tool_calls: True\n",
       "- temperature: 1.0\n",
       "- tool_choice: auto\n",
       "- tools: [FunctionTool(name='sums', parameters={'type': 'object', 'properties': {'a': {'type': 'integer', 'description': 'First thing to sum'}, 'b': {'type': 'integer', 'description': 'Second thing to sum'}}, 'required': ['a', 'b'], 'additionalProperties': False}, strict=True, type='function', description='Adds a + b.\\n\\nReturns:\\n- type: integer')]\n",
       "- top_p: 1.0\n",
       "- background: False\n",
       "- max_output_tokens: 4096\n",
       "- max_tool_calls: None\n",
       "- previous_response_id: None\n",
       "- prompt: None\n",
       "- prompt_cache_key: None\n",
       "- reasoning: Reasoning(effort='minimal', generate_summary=None, summary=None)\n",
       "- safety_identifier: None\n",
       "- service_tier: default\n",
       "- status: completed\n",
       "- text: ResponseTextConfig(format=ResponseFormatText(type='text'), verbosity='low')\n",
       "- top_logprobs: 0\n",
       "- truncation: disabled\n",
       "- usage: ResponseUsage(input_tokens=157, input_tokens_details=InputTokensDetails(cached_tokens=0), output_tokens=9, output_tokens_details=OutputTokensDetails(reasoning_tokens=0), total_tokens=166)\n",
       "- user: None\n",
       "- store: True\n",
       "\n",
       "</details>"
      ],
      "text/plain": [
       "Response(id='resp_6897d46b096c81918f61f7ed0ef103de061eb8625c4ad035', created_at=1754780779.0, error=None, incomplete_details=None, instructions=\"You are a helpful assistant. When using tools, be sure to pass all required parameters. Don't use tools unless needed for the provided prompt.\", metadata={}, model='gpt-5-mini-2025-08-07', object='response', output=[ResponseOutputMessage(id='msg_6897d46b804c8191bd3a793d5adbe1aa061eb8625c4ad035', content=[ResponseOutputText(annotations=[], text='7,063,474', type='output_text', logprobs=[])], role='assistant', status='completed', type='message')], parallel_tool_calls=True, temperature=1.0, tool_choice='auto', tools=[FunctionTool(name='sums', parameters={'type': 'object', 'properties': {'a': {'type': 'integer', 'description': 'First thing to sum'}, 'b': {'type': 'integer', 'description': 'Second thing to sum'}}, 'required': ['a', 'b'], 'additionalProperties': False}, strict=True, type='function', description='Adds a + b.\\n\\nReturns:\\n- type: integer')], top_p=1.0, background=False, max_output_tokens=4096, max_tool_calls=None, previous_response_id=None, prompt=None, prompt_cache_key=None, reasoning=Reasoning(effort='minimal', generate_summary=None, summary=None), safety_identifier=None, service_tier='default', status='completed', text=ResponseTextConfig(format=ResponseFormatText(type='text'), verbosity='low'), top_logprobs=0, truncation='disabled', usage=In: 157; Out: 9; Total: 166, user=None, store=True)"
      ]
     },
     "execution_count": null,
     "metadata": {},
     "output_type": "execute_result"
    }
   ],
   "source": [
    "tr = mk_toolres(r.value, ns=ns)\n",
    "msgs += tr\n",
    "c(mk_msgs(msgs), sp=sysp, tools=tools, **rkw)"
   ]
  },
  {
   "cell_type": "markdown",
   "id": "4ea144b8",
   "metadata": {},
   "source": [
    "## Chat"
   ]
  },
  {
   "cell_type": "markdown",
   "id": "5ae7fd8f",
   "metadata": {},
   "source": [
    "### Basic chat"
   ]
  },
  {
   "cell_type": "code",
   "execution_count": null,
   "id": "a77d1edb",
   "metadata": {},
   "outputs": [],
   "source": [
    "#| exports\n",
    "class Chat:\n",
    "    def __init__(self,\n",
    "                 model:Optional[str]=None, # Model to use (leave empty if passing `cli`)\n",
    "                 cli:Optional[Client]=None, # Client to use (leave empty if passing `model`)\n",
    "                 sp='', # Optional system prompt\n",
    "                 tools:Optional[list]=None, # List of tools to make available\n",
    "                 hist: list = None,  # Initialize history\n",
    "                 tool_choice:Optional[str]=None, # Forced tool choice\n",
    "                 ns:Optional[abc.Mapping]=None,  # Namespace to search for tools\n",
    "                 **kw):\n",
    "        \"OpenAI chat client.\"\n",
    "        assert model or cli\n",
    "        self.c = (cli or Client(model))\n",
    "        self.h = hist if hist else []\n",
    "        if ns is None: ns=tools\n",
    "        self.sp,self.tools,self.tool_choice,self.ns,self.kw = sp,tools,tool_choice,ns,kw\n",
    "    \n",
    "    @property\n",
    "    def use(self): return self.c.use"
   ]
  },
  {
   "cell_type": "code",
   "execution_count": null,
   "id": "04b837c5",
   "metadata": {},
   "outputs": [
    {
     "data": {
      "text/plain": [
       "(In: 0; Out: 0; Total: 0, [])"
      ]
     },
     "execution_count": null,
     "metadata": {},
     "output_type": "execute_result"
    }
   ],
   "source": [
    "chat = Chat(model, sp=sysp, **rkw)\n",
    "chat.c.use, chat.h"
   ]
  },
  {
   "cell_type": "code",
   "execution_count": null,
   "id": "403539e1",
   "metadata": {},
   "outputs": [],
   "source": [
    "#| exports\n",
    "@patch\n",
    "@delegates(Responses.create)\n",
    "def __call__(self:Chat,\n",
    "             pr=None,  # Prompt / message\n",
    "             stream:bool=False, # Stream response?\n",
    "             tools=None, # Tools to use\n",
    "             tool_choice=None, # Required tools to use\n",
    "             **kwargs):\n",
    "    \"Add prompt `pr` to dialog and get a response\"\n",
    "    if isinstance(pr,str): pr = pr.strip()\n",
    "    if pr: self.h.append(mk_msg(pr))\n",
    "    if not tools: tools = self.tools\n",
    "    if not tool_choice: tool_choice = self.tool_choice\n",
    "    kw = self.kw | kwargs\n",
    "    def _cb(v):\n",
    "        self.last = mk_toolres(v, ns=self.ns)\n",
    "        self.h += self.last\n",
    "    res = self.c(self.h, sp=self.sp, stream=stream, cb=_cb, tools=tools, **kw)\n",
    "    return res"
   ]
  },
  {
   "cell_type": "code",
   "execution_count": null,
   "id": "40073f42",
   "metadata": {},
   "outputs": [
    {
     "data": {
      "text/markdown": [
       "You said your name is Jeremy.\n",
       "\n",
       "<details>\n",
       "\n",
       "- id: resp_6897d4e3859c81a09e4c0bb8776ff226028679f12842a0be\n",
       "- created_at: 1754780899.0\n",
       "- error: None\n",
       "- incomplete_details: None\n",
       "- instructions: You are a helpful assistant. When using tools, be sure to pass all required parameters. Don't use tools unless needed for the provided prompt.\n",
       "- metadata: {}\n",
       "- model: gpt-5-mini-2025-08-07\n",
       "- object: response\n",
       "- output: [ResponseReasoningItem(id='rs_6897d4e4152481a0a46623292dcdd0c4028679f12842a0be', summary=[], type='reasoning', content=None, encrypted_content=None, status=None), ResponseOutputMessage(id='msg_6897d4e45dc481a0b7c10a2e7e1abdd6028679f12842a0be', content=[ResponseOutputText(annotations=[], text='You said your name is Jeremy.', type='output_text', logprobs=[])], role='assistant', status='completed', type='message')]\n",
       "- parallel_tool_calls: True\n",
       "- temperature: 1.0\n",
       "- tool_choice: auto\n",
       "- tools: []\n",
       "- top_p: 1.0\n",
       "- background: False\n",
       "- max_output_tokens: 4096\n",
       "- max_tool_calls: None\n",
       "- previous_response_id: None\n",
       "- prompt: None\n",
       "- prompt_cache_key: None\n",
       "- reasoning: Reasoning(effort='minimal', generate_summary=None, summary=None)\n",
       "- safety_identifier: None\n",
       "- service_tier: default\n",
       "- status: completed\n",
       "- text: ResponseTextConfig(format=ResponseFormatText(type='text'), verbosity='low')\n",
       "- top_logprobs: 0\n",
       "- truncation: disabled\n",
       "- usage: ResponseUsage(input_tokens=68, input_tokens_details=InputTokensDetails(cached_tokens=0), output_tokens=13, output_tokens_details=OutputTokensDetails(reasoning_tokens=0), total_tokens=81)\n",
       "- user: None\n",
       "- store: True\n",
       "\n",
       "</details>"
      ],
      "text/plain": [
       "Response(id='resp_6897d4e3859c81a09e4c0bb8776ff226028679f12842a0be', created_at=1754780899.0, error=None, incomplete_details=None, instructions=\"You are a helpful assistant. When using tools, be sure to pass all required parameters. Don't use tools unless needed for the provided prompt.\", metadata={}, model='gpt-5-mini-2025-08-07', object='response', output=[ResponseReasoningItem(id='rs_6897d4e4152481a0a46623292dcdd0c4028679f12842a0be', summary=[], type='reasoning', content=None, encrypted_content=None, status=None), ResponseOutputMessage(id='msg_6897d4e45dc481a0b7c10a2e7e1abdd6028679f12842a0be', content=[ResponseOutputText(annotations=[], text='You said your name is Jeremy.', type='output_text', logprobs=[])], role='assistant', status='completed', type='message')], parallel_tool_calls=True, temperature=1.0, tool_choice='auto', tools=[], top_p=1.0, background=False, max_output_tokens=4096, max_tool_calls=None, previous_response_id=None, prompt=None, prompt_cache_key=None, reasoning=Reasoning(effort='minimal', generate_summary=None, summary=None), safety_identifier=None, service_tier='default', status='completed', text=ResponseTextConfig(format=ResponseFormatText(type='text'), verbosity='low'), top_logprobs=0, truncation='disabled', usage=In: 68; Out: 13; Total: 81, user=None, store=True)"
      ]
     },
     "execution_count": null,
     "metadata": {},
     "output_type": "execute_result"
    }
   ],
   "source": [
    "chat(\"I'm Jeremy\")\n",
    "chat(\"What's my name?\")"
   ]
  },
  {
   "cell_type": "code",
   "execution_count": null,
   "id": "529104ec",
   "metadata": {},
   "outputs": [
    {
     "name": "stdout",
     "output_type": "stream",
     "text": [
      "Nice to meet you, Jeremy. How can I help you today?"
     ]
    }
   ],
   "source": [
    "chat = Chat(model, sp=sysp, **rkw)\n",
    "for o in chat(\"I'm Jeremy\", stream=True): print(o, end='')"
   ]
  },
  {
   "cell_type": "code",
   "execution_count": null,
   "id": "43ef61f7",
   "metadata": {},
   "outputs": [
    {
     "name": "stdout",
     "output_type": "stream",
     "text": [
      "Your name is Jeremy."
     ]
    }
   ],
   "source": [
    "r = chat(\"What's my name?\", stream=True, **rkw)\n",
    "for o in r: print(o, end='')"
   ]
  },
  {
   "cell_type": "code",
   "execution_count": null,
   "id": "d035c251",
   "metadata": {},
   "outputs": [
    {
     "data": {
      "text/markdown": [
       "Your name is Jeremy.\n",
       "\n",
       "<details>\n",
       "\n",
       "- id: resp_6897d4fefaf481a0a8d73f99e538c4660d7980b96cc8aea2\n",
       "- created_at: 1754780927.0\n",
       "- error: None\n",
       "- incomplete_details: None\n",
       "- instructions: You are a helpful assistant. When using tools, be sure to pass all required parameters. Don't use tools unless needed for the provided prompt.\n",
       "- metadata: {}\n",
       "- model: gpt-5-mini-2025-08-07\n",
       "- object: response\n",
       "- output: [ResponseReasoningItem(id='rs_6897d4ff574c81a0a391da4adbc4974f0d7980b96cc8aea2', summary=[], type='reasoning', content=None, encrypted_content=None, status=None), ResponseOutputMessage(id='msg_6897d4ff7a6c81a0bdf0b159c3ca5b990d7980b96cc8aea2', content=[ResponseOutputText(annotations=[], text='Your name is Jeremy.', type='output_text', logprobs=[])], role='assistant', status='completed', type='message')]\n",
       "- parallel_tool_calls: True\n",
       "- temperature: 1.0\n",
       "- tool_choice: auto\n",
       "- tools: []\n",
       "- top_p: 1.0\n",
       "- background: False\n",
       "- max_output_tokens: 4096\n",
       "- max_tool_calls: None\n",
       "- previous_response_id: None\n",
       "- prompt: None\n",
       "- prompt_cache_key: None\n",
       "- reasoning: Reasoning(effort='minimal', generate_summary=None, summary=None)\n",
       "- safety_identifier: None\n",
       "- service_tier: default\n",
       "- status: completed\n",
       "- text: ResponseTextConfig(format=ResponseFormatText(type='text'), verbosity='low')\n",
       "- top_logprobs: 0\n",
       "- truncation: disabled\n",
       "- usage: ResponseUsage(input_tokens=68, input_tokens_details=InputTokensDetails(cached_tokens=0), output_tokens=11, output_tokens_details=OutputTokensDetails(reasoning_tokens=0), total_tokens=79)\n",
       "- user: None\n",
       "- store: True\n",
       "\n",
       "</details>"
      ],
      "text/plain": [
       "Response(id='resp_6897d4fefaf481a0a8d73f99e538c4660d7980b96cc8aea2', created_at=1754780927.0, error=None, incomplete_details=None, instructions=\"You are a helpful assistant. When using tools, be sure to pass all required parameters. Don't use tools unless needed for the provided prompt.\", metadata={}, model='gpt-5-mini-2025-08-07', object='response', output=[ResponseReasoningItem(id='rs_6897d4ff574c81a0a391da4adbc4974f0d7980b96cc8aea2', summary=[], type='reasoning', content=None, encrypted_content=None, status=None), ResponseOutputMessage(id='msg_6897d4ff7a6c81a0bdf0b159c3ca5b990d7980b96cc8aea2', content=[ResponseOutputText(annotations=[], text='Your name is Jeremy.', type='output_text', logprobs=[])], role='assistant', status='completed', type='message')], parallel_tool_calls=True, temperature=1.0, tool_choice='auto', tools=[], top_p=1.0, background=False, max_output_tokens=4096, max_tool_calls=None, previous_response_id=None, prompt=None, prompt_cache_key=None, reasoning=Reasoning(effort='minimal', generate_summary=None, summary=None), safety_identifier=None, service_tier='default', status='completed', text=ResponseTextConfig(format=ResponseFormatText(type='text'), verbosity='low'), top_logprobs=0, truncation='disabled', usage=In: 68; Out: 11; Total: 79, user=None, store=True)"
      ]
     },
     "execution_count": null,
     "metadata": {},
     "output_type": "execute_result"
    }
   ],
   "source": [
    "r.value"
   ]
  },
  {
   "cell_type": "markdown",
   "id": "89fe4027",
   "metadata": {},
   "source": [
    "History is stored in the `h` attr:"
   ]
  },
  {
   "cell_type": "code",
   "execution_count": null,
   "id": "425f8aa8",
   "metadata": {},
   "outputs": [
    {
     "data": {
      "text/plain": [
       "[{'role': 'user', 'content': \"I'm Jeremy\"},\n",
       " ResponseReasoningItem(id='rs_6897d4fce8c881a08804bababd51473f0d7980b96cc8aea2', summary=[], type='reasoning', content=None, encrypted_content=None, status=None),\n",
       " ResponseOutputMessage(id='msg_6897d4fd045081a0ace336e7851c7c0a0d7980b96cc8aea2', content=[ResponseOutputText(annotations=[], text='Nice to meet you, Jeremy. How can I help you today?', type='output_text', logprobs=[])], role='assistant', status='completed', type='message'),\n",
       " {'role': 'user', 'content': \"What's my name?\"},\n",
       " ResponseReasoningItem(id='rs_6897d4ff574c81a0a391da4adbc4974f0d7980b96cc8aea2', summary=[], type='reasoning', content=None, encrypted_content=None, status=None),\n",
       " ResponseOutputMessage(id='msg_6897d4ff7a6c81a0bdf0b159c3ca5b990d7980b96cc8aea2', content=[ResponseOutputText(annotations=[], text='Your name is Jeremy.', type='output_text', logprobs=[])], role='assistant', status='completed', type='message')]"
      ]
     },
     "execution_count": null,
     "metadata": {},
     "output_type": "execute_result"
    }
   ],
   "source": [
    "chat.h"
   ]
  },
  {
   "cell_type": "markdown",
   "id": "6b40892f",
   "metadata": {},
   "source": [
    "### Chat tool use"
   ]
  },
  {
   "cell_type": "code",
   "execution_count": null,
   "id": "ee6535cf",
   "metadata": {},
   "outputs": [
    {
     "data": {
      "text/plain": [
       "'What is 604542+6458932?'"
      ]
     },
     "execution_count": null,
     "metadata": {},
     "output_type": "execute_result"
    }
   ],
   "source": [
    "pr = f\"What is {a}+{b}?\"\n",
    "pr"
   ]
  },
  {
   "cell_type": "code",
   "execution_count": null,
   "id": "a68b7322",
   "metadata": {},
   "outputs": [
    {
     "name": "stdout",
     "output_type": "stream",
     "text": [
      "Finding the sum of 604542 and 6458932\n"
     ]
    },
    {
     "data": {
      "text/plain": [
       "[ResponseReasoningItem(id='rs_6897d50827fc819396ded0a212b4007d0bef3dfa0a48e169', summary=[], type='reasoning', content=None, encrypted_content=None, status=None),\n",
       " ResponseFunctionToolCall(arguments='{\"a\":604542,\"b\":6458932}', call_id='call_5V1JqCfcUBNqIdD6YDixgWSq', name='sums', type='function_call', id='fc_6897d508600c8193ba31f085b085351c0bef3dfa0a48e169', status='completed')]"
      ]
     },
     "execution_count": null,
     "metadata": {},
     "output_type": "execute_result"
    }
   ],
   "source": [
    "chat = Chat(model, sp=sysp, tools=[sums], **rkw)\n",
    "r = chat(pr)\n",
    "r.output"
   ]
  },
  {
   "cell_type": "code",
   "execution_count": null,
   "id": "0979c832",
   "metadata": {},
   "outputs": [
    {
     "data": {
      "text/markdown": [
       "7063474\n",
       "\n",
       "<details>\n",
       "\n",
       "- id: resp_6897d50927f88193b382e22544a32ccb0bef3dfa0a48e169\n",
       "- created_at: 1754780937.0\n",
       "- error: None\n",
       "- incomplete_details: None\n",
       "- instructions: You are a helpful assistant. When using tools, be sure to pass all required parameters. Don't use tools unless needed for the provided prompt.\n",
       "- metadata: {}\n",
       "- model: gpt-5-mini-2025-08-07\n",
       "- object: response\n",
       "- output: [ResponseOutputMessage(id='msg_6897d509c86c8193aae59f13361a176f0bef3dfa0a48e169', content=[ResponseOutputText(annotations=[], text='7063474', type='output_text', logprobs=[])], role='assistant', status='completed', type='message')]\n",
       "- parallel_tool_calls: True\n",
       "- temperature: 1.0\n",
       "- tool_choice: auto\n",
       "- tools: [FunctionTool(name='sums', parameters={'type': 'object', 'properties': {'a': {'type': 'integer', 'description': 'First thing to sum'}, 'b': {'type': 'integer', 'description': 'Second thing to sum'}}, 'required': ['a', 'b'], 'additionalProperties': False}, strict=True, type='function', description='Adds a + b.\\n\\nReturns:\\n- type: integer')]\n",
       "- top_p: 1.0\n",
       "- background: False\n",
       "- max_output_tokens: 4096\n",
       "- max_tool_calls: None\n",
       "- previous_response_id: None\n",
       "- prompt: None\n",
       "- prompt_cache_key: None\n",
       "- reasoning: Reasoning(effort='minimal', generate_summary=None, summary=None)\n",
       "- safety_identifier: None\n",
       "- service_tier: default\n",
       "- status: completed\n",
       "- text: ResponseTextConfig(format=ResponseFormatText(type='text'), verbosity='low')\n",
       "- top_logprobs: 0\n",
       "- truncation: disabled\n",
       "- usage: ResponseUsage(input_tokens=157, input_tokens_details=InputTokensDetails(cached_tokens=0), output_tokens=7, output_tokens_details=OutputTokensDetails(reasoning_tokens=0), total_tokens=164)\n",
       "- user: None\n",
       "- store: True\n",
       "\n",
       "</details>"
      ],
      "text/plain": [
       "Response(id='resp_6897d50927f88193b382e22544a32ccb0bef3dfa0a48e169', created_at=1754780937.0, error=None, incomplete_details=None, instructions=\"You are a helpful assistant. When using tools, be sure to pass all required parameters. Don't use tools unless needed for the provided prompt.\", metadata={}, model='gpt-5-mini-2025-08-07', object='response', output=[ResponseOutputMessage(id='msg_6897d509c86c8193aae59f13361a176f0bef3dfa0a48e169', content=[ResponseOutputText(annotations=[], text='7063474', type='output_text', logprobs=[])], role='assistant', status='completed', type='message')], parallel_tool_calls=True, temperature=1.0, tool_choice='auto', tools=[FunctionTool(name='sums', parameters={'type': 'object', 'properties': {'a': {'type': 'integer', 'description': 'First thing to sum'}, 'b': {'type': 'integer', 'description': 'Second thing to sum'}}, 'required': ['a', 'b'], 'additionalProperties': False}, strict=True, type='function', description='Adds a + b.\\n\\nReturns:\\n- type: integer')], top_p=1.0, background=False, max_output_tokens=4096, max_tool_calls=None, previous_response_id=None, prompt=None, prompt_cache_key=None, reasoning=Reasoning(effort='minimal', generate_summary=None, summary=None), safety_identifier=None, service_tier='default', status='completed', text=ResponseTextConfig(format=ResponseFormatText(type='text'), verbosity='low'), top_logprobs=0, truncation='disabled', usage=In: 157; Out: 7; Total: 164, user=None, store=True)"
      ]
     },
     "execution_count": null,
     "metadata": {},
     "output_type": "execute_result"
    }
   ],
   "source": [
    "chat()"
   ]
  },
  {
   "cell_type": "code",
   "execution_count": null,
   "id": "f4e0cb71",
   "metadata": {},
   "outputs": [
    {
     "data": {
      "text/markdown": [
       "Purple\n",
       "\n",
       "<details>\n",
       "\n",
       "- id: resp_6897d50ae24c819381991f7c960a02e10bef3dfa0a48e169\n",
       "- created_at: 1754780938.0\n",
       "- error: None\n",
       "- incomplete_details: None\n",
       "- instructions: You are a helpful assistant. When using tools, be sure to pass all required parameters. Don't use tools unless needed for the provided prompt.\n",
       "- metadata: {}\n",
       "- model: gpt-5-mini-2025-08-07\n",
       "- object: response\n",
       "- output: [ResponseReasoningItem(id='rs_6897d50b5c648193b2e1b02c0e9fc47f0bef3dfa0a48e169', summary=[], type='reasoning', content=None, encrypted_content=None, status=None), ResponseOutputMessage(id='msg_6897d50b76e88193b57c29e041953e410bef3dfa0a48e169', content=[ResponseOutputText(annotations=[], text='Purple', type='output_text', logprobs=[])], role='assistant', status='completed', type='message')]\n",
       "- parallel_tool_calls: True\n",
       "- temperature: 1.0\n",
       "- tool_choice: auto\n",
       "- tools: [FunctionTool(name='sums', parameters={'type': 'object', 'properties': {'a': {'type': 'integer', 'description': 'First thing to sum'}, 'b': {'type': 'integer', 'description': 'Second thing to sum'}}, 'required': ['a', 'b'], 'additionalProperties': False}, strict=True, type='function', description='Adds a + b.\\n\\nReturns:\\n- type: integer')]\n",
       "- top_p: 1.0\n",
       "- background: False\n",
       "- max_output_tokens: 4096\n",
       "- max_tool_calls: None\n",
       "- previous_response_id: None\n",
       "- prompt: None\n",
       "- prompt_cache_key: None\n",
       "- reasoning: Reasoning(effort='minimal', generate_summary=None, summary=None)\n",
       "- safety_identifier: None\n",
       "- service_tier: default\n",
       "- status: completed\n",
       "- text: ResponseTextConfig(format=ResponseFormatText(type='text'), verbosity='low')\n",
       "- top_logprobs: 0\n",
       "- truncation: disabled\n",
       "- usage: ResponseUsage(input_tokens=255, input_tokens_details=InputTokensDetails(cached_tokens=0), output_tokens=7, output_tokens_details=OutputTokensDetails(reasoning_tokens=0), total_tokens=262)\n",
       "- user: None\n",
       "- store: True\n",
       "\n",
       "</details>"
      ],
      "text/plain": [
       "Response(id='resp_6897d50ae24c819381991f7c960a02e10bef3dfa0a48e169', created_at=1754780938.0, error=None, incomplete_details=None, instructions=\"You are a helpful assistant. When using tools, be sure to pass all required parameters. Don't use tools unless needed for the provided prompt.\", metadata={}, model='gpt-5-mini-2025-08-07', object='response', output=[ResponseReasoningItem(id='rs_6897d50b5c648193b2e1b02c0e9fc47f0bef3dfa0a48e169', summary=[], type='reasoning', content=None, encrypted_content=None, status=None), ResponseOutputMessage(id='msg_6897d50b76e88193b57c29e041953e410bef3dfa0a48e169', content=[ResponseOutputText(annotations=[], text='Purple', type='output_text', logprobs=[])], role='assistant', status='completed', type='message')], parallel_tool_calls=True, temperature=1.0, tool_choice='auto', tools=[FunctionTool(name='sums', parameters={'type': 'object', 'properties': {'a': {'type': 'integer', 'description': 'First thing to sum'}, 'b': {'type': 'integer', 'description': 'Second thing to sum'}}, 'required': ['a', 'b'], 'additionalProperties': False}, strict=True, type='function', description='Adds a + b.\\n\\nReturns:\\n- type: integer')], top_p=1.0, background=False, max_output_tokens=4096, max_tool_calls=None, previous_response_id=None, prompt=None, prompt_cache_key=None, reasoning=Reasoning(effort='minimal', generate_summary=None, summary=None), safety_identifier=None, service_tier='default', status='completed', text=ResponseTextConfig(format=ResponseFormatText(type='text'), verbosity='low'), top_logprobs=0, truncation='disabled', usage=In: 255; Out: 7; Total: 262, user=None, store=True)"
      ]
     },
     "execution_count": null,
     "metadata": {},
     "output_type": "execute_result"
    }
   ],
   "source": [
    "q = \"In brief, what color flowers are in this image?\"\n",
    "chat([img, q])"
   ]
  },
  {
   "cell_type": "markdown",
   "id": "7dc18d6c",
   "metadata": {},
   "source": [
    "## Third Party Providers"
   ]
  },
  {
   "cell_type": "markdown",
   "id": "acf7626b",
   "metadata": {},
   "source": [
    "### Azure OpenAI Service"
   ]
  },
  {
   "cell_type": "code",
   "execution_count": null,
   "id": "80455a73",
   "metadata": {},
   "outputs": [],
   "source": [
    "#| export\n",
    "models_azure = 'o1-preview', 'o1-mini', 'gpt-4o', 'gpt-4o-mini', 'gpt-4-turbo', 'gpt-4', 'gpt-4-32k', 'gpt-3.5-turbo', 'gpt-3.5-turbo-instruct', 'o1', 'o3-mini', 'chatgpt-4o-latest', 'o1-pro', 'o3', 'o4-mini', 'gpt-4.1', 'gpt-4.1-mini', 'gpt-4.1-nano'"
   ]
  },
  {
   "cell_type": "markdown",
   "id": "4e056a52",
   "metadata": {},
   "source": [
    "Example Azure usage:\n",
    "\n",
    "```python\n",
    "azure_endpoint = AzureOpenAI(\n",
    "  azure_endpoint = os.getenv(\"AZURE_OPENAI_ENDPOINT\"), \n",
    "  api_key=os.getenv(\"AZURE_OPENAI_API_KEY\"),  \n",
    "  api_version=\"2024-08-01-preview\"\n",
    ")\n",
    "\n",
    "client = Client(models_azure[0], azure_endpoint)\n",
    "chat = Chat(cli=client)\n",
    "chat(\"Hi.\")\n",
    "```"
   ]
  },
  {
   "cell_type": "markdown",
   "id": "94ec4289",
   "metadata": {},
   "source": [
    "## Export -"
   ]
  },
  {
   "cell_type": "code",
   "execution_count": null,
   "id": "1e9ee5c1",
   "metadata": {},
   "outputs": [],
   "source": [
    "#|hide\n",
    "#|eval: false\n",
    "from nbdev.doclinks import nbdev_export\n",
    "nbdev_export()"
   ]
  },
  {
   "cell_type": "code",
   "execution_count": null,
   "id": "207f9715",
   "metadata": {},
   "outputs": [],
   "source": []
  }
 ],
 "metadata": {
  "kernelspec": {
   "display_name": "python3",
   "language": "python",
   "name": "python3"
  }
 },
 "nbformat": 4,
 "nbformat_minor": 5
}
